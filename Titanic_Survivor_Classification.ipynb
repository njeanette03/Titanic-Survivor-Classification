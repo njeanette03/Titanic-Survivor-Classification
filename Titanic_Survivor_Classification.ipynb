{
  "nbformat": 4,
  "nbformat_minor": 0,
  "metadata": {
    "colab": {
      "provenance": []
    },
    "kernelspec": {
      "name": "ir",
      "display_name": "R"
    },
    "language_info": {
      "name": "R"
    }
  },
  "cells": [
    {
      "cell_type": "markdown",
      "source": [
        "## **Overview**:\n",
        "Using the Titanic dataset, I explore the following machine learning classification algorithms and choose the best model accordingly.\n",
        "\n",
        "0. Null Model\n",
        "1. kNN\n",
        "2. Boosted C5.0\n",
        "3. Random Forest\n",
        "4. Logistic Regression using regularization\n",
        "5. Naive Bayes"
      ],
      "metadata": {
        "id": "BQvbb8O8smya"
      }
    },
    {
      "cell_type": "markdown",
      "source": [
        "## Data\n",
        "The training and test datasets are used from the titanic R package. Note that the titanic_train has the Survived variable and the titanic_train dataset does not. Therefore, I selected a training and validation dataset from titanic_train to evaluate the models."
      ],
      "metadata": {
        "id": "xhqc2O0ytzd0"
      }
    },
    {
      "cell_type": "code",
      "source": [
        "# Install packages\n",
        "install.packages(\"titanic\")\n",
        "install.packages(\"pacman\")\n",
        "install.packages(\"randomForest\")\n",
        "install.packages(\"pROC\")"
      ],
      "metadata": {
        "colab": {
          "base_uri": "https://localhost:8080/"
        },
        "id": "fW2vgtbXs8bf",
        "outputId": "283e557b-3526-4b53-afdc-7bf7c3c08675"
      },
      "execution_count": 52,
      "outputs": [
        {
          "output_type": "stream",
          "name": "stderr",
          "text": [
            "Installing package into ‘/usr/local/lib/R/site-library’\n",
            "(as ‘lib’ is unspecified)\n",
            "\n",
            "Installing package into ‘/usr/local/lib/R/site-library’\n",
            "(as ‘lib’ is unspecified)\n",
            "\n",
            "Installing package into ‘/usr/local/lib/R/site-library’\n",
            "(as ‘lib’ is unspecified)\n",
            "\n",
            "Installing package into ‘/usr/local/lib/R/site-library’\n",
            "(as ‘lib’ is unspecified)\n",
            "\n"
          ]
        }
      ]
    },
    {
      "cell_type": "code",
      "source": [
        "# Load libraries and necessary packages\n",
        "library(titanic)\n",
        "library(randomForest)\n",
        "library(pacman)\n",
        "library(pROC)\n",
        "p_load(titanic, rsample, dplyr, kknn, tidyverse, janitor, naniar, DataExplorer, tidymodels, tidyverse, C50, klaR, agua, discrim)\n"
      ],
      "metadata": {
        "colab": {
          "base_uri": "https://localhost:8080/"
        },
        "id": "j8qIj6vnfTdE",
        "outputId": "d2ff5024-e87a-4042-e86f-bee2d768cea9"
      },
      "execution_count": 53,
      "outputs": [
        {
          "output_type": "stream",
          "name": "stderr",
          "text": [
            "randomForest 4.7-1.1\n",
            "\n",
            "Type rfNews() to see new features/changes/bug fixes.\n",
            "\n",
            "\n",
            "Attaching package: ‘randomForest’\n",
            "\n",
            "\n",
            "The following object is masked from ‘package:ggplot2’:\n",
            "\n",
            "    margin\n",
            "\n",
            "\n",
            "The following object is masked from ‘package:dplyr’:\n",
            "\n",
            "    combine\n",
            "\n",
            "\n",
            "Type 'citation(\"pROC\")' for a citation.\n",
            "\n",
            "\n",
            "Attaching package: ‘pROC’\n",
            "\n",
            "\n",
            "The following objects are masked from ‘package:stats’:\n",
            "\n",
            "    cov, smooth, var\n",
            "\n",
            "\n",
            "Installing package into ‘/usr/local/lib/R/site-library’\n",
            "(as ‘lib’ is unspecified)\n",
            "\n",
            "also installing the dependencies ‘libcoin’, ‘mvtnorm’, ‘inum’, ‘partykit’\n",
            "\n",
            "\n",
            "\n",
            "C50 installed\n",
            "\n",
            "Installing package into ‘/usr/local/lib/R/site-library’\n",
            "(as ‘lib’ is unspecified)\n",
            "\n",
            "also installing the dependencies ‘R.methodsS3’, ‘R.oo’, ‘R.utils’, ‘proxy’, ‘R.cache’, ‘e1071’, ‘styler’, ‘classInt’, ‘labelled’, ‘combinat’, ‘questionr’\n",
            "\n",
            "\n",
            "\n",
            "klaR installed\n",
            "\n",
            "Installing package into ‘/usr/local/lib/R/site-library’\n",
            "(as ‘lib’ is unspecified)\n",
            "\n",
            "also installing the dependencies ‘bitops’, ‘RCurl’, ‘h2o’\n",
            "\n",
            "\n",
            "\n",
            "agua installed\n",
            "\n",
            "Installing package into ‘/usr/local/lib/R/site-library’\n",
            "(as ‘lib’ is unspecified)\n",
            "\n",
            "\n",
            "discrim installed\n",
            "\n"
          ]
        }
      ]
    },
    {
      "cell_type": "code",
      "source": [
        "# Load data\n",
        "data(titanic_train)\n",
        "data(titanic_test)"
      ],
      "metadata": {
        "id": "Fq2QRKJZuqz9"
      },
      "execution_count": 6,
      "outputs": []
    },
    {
      "cell_type": "code",
      "execution_count": 7,
      "metadata": {
        "colab": {
          "base_uri": "https://localhost:8080/",
          "height": 601
        },
        "id": "VN9IFZdhsVYz",
        "outputId": "272da01f-72fa-4f0e-a7fd-e356c63f1ecf"
      },
      "outputs": [
        {
          "output_type": "display_data",
          "data": {
            "text/html": [
              "<table class=\"dataframe\">\n",
              "<caption>A data.frame: 6 × 12</caption>\n",
              "<thead>\n",
              "\t<tr><th></th><th scope=col>PassengerId</th><th scope=col>Survived</th><th scope=col>Pclass</th><th scope=col>Name</th><th scope=col>Sex</th><th scope=col>Age</th><th scope=col>SibSp</th><th scope=col>Parch</th><th scope=col>Ticket</th><th scope=col>Fare</th><th scope=col>Cabin</th><th scope=col>Embarked</th></tr>\n",
              "\t<tr><th></th><th scope=col>&lt;int&gt;</th><th scope=col>&lt;int&gt;</th><th scope=col>&lt;int&gt;</th><th scope=col>&lt;chr&gt;</th><th scope=col>&lt;chr&gt;</th><th scope=col>&lt;dbl&gt;</th><th scope=col>&lt;int&gt;</th><th scope=col>&lt;int&gt;</th><th scope=col>&lt;chr&gt;</th><th scope=col>&lt;dbl&gt;</th><th scope=col>&lt;chr&gt;</th><th scope=col>&lt;chr&gt;</th></tr>\n",
              "</thead>\n",
              "<tbody>\n",
              "\t<tr><th scope=row>1</th><td>1</td><td>0</td><td>3</td><td>Braund, Mr. Owen Harris                            </td><td>male  </td><td>22</td><td>1</td><td>0</td><td>A/5 21171       </td><td> 7.2500</td><td>    </td><td>S</td></tr>\n",
              "\t<tr><th scope=row>2</th><td>2</td><td>1</td><td>1</td><td>Cumings, Mrs. John Bradley (Florence Briggs Thayer)</td><td>female</td><td>38</td><td>1</td><td>0</td><td>PC 17599        </td><td>71.2833</td><td>C85 </td><td>C</td></tr>\n",
              "\t<tr><th scope=row>3</th><td>3</td><td>1</td><td>3</td><td>Heikkinen, Miss. Laina                             </td><td>female</td><td>26</td><td>0</td><td>0</td><td>STON/O2. 3101282</td><td> 7.9250</td><td>    </td><td>S</td></tr>\n",
              "\t<tr><th scope=row>4</th><td>4</td><td>1</td><td>1</td><td>Futrelle, Mrs. Jacques Heath (Lily May Peel)       </td><td>female</td><td>35</td><td>1</td><td>0</td><td>113803          </td><td>53.1000</td><td>C123</td><td>S</td></tr>\n",
              "\t<tr><th scope=row>5</th><td>5</td><td>0</td><td>3</td><td>Allen, Mr. William Henry                           </td><td>male  </td><td>35</td><td>0</td><td>0</td><td>373450          </td><td> 8.0500</td><td>    </td><td>S</td></tr>\n",
              "\t<tr><th scope=row>6</th><td>6</td><td>0</td><td>3</td><td>Moran, Mr. James                                   </td><td>male  </td><td>NA</td><td>0</td><td>0</td><td>330877          </td><td> 8.4583</td><td>    </td><td>Q</td></tr>\n",
              "</tbody>\n",
              "</table>\n"
            ],
            "text/markdown": "\nA data.frame: 6 × 12\n\n| <!--/--> | PassengerId &lt;int&gt; | Survived &lt;int&gt; | Pclass &lt;int&gt; | Name &lt;chr&gt; | Sex &lt;chr&gt; | Age &lt;dbl&gt; | SibSp &lt;int&gt; | Parch &lt;int&gt; | Ticket &lt;chr&gt; | Fare &lt;dbl&gt; | Cabin &lt;chr&gt; | Embarked &lt;chr&gt; |\n|---|---|---|---|---|---|---|---|---|---|---|---|---|\n| 1 | 1 | 0 | 3 | Braund, Mr. Owen Harris                             | male   | 22 | 1 | 0 | A/5 21171        |  7.2500 | <!----> | S |\n| 2 | 2 | 1 | 1 | Cumings, Mrs. John Bradley (Florence Briggs Thayer) | female | 38 | 1 | 0 | PC 17599         | 71.2833 | C85  | C |\n| 3 | 3 | 1 | 3 | Heikkinen, Miss. Laina                              | female | 26 | 0 | 0 | STON/O2. 3101282 |  7.9250 | <!----> | S |\n| 4 | 4 | 1 | 1 | Futrelle, Mrs. Jacques Heath (Lily May Peel)        | female | 35 | 1 | 0 | 113803           | 53.1000 | C123 | S |\n| 5 | 5 | 0 | 3 | Allen, Mr. William Henry                            | male   | 35 | 0 | 0 | 373450           |  8.0500 | <!----> | S |\n| 6 | 6 | 0 | 3 | Moran, Mr. James                                    | male   | NA | 0 | 0 | 330877           |  8.4583 | <!----> | Q |\n\n",
            "text/latex": "A data.frame: 6 × 12\n\\begin{tabular}{r|llllllllllll}\n  & PassengerId & Survived & Pclass & Name & Sex & Age & SibSp & Parch & Ticket & Fare & Cabin & Embarked\\\\\n  & <int> & <int> & <int> & <chr> & <chr> & <dbl> & <int> & <int> & <chr> & <dbl> & <chr> & <chr>\\\\\n\\hline\n\t1 & 1 & 0 & 3 & Braund, Mr. Owen Harris                             & male   & 22 & 1 & 0 & A/5 21171        &  7.2500 &      & S\\\\\n\t2 & 2 & 1 & 1 & Cumings, Mrs. John Bradley (Florence Briggs Thayer) & female & 38 & 1 & 0 & PC 17599         & 71.2833 & C85  & C\\\\\n\t3 & 3 & 1 & 3 & Heikkinen, Miss. Laina                              & female & 26 & 0 & 0 & STON/O2. 3101282 &  7.9250 &      & S\\\\\n\t4 & 4 & 1 & 1 & Futrelle, Mrs. Jacques Heath (Lily May Peel)        & female & 35 & 1 & 0 & 113803           & 53.1000 & C123 & S\\\\\n\t5 & 5 & 0 & 3 & Allen, Mr. William Henry                            & male   & 35 & 0 & 0 & 373450           &  8.0500 &      & S\\\\\n\t6 & 6 & 0 & 3 & Moran, Mr. James                                    & male   & NA & 0 & 0 & 330877           &  8.4583 &      & Q\\\\\n\\end{tabular}\n",
            "text/plain": [
              "  PassengerId Survived Pclass\n",
              "1 1           0        3     \n",
              "2 2           1        1     \n",
              "3 3           1        3     \n",
              "4 4           1        1     \n",
              "5 5           0        3     \n",
              "6 6           0        3     \n",
              "  Name                                                Sex    Age SibSp Parch\n",
              "1 Braund, Mr. Owen Harris                             male   22  1     0    \n",
              "2 Cumings, Mrs. John Bradley (Florence Briggs Thayer) female 38  1     0    \n",
              "3 Heikkinen, Miss. Laina                              female 26  0     0    \n",
              "4 Futrelle, Mrs. Jacques Heath (Lily May Peel)        female 35  1     0    \n",
              "5 Allen, Mr. William Henry                            male   35  0     0    \n",
              "6 Moran, Mr. James                                    male   NA  0     0    \n",
              "  Ticket           Fare    Cabin Embarked\n",
              "1 A/5 21171         7.2500       S       \n",
              "2 PC 17599         71.2833 C85   C       \n",
              "3 STON/O2. 3101282  7.9250       S       \n",
              "4 113803           53.1000 C123  S       \n",
              "5 373450            8.0500       S       \n",
              "6 330877            8.4583       Q       "
            ]
          },
          "metadata": {}
        }
      ],
      "source": [
        "# Preview training data\n",
        "head(titanic_train)"
      ]
    },
    {
      "cell_type": "code",
      "source": [
        "#Preview testing data\n",
        "head(titanic_test)"
      ],
      "metadata": {
        "colab": {
          "base_uri": "https://localhost:8080/",
          "height": 549
        },
        "id": "a1G2vO5awpMm",
        "outputId": "fd2e6351-e256-45a8-d305-1aa03edf39d8"
      },
      "execution_count": 8,
      "outputs": [
        {
          "output_type": "display_data",
          "data": {
            "text/html": [
              "<table class=\"dataframe\">\n",
              "<caption>A data.frame: 6 × 11</caption>\n",
              "<thead>\n",
              "\t<tr><th></th><th scope=col>PassengerId</th><th scope=col>Pclass</th><th scope=col>Name</th><th scope=col>Sex</th><th scope=col>Age</th><th scope=col>SibSp</th><th scope=col>Parch</th><th scope=col>Ticket</th><th scope=col>Fare</th><th scope=col>Cabin</th><th scope=col>Embarked</th></tr>\n",
              "\t<tr><th></th><th scope=col>&lt;int&gt;</th><th scope=col>&lt;int&gt;</th><th scope=col>&lt;chr&gt;</th><th scope=col>&lt;chr&gt;</th><th scope=col>&lt;dbl&gt;</th><th scope=col>&lt;int&gt;</th><th scope=col>&lt;int&gt;</th><th scope=col>&lt;chr&gt;</th><th scope=col>&lt;dbl&gt;</th><th scope=col>&lt;chr&gt;</th><th scope=col>&lt;chr&gt;</th></tr>\n",
              "</thead>\n",
              "<tbody>\n",
              "\t<tr><th scope=row>1</th><td>892</td><td>3</td><td>Kelly, Mr. James                            </td><td>male  </td><td>34.5</td><td>0</td><td>0</td><td>330911 </td><td> 7.8292</td><td></td><td>Q</td></tr>\n",
              "\t<tr><th scope=row>2</th><td>893</td><td>3</td><td>Wilkes, Mrs. James (Ellen Needs)            </td><td>female</td><td>47.0</td><td>1</td><td>0</td><td>363272 </td><td> 7.0000</td><td></td><td>S</td></tr>\n",
              "\t<tr><th scope=row>3</th><td>894</td><td>2</td><td>Myles, Mr. Thomas Francis                   </td><td>male  </td><td>62.0</td><td>0</td><td>0</td><td>240276 </td><td> 9.6875</td><td></td><td>Q</td></tr>\n",
              "\t<tr><th scope=row>4</th><td>895</td><td>3</td><td>Wirz, Mr. Albert                            </td><td>male  </td><td>27.0</td><td>0</td><td>0</td><td>315154 </td><td> 8.6625</td><td></td><td>S</td></tr>\n",
              "\t<tr><th scope=row>5</th><td>896</td><td>3</td><td>Hirvonen, Mrs. Alexander (Helga E Lindqvist)</td><td>female</td><td>22.0</td><td>1</td><td>1</td><td>3101298</td><td>12.2875</td><td></td><td>S</td></tr>\n",
              "\t<tr><th scope=row>6</th><td>897</td><td>3</td><td>Svensson, Mr. Johan Cervin                  </td><td>male  </td><td>14.0</td><td>0</td><td>0</td><td>7538   </td><td> 9.2250</td><td></td><td>S</td></tr>\n",
              "</tbody>\n",
              "</table>\n"
            ],
            "text/markdown": "\nA data.frame: 6 × 11\n\n| <!--/--> | PassengerId &lt;int&gt; | Pclass &lt;int&gt; | Name &lt;chr&gt; | Sex &lt;chr&gt; | Age &lt;dbl&gt; | SibSp &lt;int&gt; | Parch &lt;int&gt; | Ticket &lt;chr&gt; | Fare &lt;dbl&gt; | Cabin &lt;chr&gt; | Embarked &lt;chr&gt; |\n|---|---|---|---|---|---|---|---|---|---|---|---|\n| 1 | 892 | 3 | Kelly, Mr. James                             | male   | 34.5 | 0 | 0 | 330911  |  7.8292 | <!----> | Q |\n| 2 | 893 | 3 | Wilkes, Mrs. James (Ellen Needs)             | female | 47.0 | 1 | 0 | 363272  |  7.0000 | <!----> | S |\n| 3 | 894 | 2 | Myles, Mr. Thomas Francis                    | male   | 62.0 | 0 | 0 | 240276  |  9.6875 | <!----> | Q |\n| 4 | 895 | 3 | Wirz, Mr. Albert                             | male   | 27.0 | 0 | 0 | 315154  |  8.6625 | <!----> | S |\n| 5 | 896 | 3 | Hirvonen, Mrs. Alexander (Helga E Lindqvist) | female | 22.0 | 1 | 1 | 3101298 | 12.2875 | <!----> | S |\n| 6 | 897 | 3 | Svensson, Mr. Johan Cervin                   | male   | 14.0 | 0 | 0 | 7538    |  9.2250 | <!----> | S |\n\n",
            "text/latex": "A data.frame: 6 × 11\n\\begin{tabular}{r|lllllllllll}\n  & PassengerId & Pclass & Name & Sex & Age & SibSp & Parch & Ticket & Fare & Cabin & Embarked\\\\\n  & <int> & <int> & <chr> & <chr> & <dbl> & <int> & <int> & <chr> & <dbl> & <chr> & <chr>\\\\\n\\hline\n\t1 & 892 & 3 & Kelly, Mr. James                             & male   & 34.5 & 0 & 0 & 330911  &  7.8292 &  & Q\\\\\n\t2 & 893 & 3 & Wilkes, Mrs. James (Ellen Needs)             & female & 47.0 & 1 & 0 & 363272  &  7.0000 &  & S\\\\\n\t3 & 894 & 2 & Myles, Mr. Thomas Francis                    & male   & 62.0 & 0 & 0 & 240276  &  9.6875 &  & Q\\\\\n\t4 & 895 & 3 & Wirz, Mr. Albert                             & male   & 27.0 & 0 & 0 & 315154  &  8.6625 &  & S\\\\\n\t5 & 896 & 3 & Hirvonen, Mrs. Alexander (Helga E Lindqvist) & female & 22.0 & 1 & 1 & 3101298 & 12.2875 &  & S\\\\\n\t6 & 897 & 3 & Svensson, Mr. Johan Cervin                   & male   & 14.0 & 0 & 0 & 7538    &  9.2250 &  & S\\\\\n\\end{tabular}\n",
            "text/plain": [
              "  PassengerId Pclass Name                                         Sex    Age \n",
              "1 892         3      Kelly, Mr. James                             male   34.5\n",
              "2 893         3      Wilkes, Mrs. James (Ellen Needs)             female 47.0\n",
              "3 894         2      Myles, Mr. Thomas Francis                    male   62.0\n",
              "4 895         3      Wirz, Mr. Albert                             male   27.0\n",
              "5 896         3      Hirvonen, Mrs. Alexander (Helga E Lindqvist) female 22.0\n",
              "6 897         3      Svensson, Mr. Johan Cervin                   male   14.0\n",
              "  SibSp Parch Ticket  Fare    Cabin Embarked\n",
              "1 0     0     330911   7.8292       Q       \n",
              "2 1     0     363272   7.0000       S       \n",
              "3 0     0     240276   9.6875       Q       \n",
              "4 0     0     315154   8.6625       S       \n",
              "5 1     1     3101298 12.2875       S       \n",
              "6 0     0     7538     9.2250       S       "
            ]
          },
          "metadata": {}
        }
      ]
    },
    {
      "cell_type": "markdown",
      "source": [
        "## Data Cleaning and Exploration"
      ],
      "metadata": {
        "id": "-x0YFNfWwH9s"
      }
    },
    {
      "cell_type": "code",
      "source": [
        "# Clean names for training data\n",
        "titanic_train <- titanic_train %>%\n",
        "  clean_names()\n",
        "head(titanic_train)"
      ],
      "metadata": {
        "colab": {
          "base_uri": "https://localhost:8080/",
          "height": 601
        },
        "id": "b8EGCxdav0nZ",
        "outputId": "0d827d84-3224-42fa-fd20-257cd4ad3a1b"
      },
      "execution_count": 9,
      "outputs": [
        {
          "output_type": "display_data",
          "data": {
            "text/html": [
              "<table class=\"dataframe\">\n",
              "<caption>A data.frame: 6 × 12</caption>\n",
              "<thead>\n",
              "\t<tr><th></th><th scope=col>passenger_id</th><th scope=col>survived</th><th scope=col>pclass</th><th scope=col>name</th><th scope=col>sex</th><th scope=col>age</th><th scope=col>sib_sp</th><th scope=col>parch</th><th scope=col>ticket</th><th scope=col>fare</th><th scope=col>cabin</th><th scope=col>embarked</th></tr>\n",
              "\t<tr><th></th><th scope=col>&lt;int&gt;</th><th scope=col>&lt;int&gt;</th><th scope=col>&lt;int&gt;</th><th scope=col>&lt;chr&gt;</th><th scope=col>&lt;chr&gt;</th><th scope=col>&lt;dbl&gt;</th><th scope=col>&lt;int&gt;</th><th scope=col>&lt;int&gt;</th><th scope=col>&lt;chr&gt;</th><th scope=col>&lt;dbl&gt;</th><th scope=col>&lt;chr&gt;</th><th scope=col>&lt;chr&gt;</th></tr>\n",
              "</thead>\n",
              "<tbody>\n",
              "\t<tr><th scope=row>1</th><td>1</td><td>0</td><td>3</td><td>Braund, Mr. Owen Harris                            </td><td>male  </td><td>22</td><td>1</td><td>0</td><td>A/5 21171       </td><td> 7.2500</td><td>    </td><td>S</td></tr>\n",
              "\t<tr><th scope=row>2</th><td>2</td><td>1</td><td>1</td><td>Cumings, Mrs. John Bradley (Florence Briggs Thayer)</td><td>female</td><td>38</td><td>1</td><td>0</td><td>PC 17599        </td><td>71.2833</td><td>C85 </td><td>C</td></tr>\n",
              "\t<tr><th scope=row>3</th><td>3</td><td>1</td><td>3</td><td>Heikkinen, Miss. Laina                             </td><td>female</td><td>26</td><td>0</td><td>0</td><td>STON/O2. 3101282</td><td> 7.9250</td><td>    </td><td>S</td></tr>\n",
              "\t<tr><th scope=row>4</th><td>4</td><td>1</td><td>1</td><td>Futrelle, Mrs. Jacques Heath (Lily May Peel)       </td><td>female</td><td>35</td><td>1</td><td>0</td><td>113803          </td><td>53.1000</td><td>C123</td><td>S</td></tr>\n",
              "\t<tr><th scope=row>5</th><td>5</td><td>0</td><td>3</td><td>Allen, Mr. William Henry                           </td><td>male  </td><td>35</td><td>0</td><td>0</td><td>373450          </td><td> 8.0500</td><td>    </td><td>S</td></tr>\n",
              "\t<tr><th scope=row>6</th><td>6</td><td>0</td><td>3</td><td>Moran, Mr. James                                   </td><td>male  </td><td>NA</td><td>0</td><td>0</td><td>330877          </td><td> 8.4583</td><td>    </td><td>Q</td></tr>\n",
              "</tbody>\n",
              "</table>\n"
            ],
            "text/markdown": "\nA data.frame: 6 × 12\n\n| <!--/--> | passenger_id &lt;int&gt; | survived &lt;int&gt; | pclass &lt;int&gt; | name &lt;chr&gt; | sex &lt;chr&gt; | age &lt;dbl&gt; | sib_sp &lt;int&gt; | parch &lt;int&gt; | ticket &lt;chr&gt; | fare &lt;dbl&gt; | cabin &lt;chr&gt; | embarked &lt;chr&gt; |\n|---|---|---|---|---|---|---|---|---|---|---|---|---|\n| 1 | 1 | 0 | 3 | Braund, Mr. Owen Harris                             | male   | 22 | 1 | 0 | A/5 21171        |  7.2500 | <!----> | S |\n| 2 | 2 | 1 | 1 | Cumings, Mrs. John Bradley (Florence Briggs Thayer) | female | 38 | 1 | 0 | PC 17599         | 71.2833 | C85  | C |\n| 3 | 3 | 1 | 3 | Heikkinen, Miss. Laina                              | female | 26 | 0 | 0 | STON/O2. 3101282 |  7.9250 | <!----> | S |\n| 4 | 4 | 1 | 1 | Futrelle, Mrs. Jacques Heath (Lily May Peel)        | female | 35 | 1 | 0 | 113803           | 53.1000 | C123 | S |\n| 5 | 5 | 0 | 3 | Allen, Mr. William Henry                            | male   | 35 | 0 | 0 | 373450           |  8.0500 | <!----> | S |\n| 6 | 6 | 0 | 3 | Moran, Mr. James                                    | male   | NA | 0 | 0 | 330877           |  8.4583 | <!----> | Q |\n\n",
            "text/latex": "A data.frame: 6 × 12\n\\begin{tabular}{r|llllllllllll}\n  & passenger\\_id & survived & pclass & name & sex & age & sib\\_sp & parch & ticket & fare & cabin & embarked\\\\\n  & <int> & <int> & <int> & <chr> & <chr> & <dbl> & <int> & <int> & <chr> & <dbl> & <chr> & <chr>\\\\\n\\hline\n\t1 & 1 & 0 & 3 & Braund, Mr. Owen Harris                             & male   & 22 & 1 & 0 & A/5 21171        &  7.2500 &      & S\\\\\n\t2 & 2 & 1 & 1 & Cumings, Mrs. John Bradley (Florence Briggs Thayer) & female & 38 & 1 & 0 & PC 17599         & 71.2833 & C85  & C\\\\\n\t3 & 3 & 1 & 3 & Heikkinen, Miss. Laina                              & female & 26 & 0 & 0 & STON/O2. 3101282 &  7.9250 &      & S\\\\\n\t4 & 4 & 1 & 1 & Futrelle, Mrs. Jacques Heath (Lily May Peel)        & female & 35 & 1 & 0 & 113803           & 53.1000 & C123 & S\\\\\n\t5 & 5 & 0 & 3 & Allen, Mr. William Henry                            & male   & 35 & 0 & 0 & 373450           &  8.0500 &      & S\\\\\n\t6 & 6 & 0 & 3 & Moran, Mr. James                                    & male   & NA & 0 & 0 & 330877           &  8.4583 &      & Q\\\\\n\\end{tabular}\n",
            "text/plain": [
              "  passenger_id survived pclass\n",
              "1 1            0        3     \n",
              "2 2            1        1     \n",
              "3 3            1        3     \n",
              "4 4            1        1     \n",
              "5 5            0        3     \n",
              "6 6            0        3     \n",
              "  name                                                sex    age sib_sp parch\n",
              "1 Braund, Mr. Owen Harris                             male   22  1      0    \n",
              "2 Cumings, Mrs. John Bradley (Florence Briggs Thayer) female 38  1      0    \n",
              "3 Heikkinen, Miss. Laina                              female 26  0      0    \n",
              "4 Futrelle, Mrs. Jacques Heath (Lily May Peel)        female 35  1      0    \n",
              "5 Allen, Mr. William Henry                            male   35  0      0    \n",
              "6 Moran, Mr. James                                    male   NA  0      0    \n",
              "  ticket           fare    cabin embarked\n",
              "1 A/5 21171         7.2500       S       \n",
              "2 PC 17599         71.2833 C85   C       \n",
              "3 STON/O2. 3101282  7.9250       S       \n",
              "4 113803           53.1000 C123  S       \n",
              "5 373450            8.0500       S       \n",
              "6 330877            8.4583       Q       "
            ]
          },
          "metadata": {}
        }
      ]
    },
    {
      "cell_type": "code",
      "source": [
        "# Factor\n",
        "titanic_train2 <- titanic_train %>% dplyr::select(-passenger_id, -name, -ticket, -cabin) %>%\n",
        "  mutate(\n",
        "    survived = as_factor(survived),\n",
        "    pclass = as_factor(pclass),\n",
        "    sex = as_factor(sex),\n",
        "    embarked = as_factor(embarked)\n",
        "  )\n",
        "\n",
        "head(titanic_train2)"
      ],
      "metadata": {
        "colab": {
          "base_uri": "https://localhost:8080/",
          "height": 286
        },
        "id": "T20KIQazwxnH",
        "outputId": "c617c358-28e6-4c95-d5d5-06c68e09064d"
      },
      "execution_count": 10,
      "outputs": [
        {
          "output_type": "display_data",
          "data": {
            "text/html": [
              "<table class=\"dataframe\">\n",
              "<caption>A data.frame: 6 × 8</caption>\n",
              "<thead>\n",
              "\t<tr><th></th><th scope=col>survived</th><th scope=col>pclass</th><th scope=col>sex</th><th scope=col>age</th><th scope=col>sib_sp</th><th scope=col>parch</th><th scope=col>fare</th><th scope=col>embarked</th></tr>\n",
              "\t<tr><th></th><th scope=col>&lt;fct&gt;</th><th scope=col>&lt;fct&gt;</th><th scope=col>&lt;fct&gt;</th><th scope=col>&lt;dbl&gt;</th><th scope=col>&lt;int&gt;</th><th scope=col>&lt;int&gt;</th><th scope=col>&lt;dbl&gt;</th><th scope=col>&lt;fct&gt;</th></tr>\n",
              "</thead>\n",
              "<tbody>\n",
              "\t<tr><th scope=row>1</th><td>0</td><td>3</td><td>male  </td><td>22</td><td>1</td><td>0</td><td> 7.2500</td><td>S</td></tr>\n",
              "\t<tr><th scope=row>2</th><td>1</td><td>1</td><td>female</td><td>38</td><td>1</td><td>0</td><td>71.2833</td><td>C</td></tr>\n",
              "\t<tr><th scope=row>3</th><td>1</td><td>3</td><td>female</td><td>26</td><td>0</td><td>0</td><td> 7.9250</td><td>S</td></tr>\n",
              "\t<tr><th scope=row>4</th><td>1</td><td>1</td><td>female</td><td>35</td><td>1</td><td>0</td><td>53.1000</td><td>S</td></tr>\n",
              "\t<tr><th scope=row>5</th><td>0</td><td>3</td><td>male  </td><td>35</td><td>0</td><td>0</td><td> 8.0500</td><td>S</td></tr>\n",
              "\t<tr><th scope=row>6</th><td>0</td><td>3</td><td>male  </td><td>NA</td><td>0</td><td>0</td><td> 8.4583</td><td>Q</td></tr>\n",
              "</tbody>\n",
              "</table>\n"
            ],
            "text/markdown": "\nA data.frame: 6 × 8\n\n| <!--/--> | survived &lt;fct&gt; | pclass &lt;fct&gt; | sex &lt;fct&gt; | age &lt;dbl&gt; | sib_sp &lt;int&gt; | parch &lt;int&gt; | fare &lt;dbl&gt; | embarked &lt;fct&gt; |\n|---|---|---|---|---|---|---|---|---|\n| 1 | 0 | 3 | male   | 22 | 1 | 0 |  7.2500 | S |\n| 2 | 1 | 1 | female | 38 | 1 | 0 | 71.2833 | C |\n| 3 | 1 | 3 | female | 26 | 0 | 0 |  7.9250 | S |\n| 4 | 1 | 1 | female | 35 | 1 | 0 | 53.1000 | S |\n| 5 | 0 | 3 | male   | 35 | 0 | 0 |  8.0500 | S |\n| 6 | 0 | 3 | male   | NA | 0 | 0 |  8.4583 | Q |\n\n",
            "text/latex": "A data.frame: 6 × 8\n\\begin{tabular}{r|llllllll}\n  & survived & pclass & sex & age & sib\\_sp & parch & fare & embarked\\\\\n  & <fct> & <fct> & <fct> & <dbl> & <int> & <int> & <dbl> & <fct>\\\\\n\\hline\n\t1 & 0 & 3 & male   & 22 & 1 & 0 &  7.2500 & S\\\\\n\t2 & 1 & 1 & female & 38 & 1 & 0 & 71.2833 & C\\\\\n\t3 & 1 & 3 & female & 26 & 0 & 0 &  7.9250 & S\\\\\n\t4 & 1 & 1 & female & 35 & 1 & 0 & 53.1000 & S\\\\\n\t5 & 0 & 3 & male   & 35 & 0 & 0 &  8.0500 & S\\\\\n\t6 & 0 & 3 & male   & NA & 0 & 0 &  8.4583 & Q\\\\\n\\end{tabular}\n",
            "text/plain": [
              "  survived pclass sex    age sib_sp parch fare    embarked\n",
              "1 0        3      male   22  1      0      7.2500 S       \n",
              "2 1        1      female 38  1      0     71.2833 C       \n",
              "3 1        3      female 26  0      0      7.9250 S       \n",
              "4 1        1      female 35  1      0     53.1000 S       \n",
              "5 0        3      male   35  0      0      8.0500 S       \n",
              "6 0        3      male   NA  0      0      8.4583 Q       "
            ]
          },
          "metadata": {}
        }
      ]
    },
    {
      "cell_type": "code",
      "source": [
        "# Clean names for testing data\n",
        "titanic_test <- titanic_test %>% clean_names()\n",
        "head(titanic_test)"
      ],
      "metadata": {
        "colab": {
          "base_uri": "https://localhost:8080/",
          "height": 549
        },
        "id": "8XFldkPmw1ka",
        "outputId": "6fab4287-5735-4439-cd6f-3b59efbe49e8"
      },
      "execution_count": 11,
      "outputs": [
        {
          "output_type": "display_data",
          "data": {
            "text/html": [
              "<table class=\"dataframe\">\n",
              "<caption>A data.frame: 6 × 11</caption>\n",
              "<thead>\n",
              "\t<tr><th></th><th scope=col>passenger_id</th><th scope=col>pclass</th><th scope=col>name</th><th scope=col>sex</th><th scope=col>age</th><th scope=col>sib_sp</th><th scope=col>parch</th><th scope=col>ticket</th><th scope=col>fare</th><th scope=col>cabin</th><th scope=col>embarked</th></tr>\n",
              "\t<tr><th></th><th scope=col>&lt;int&gt;</th><th scope=col>&lt;int&gt;</th><th scope=col>&lt;chr&gt;</th><th scope=col>&lt;chr&gt;</th><th scope=col>&lt;dbl&gt;</th><th scope=col>&lt;int&gt;</th><th scope=col>&lt;int&gt;</th><th scope=col>&lt;chr&gt;</th><th scope=col>&lt;dbl&gt;</th><th scope=col>&lt;chr&gt;</th><th scope=col>&lt;chr&gt;</th></tr>\n",
              "</thead>\n",
              "<tbody>\n",
              "\t<tr><th scope=row>1</th><td>892</td><td>3</td><td>Kelly, Mr. James                            </td><td>male  </td><td>34.5</td><td>0</td><td>0</td><td>330911 </td><td> 7.8292</td><td></td><td>Q</td></tr>\n",
              "\t<tr><th scope=row>2</th><td>893</td><td>3</td><td>Wilkes, Mrs. James (Ellen Needs)            </td><td>female</td><td>47.0</td><td>1</td><td>0</td><td>363272 </td><td> 7.0000</td><td></td><td>S</td></tr>\n",
              "\t<tr><th scope=row>3</th><td>894</td><td>2</td><td>Myles, Mr. Thomas Francis                   </td><td>male  </td><td>62.0</td><td>0</td><td>0</td><td>240276 </td><td> 9.6875</td><td></td><td>Q</td></tr>\n",
              "\t<tr><th scope=row>4</th><td>895</td><td>3</td><td>Wirz, Mr. Albert                            </td><td>male  </td><td>27.0</td><td>0</td><td>0</td><td>315154 </td><td> 8.6625</td><td></td><td>S</td></tr>\n",
              "\t<tr><th scope=row>5</th><td>896</td><td>3</td><td>Hirvonen, Mrs. Alexander (Helga E Lindqvist)</td><td>female</td><td>22.0</td><td>1</td><td>1</td><td>3101298</td><td>12.2875</td><td></td><td>S</td></tr>\n",
              "\t<tr><th scope=row>6</th><td>897</td><td>3</td><td>Svensson, Mr. Johan Cervin                  </td><td>male  </td><td>14.0</td><td>0</td><td>0</td><td>7538   </td><td> 9.2250</td><td></td><td>S</td></tr>\n",
              "</tbody>\n",
              "</table>\n"
            ],
            "text/markdown": "\nA data.frame: 6 × 11\n\n| <!--/--> | passenger_id &lt;int&gt; | pclass &lt;int&gt; | name &lt;chr&gt; | sex &lt;chr&gt; | age &lt;dbl&gt; | sib_sp &lt;int&gt; | parch &lt;int&gt; | ticket &lt;chr&gt; | fare &lt;dbl&gt; | cabin &lt;chr&gt; | embarked &lt;chr&gt; |\n|---|---|---|---|---|---|---|---|---|---|---|---|\n| 1 | 892 | 3 | Kelly, Mr. James                             | male   | 34.5 | 0 | 0 | 330911  |  7.8292 | <!----> | Q |\n| 2 | 893 | 3 | Wilkes, Mrs. James (Ellen Needs)             | female | 47.0 | 1 | 0 | 363272  |  7.0000 | <!----> | S |\n| 3 | 894 | 2 | Myles, Mr. Thomas Francis                    | male   | 62.0 | 0 | 0 | 240276  |  9.6875 | <!----> | Q |\n| 4 | 895 | 3 | Wirz, Mr. Albert                             | male   | 27.0 | 0 | 0 | 315154  |  8.6625 | <!----> | S |\n| 5 | 896 | 3 | Hirvonen, Mrs. Alexander (Helga E Lindqvist) | female | 22.0 | 1 | 1 | 3101298 | 12.2875 | <!----> | S |\n| 6 | 897 | 3 | Svensson, Mr. Johan Cervin                   | male   | 14.0 | 0 | 0 | 7538    |  9.2250 | <!----> | S |\n\n",
            "text/latex": "A data.frame: 6 × 11\n\\begin{tabular}{r|lllllllllll}\n  & passenger\\_id & pclass & name & sex & age & sib\\_sp & parch & ticket & fare & cabin & embarked\\\\\n  & <int> & <int> & <chr> & <chr> & <dbl> & <int> & <int> & <chr> & <dbl> & <chr> & <chr>\\\\\n\\hline\n\t1 & 892 & 3 & Kelly, Mr. James                             & male   & 34.5 & 0 & 0 & 330911  &  7.8292 &  & Q\\\\\n\t2 & 893 & 3 & Wilkes, Mrs. James (Ellen Needs)             & female & 47.0 & 1 & 0 & 363272  &  7.0000 &  & S\\\\\n\t3 & 894 & 2 & Myles, Mr. Thomas Francis                    & male   & 62.0 & 0 & 0 & 240276  &  9.6875 &  & Q\\\\\n\t4 & 895 & 3 & Wirz, Mr. Albert                             & male   & 27.0 & 0 & 0 & 315154  &  8.6625 &  & S\\\\\n\t5 & 896 & 3 & Hirvonen, Mrs. Alexander (Helga E Lindqvist) & female & 22.0 & 1 & 1 & 3101298 & 12.2875 &  & S\\\\\n\t6 & 897 & 3 & Svensson, Mr. Johan Cervin                   & male   & 14.0 & 0 & 0 & 7538    &  9.2250 &  & S\\\\\n\\end{tabular}\n",
            "text/plain": [
              "  passenger_id pclass name                                         sex    age \n",
              "1 892          3      Kelly, Mr. James                             male   34.5\n",
              "2 893          3      Wilkes, Mrs. James (Ellen Needs)             female 47.0\n",
              "3 894          2      Myles, Mr. Thomas Francis                    male   62.0\n",
              "4 895          3      Wirz, Mr. Albert                             male   27.0\n",
              "5 896          3      Hirvonen, Mrs. Alexander (Helga E Lindqvist) female 22.0\n",
              "6 897          3      Svensson, Mr. Johan Cervin                   male   14.0\n",
              "  sib_sp parch ticket  fare    cabin embarked\n",
              "1 0      0     330911   7.8292       Q       \n",
              "2 1      0     363272   7.0000       S       \n",
              "3 0      0     240276   9.6875       Q       \n",
              "4 0      0     315154   8.6625       S       \n",
              "5 1      1     3101298 12.2875       S       \n",
              "6 0      0     7538     9.2250       S       "
            ]
          },
          "metadata": {}
        }
      ]
    },
    {
      "cell_type": "code",
      "source": [
        "# Factor\n",
        "titanic_test2 <- titanic_test %>% select(-passenger_id, -name, -ticket, -cabin) %>%\n",
        "  mutate(\n",
        "    pclass = as_factor(pclass),\n",
        "    sex = as_factor(sex),\n",
        "    embarked = as_factor(embarked)\n",
        "  )\n",
        "\n",
        "head(titanic_test2)"
      ],
      "metadata": {
        "colab": {
          "base_uri": "https://localhost:8080/",
          "height": 286
        },
        "id": "afv25dMGw3tl",
        "outputId": "449d7c58-2662-4c41-f73f-ec5b8a45a2e9"
      },
      "execution_count": 12,
      "outputs": [
        {
          "output_type": "display_data",
          "data": {
            "text/html": [
              "<table class=\"dataframe\">\n",
              "<caption>A data.frame: 6 × 7</caption>\n",
              "<thead>\n",
              "\t<tr><th></th><th scope=col>pclass</th><th scope=col>sex</th><th scope=col>age</th><th scope=col>sib_sp</th><th scope=col>parch</th><th scope=col>fare</th><th scope=col>embarked</th></tr>\n",
              "\t<tr><th></th><th scope=col>&lt;fct&gt;</th><th scope=col>&lt;fct&gt;</th><th scope=col>&lt;dbl&gt;</th><th scope=col>&lt;int&gt;</th><th scope=col>&lt;int&gt;</th><th scope=col>&lt;dbl&gt;</th><th scope=col>&lt;fct&gt;</th></tr>\n",
              "</thead>\n",
              "<tbody>\n",
              "\t<tr><th scope=row>1</th><td>3</td><td>male  </td><td>34.5</td><td>0</td><td>0</td><td> 7.8292</td><td>Q</td></tr>\n",
              "\t<tr><th scope=row>2</th><td>3</td><td>female</td><td>47.0</td><td>1</td><td>0</td><td> 7.0000</td><td>S</td></tr>\n",
              "\t<tr><th scope=row>3</th><td>2</td><td>male  </td><td>62.0</td><td>0</td><td>0</td><td> 9.6875</td><td>Q</td></tr>\n",
              "\t<tr><th scope=row>4</th><td>3</td><td>male  </td><td>27.0</td><td>0</td><td>0</td><td> 8.6625</td><td>S</td></tr>\n",
              "\t<tr><th scope=row>5</th><td>3</td><td>female</td><td>22.0</td><td>1</td><td>1</td><td>12.2875</td><td>S</td></tr>\n",
              "\t<tr><th scope=row>6</th><td>3</td><td>male  </td><td>14.0</td><td>0</td><td>0</td><td> 9.2250</td><td>S</td></tr>\n",
              "</tbody>\n",
              "</table>\n"
            ],
            "text/markdown": "\nA data.frame: 6 × 7\n\n| <!--/--> | pclass &lt;fct&gt; | sex &lt;fct&gt; | age &lt;dbl&gt; | sib_sp &lt;int&gt; | parch &lt;int&gt; | fare &lt;dbl&gt; | embarked &lt;fct&gt; |\n|---|---|---|---|---|---|---|---|\n| 1 | 3 | male   | 34.5 | 0 | 0 |  7.8292 | Q |\n| 2 | 3 | female | 47.0 | 1 | 0 |  7.0000 | S |\n| 3 | 2 | male   | 62.0 | 0 | 0 |  9.6875 | Q |\n| 4 | 3 | male   | 27.0 | 0 | 0 |  8.6625 | S |\n| 5 | 3 | female | 22.0 | 1 | 1 | 12.2875 | S |\n| 6 | 3 | male   | 14.0 | 0 | 0 |  9.2250 | S |\n\n",
            "text/latex": "A data.frame: 6 × 7\n\\begin{tabular}{r|lllllll}\n  & pclass & sex & age & sib\\_sp & parch & fare & embarked\\\\\n  & <fct> & <fct> & <dbl> & <int> & <int> & <dbl> & <fct>\\\\\n\\hline\n\t1 & 3 & male   & 34.5 & 0 & 0 &  7.8292 & Q\\\\\n\t2 & 3 & female & 47.0 & 1 & 0 &  7.0000 & S\\\\\n\t3 & 2 & male   & 62.0 & 0 & 0 &  9.6875 & Q\\\\\n\t4 & 3 & male   & 27.0 & 0 & 0 &  8.6625 & S\\\\\n\t5 & 3 & female & 22.0 & 1 & 1 & 12.2875 & S\\\\\n\t6 & 3 & male   & 14.0 & 0 & 0 &  9.2250 & S\\\\\n\\end{tabular}\n",
            "text/plain": [
              "  pclass sex    age  sib_sp parch fare    embarked\n",
              "1 3      male   34.5 0      0      7.8292 Q       \n",
              "2 3      female 47.0 1      0      7.0000 S       \n",
              "3 2      male   62.0 0      0      9.6875 Q       \n",
              "4 3      male   27.0 0      0      8.6625 S       \n",
              "5 3      female 22.0 1      1     12.2875 S       \n",
              "6 3      male   14.0 0      0      9.2250 S       "
            ]
          },
          "metadata": {}
        }
      ]
    },
    {
      "cell_type": "code",
      "source": [
        "# Check missingness map\n",
        "vis_miss(titanic_train2)"
      ],
      "metadata": {
        "colab": {
          "base_uri": "https://localhost:8080/",
          "height": 437
        },
        "id": "9bf1wUwtw_Xm",
        "outputId": "a2c18d17-df23-40a4-d48f-27b9399d4d5a"
      },
      "execution_count": 13,
      "outputs": [
        {
          "output_type": "display_data",
          "data": {
            "text/plain": [
              "plot without title"
            ],
            "image/png": "[encoded data removed]"
          },
          "metadata": {
            "image/png": {
              "width": 420,
              "height": 420
            }
          }
        }
      ]
    },
    {
      "cell_type": "markdown",
      "source": [
        "## Model Building"
      ],
      "metadata": {
        "id": "mJvUjutKxG2B"
      }
    },
    {
      "cell_type": "markdown",
      "source": [
        "### Model 0: Null Model\n",
        "\n",
        "From below, we have the null model. We take the training set data and split it 80% and test data 20%. We train the data used in the split training dataset. We use step_nzv() to remove the age column because of low variability and use step_meanimpute() to fill in cells that are missing the mean of column. The null model results in an accuracy of 0.6145."
      ],
      "metadata": {
        "id": "s8dcAd36xJqX"
      }
    },
    {
      "cell_type": "code",
      "source": [
        "# Summarize y-variable\n",
        "titanic_train2 %>% group_by(survived) %>%\n",
        "  summarize(n = n()) %>%\n",
        "  mutate(freq = n / sum(n))"
      ],
      "metadata": {
        "colab": {
          "base_uri": "https://localhost:8080/",
          "height": 161
        },
        "id": "Vvity82JxkYk",
        "outputId": "e7d0daa8-28f1-458e-dec8-bb99a534e778"
      },
      "execution_count": 71,
      "outputs": [
        {
          "output_type": "display_data",
          "data": {
            "text/html": [
              "<table class=\"dataframe\">\n",
              "<caption>A tibble: 2 × 3</caption>\n",
              "<thead>\n",
              "\t<tr><th scope=col>survived</th><th scope=col>n</th><th scope=col>freq</th></tr>\n",
              "\t<tr><th scope=col>&lt;fct&gt;</th><th scope=col>&lt;int&gt;</th><th scope=col>&lt;dbl&gt;</th></tr>\n",
              "</thead>\n",
              "<tbody>\n",
              "\t<tr><td>0</td><td>549</td><td>0.6161616</td></tr>\n",
              "\t<tr><td>1</td><td>342</td><td>0.3838384</td></tr>\n",
              "</tbody>\n",
              "</table>\n"
            ],
            "text/markdown": "\nA tibble: 2 × 3\n\n| survived &lt;fct&gt; | n &lt;int&gt; | freq &lt;dbl&gt; |\n|---|---|---|\n| 0 | 549 | 0.6161616 |\n| 1 | 342 | 0.3838384 |\n\n",
            "text/latex": "A tibble: 2 × 3\n\\begin{tabular}{lll}\n survived & n & freq\\\\\n <fct> & <int> & <dbl>\\\\\n\\hline\n\t 0 & 549 & 0.6161616\\\\\n\t 1 & 342 & 0.3838384\\\\\n\\end{tabular}\n",
            "text/plain": [
              "  survived n   freq     \n",
              "1 0        549 0.6161616\n",
              "2 1        342 0.3838384"
            ]
          },
          "metadata": {}
        }
      ]
    },
    {
      "cell_type": "code",
      "source": [
        "# Set seed for reproducibility\n",
        "set.seed(123)\n",
        "\n",
        "# Split dataset 80% in training dataset\n",
        "train <- initial_split(titanic_train2, prop = 0.8)\n",
        "train"
      ],
      "metadata": {
        "colab": {
          "base_uri": "https://localhost:8080/",
          "height": 53
        },
        "id": "7r5jw8v1xoh3",
        "outputId": "c7927250-7537-4d18-b15e-8d613f0b3daf"
      },
      "execution_count": 72,
      "outputs": [
        {
          "output_type": "display_data",
          "data": {
            "text/plain": [
              "<Training/Testing/Total>\n",
              "<712/179/891>"
            ]
          },
          "metadata": {}
        }
      ]
    },
    {
      "cell_type": "code",
      "source": [
        "# Train data\n",
        "train %>%\n",
        "  training() %>%\n",
        "  head()"
      ],
      "metadata": {
        "colab": {
          "base_uri": "https://localhost:8080/",
          "height": 286
        },
        "id": "WTM6UiPWxqo6",
        "outputId": "d3a37706-7a69-4f15-f8b7-258177b2913e"
      },
      "execution_count": 73,
      "outputs": [
        {
          "output_type": "display_data",
          "data": {
            "text/html": [
              "<table class=\"dataframe\">\n",
              "<caption>A data.frame: 6 × 8</caption>\n",
              "<thead>\n",
              "\t<tr><th></th><th scope=col>survived</th><th scope=col>pclass</th><th scope=col>sex</th><th scope=col>age</th><th scope=col>sib_sp</th><th scope=col>parch</th><th scope=col>fare</th><th scope=col>embarked</th></tr>\n",
              "\t<tr><th></th><th scope=col>&lt;fct&gt;</th><th scope=col>&lt;fct&gt;</th><th scope=col>&lt;fct&gt;</th><th scope=col>&lt;dbl&gt;</th><th scope=col>&lt;int&gt;</th><th scope=col>&lt;int&gt;</th><th scope=col>&lt;dbl&gt;</th><th scope=col>&lt;fct&gt;</th></tr>\n",
              "</thead>\n",
              "<tbody>\n",
              "\t<tr><th scope=row>1</th><td>1</td><td>3</td><td>male  </td><td>44.0</td><td>0</td><td>0</td><td> 7.9250</td><td>S</td></tr>\n",
              "\t<tr><th scope=row>2</th><td>0</td><td>1</td><td>male  </td><td>47.0</td><td>0</td><td>0</td><td>38.5000</td><td>S</td></tr>\n",
              "\t<tr><th scope=row>3</th><td>0</td><td>2</td><td>male  </td><td>30.0</td><td>0</td><td>0</td><td>13.0000</td><td>S</td></tr>\n",
              "\t<tr><th scope=row>4</th><td>0</td><td>3</td><td>male  </td><td>40.5</td><td>0</td><td>0</td><td> 7.7500</td><td>Q</td></tr>\n",
              "\t<tr><th scope=row>5</th><td>1</td><td>1</td><td>female</td><td>44.0</td><td>0</td><td>0</td><td>27.7208</td><td>C</td></tr>\n",
              "\t<tr><th scope=row>6</th><td>0</td><td>2</td><td>male  </td><td>31.0</td><td>1</td><td>1</td><td>37.0042</td><td>C</td></tr>\n",
              "</tbody>\n",
              "</table>\n"
            ],
            "text/markdown": "\nA data.frame: 6 × 8\n\n| <!--/--> | survived &lt;fct&gt; | pclass &lt;fct&gt; | sex &lt;fct&gt; | age &lt;dbl&gt; | sib_sp &lt;int&gt; | parch &lt;int&gt; | fare &lt;dbl&gt; | embarked &lt;fct&gt; |\n|---|---|---|---|---|---|---|---|---|\n| 1 | 1 | 3 | male   | 44.0 | 0 | 0 |  7.9250 | S |\n| 2 | 0 | 1 | male   | 47.0 | 0 | 0 | 38.5000 | S |\n| 3 | 0 | 2 | male   | 30.0 | 0 | 0 | 13.0000 | S |\n| 4 | 0 | 3 | male   | 40.5 | 0 | 0 |  7.7500 | Q |\n| 5 | 1 | 1 | female | 44.0 | 0 | 0 | 27.7208 | C |\n| 6 | 0 | 2 | male   | 31.0 | 1 | 1 | 37.0042 | C |\n\n",
            "text/latex": "A data.frame: 6 × 8\n\\begin{tabular}{r|llllllll}\n  & survived & pclass & sex & age & sib\\_sp & parch & fare & embarked\\\\\n  & <fct> & <fct> & <fct> & <dbl> & <int> & <int> & <dbl> & <fct>\\\\\n\\hline\n\t1 & 1 & 3 & male   & 44.0 & 0 & 0 &  7.9250 & S\\\\\n\t2 & 0 & 1 & male   & 47.0 & 0 & 0 & 38.5000 & S\\\\\n\t3 & 0 & 2 & male   & 30.0 & 0 & 0 & 13.0000 & S\\\\\n\t4 & 0 & 3 & male   & 40.5 & 0 & 0 &  7.7500 & Q\\\\\n\t5 & 1 & 1 & female & 44.0 & 0 & 0 & 27.7208 & C\\\\\n\t6 & 0 & 2 & male   & 31.0 & 1 & 1 & 37.0042 & C\\\\\n\\end{tabular}\n",
            "text/plain": [
              "  survived pclass sex    age  sib_sp parch fare    embarked\n",
              "1 1        3      male   44.0 0      0      7.9250 S       \n",
              "2 0        1      male   47.0 0      0     38.5000 S       \n",
              "3 0        2      male   30.0 0      0     13.0000 S       \n",
              "4 0        3      male   40.5 0      0      7.7500 Q       \n",
              "5 1        1      female 44.0 0      0     27.7208 C       \n",
              "6 0        2      male   31.0 1      1     37.0042 C       "
            ]
          },
          "metadata": {}
        }
      ]
    },
    {
      "cell_type": "code",
      "source": [
        "# Recipe for preprocessing\n",
        "train_recipe <- training(train) %>%\n",
        "  recipe(survived ~.) %>%\n",
        "  step_rm(pclass, sex, embarked) %>%\n",
        "  step_nzv(all_predictors()) %>%\n",
        "  step_impute_mean(age) %>%\n",
        "  prep()\n",
        "\n",
        "glimpse(train_recipe)"
      ],
      "metadata": {
        "colab": {
          "base_uri": "https://localhost:8080/"
        },
        "id": "UsxxRUC9xs0e",
        "outputId": "04216882-055d-4db9-b7fb-ba2ae9a5114e"
      },
      "execution_count": 74,
      "outputs": [
        {
          "output_type": "stream",
          "name": "stdout",
          "text": [
            "List of 12\n",
            " $ var_info      : tibble [8 × 4] (S3: tbl_df/tbl/data.frame)\n",
            "  ..$ variable: chr [1:8] \"pclass\" \"sex\" \"age\" \"sib_sp\" ...\n",
            "  ..$ type    :List of 8\n",
            "  ..$ role    : chr [1:8] \"predictor\" \"predictor\" \"predictor\" \"predictor\" ...\n",
            "  ..$ source  : chr [1:8] \"original\" \"original\" \"original\" \"original\" ...\n",
            " $ term_info     : tibble [5 × 4] (S3: tbl_df/tbl/data.frame)\n",
            "  ..$ variable: chr [1:5] \"age\" \"sib_sp\" \"parch\" \"fare\" ...\n",
            "  ..$ type    :List of 5\n",
            "  ..$ role    : chr [1:5] \"predictor\" \"predictor\" \"predictor\" \"predictor\" ...\n",
            "  ..$ source  : chr [1:5] \"original\" \"original\" \"original\" \"original\" ...\n",
            " $ steps         :List of 3\n",
            "  ..$ :List of 6\n",
            "  .. ..$ terms   :List of 3\n",
            "  .. .. ..- attr(*, \"class\")= chr [1:2] \"quosures\" \"list\"\n",
            "  .. ..$ role    : logi NA\n",
            "  .. ..$ trained : logi TRUE\n",
            "  .. ..$ removals: Named chr [1:3] \"pclass\" \"sex\" \"embarked\"\n",
            "  .. .. ..- attr(*, \"names\")= chr [1:3] \"pclass\" \"sex\" \"embarked\"\n",
            "  .. ..$ skip    : logi FALSE\n",
            "  .. ..$ id      : chr \"rm_NoTnz\"\n",
            "  .. ..- attr(*, \"class\")= chr [1:2] \"step_rm\" \"step\"\n",
            "  ..$ :List of 10\n",
            "  .. ..$ terms       :List of 1\n",
            "  .. .. ..- attr(*, \"class\")= chr [1:2] \"quosures\" \"list\"\n",
            "  .. ..$ role        : logi NA\n",
            "  .. ..$ trained     : logi TRUE\n",
            "  .. ..$ freq_cut    : num 19\n",
            "  .. ..$ unique_cut  : num 10\n",
            "  .. ..$ options     :List of 2\n",
            "  .. ..$ removals    : chr(0) \n",
            "  .. ..$ skip        : logi FALSE\n",
            "  .. ..$ id          : chr \"nzv_2R7sW\"\n",
            "  .. ..$ case_weights: NULL\n",
            "  .. ..- attr(*, \"class\")= chr [1:2] \"step_nzv\" \"step\"\n",
            "  ..$ :List of 8\n",
            "  .. ..$ terms       :List of 1\n",
            "  .. .. ..- attr(*, \"class\")= chr [1:2] \"quosures\" \"list\"\n",
            "  .. ..$ role        : logi NA\n",
            "  .. ..$ trained     : logi TRUE\n",
            "  .. ..$ means       :List of 1\n",
            "  .. ..$ trim        : num 0\n",
            "  .. ..$ skip        : logi FALSE\n",
            "  .. ..$ id          : chr \"impute_mean_LkPqg\"\n",
            "  .. ..$ case_weights: NULL\n",
            "  .. ..- attr(*, \"class\")= chr [1:2] \"step_impute_mean\" \"step\"\n",
            " $ template      : tibble [712 × 5] (S3: tbl_df/tbl/data.frame)\n",
            "  ..$ age     : num [1:712] 44 47 30 40.5 44 ...\n",
            "  ..$ sib_sp  : int [1:712] 0 0 0 0 0 1 1 0 0 0 ...\n",
            "  ..$ parch   : int [1:712] 0 0 0 0 0 1 0 0 0 0 ...\n",
            "  ..$ fare    : num [1:712] 7.92 38.5 13 7.75 27.72 ...\n",
            "  ..$ survived: Factor w/ 2 levels \"0\",\"1\": 2 1 1 1 2 1 1 2 1 1 ...\n",
            " $ levels        :List of 5\n",
            "  ..$ age     :List of 2\n",
            "  .. ..$ values : logi NA\n",
            "  .. ..$ ordered: logi NA\n",
            "  ..$ sib_sp  :List of 2\n",
            "  .. ..$ values : logi NA\n",
            "  .. ..$ ordered: logi NA\n",
            "  ..$ parch   :List of 2\n",
            "  .. ..$ values : logi NA\n",
            "  .. ..$ ordered: logi NA\n",
            "  ..$ fare    :List of 2\n",
            "  .. ..$ values : logi NA\n",
            "  .. ..$ ordered: logi NA\n",
            "  ..$ survived:List of 3\n",
            "  .. ..$ values : chr [1:2] \"0\" \"1\"\n",
            "  .. ..$ ordered: logi FALSE\n",
            "  .. ..$ factor : logi TRUE\n",
            " $ retained      : logi TRUE\n",
            " $ requirements  :List of 1\n",
            "  ..$ bake: Named logi(0) \n",
            "  .. ..- attr(*, \"names\")= chr(0) \n",
            " $ ptype         : tibble [0 × 8] (S3: tbl_df/tbl/data.frame)\n",
            "  ..$ pclass  : Factor w/ 3 levels \"1\",\"2\",\"3\": \n",
            "  ..$ sex     : Factor w/ 2 levels \"male\",\"female\": \n",
            "  ..$ age     : num(0) \n",
            "  ..$ sib_sp  : int(0) \n",
            "  ..$ parch   : int(0) \n",
            "  ..$ fare    : num(0) \n",
            "  ..$ embarked: Factor w/ 4 levels \"S\",\"C\",\"Q\",\"\": \n",
            "  ..$ survived: Factor w/ 2 levels \"0\",\"1\": \n",
            " $ tr_info       :'data.frame':\t1 obs. of  2 variables:\n",
            "  ..$ nrows    : int 712\n",
            "  ..$ ncomplete: int 565\n",
            " $ orig_lvls     :List of 8\n",
            "  ..$ pclass  :List of 3\n",
            "  .. ..$ values : chr [1:3] \"1\" \"2\" \"3\"\n",
            "  .. ..$ ordered: logi FALSE\n",
            "  .. ..$ factor : logi TRUE\n",
            "  ..$ sex     :List of 3\n",
            "  .. ..$ values : chr [1:2] \"male\" \"female\"\n",
            "  .. ..$ ordered: logi FALSE\n",
            "  .. ..$ factor : logi TRUE\n",
            "  ..$ age     :List of 2\n",
            "  .. ..$ values : logi NA\n",
            "  .. ..$ ordered: logi NA\n",
            "  ..$ sib_sp  :List of 2\n",
            "  .. ..$ values : logi NA\n",
            "  .. ..$ ordered: logi NA\n",
            "  ..$ parch   :List of 2\n",
            "  .. ..$ values : logi NA\n",
            "  .. ..$ ordered: logi NA\n",
            "  ..$ fare    :List of 2\n",
            "  .. ..$ values : logi NA\n",
            "  .. ..$ ordered: logi NA\n",
            "  ..$ embarked:List of 3\n",
            "  .. ..$ values : chr [1:4] \"S\" \"C\" \"Q\" \"\"\n",
            "  .. ..$ ordered: logi FALSE\n",
            "  .. ..$ factor : logi TRUE\n",
            "  ..$ survived:List of 3\n",
            "  .. ..$ values : chr [1:2] \"0\" \"1\"\n",
            "  .. ..$ ordered: logi FALSE\n",
            "  .. ..$ factor : logi TRUE\n",
            " $ fit_times     : tibble [6 × 2] (S3: tbl_df/tbl/data.frame)\n",
            "  ..$ stage_id: chr [1:6] \"prep.rm_NoTnz\" \"bake.rm_NoTnz\" \"prep.nzv_2R7sW\" \"bake.nzv_2R7sW\" ...\n",
            "  ..$ elapsed : num [1:6] 0.002 0 0.007 0 0.004 ...\n",
            " $ last_term_info: gropd_df [8 × 6] (S3: grouped_df/tbl_df/tbl/data.frame)\n",
            "  ..$ variable: chr [1:8] \"age\" \"embarked\" \"fare\" \"parch\" ...\n",
            "  ..$ type    :List of 8\n",
            "  ..$ role    :List of 8\n",
            "  ..$ source  : chr [1:8] \"original\" \"original\" \"original\" \"original\" ...\n",
            "  ..$ number  : num [1:8] 3 0 3 3 0 0 3 3\n",
            "  ..$ skip    : logi [1:8] FALSE FALSE FALSE FALSE FALSE FALSE ...\n",
            "  ..- attr(*, \"groups\")= tibble [8 × 2] (S3: tbl_df/tbl/data.frame)\n",
            "  .. ..- attr(*, \".drop\")= logi TRUE\n",
            " - attr(*, \"class\")= chr \"recipe\"\n"
          ]
        }
      ]
    },
    {
      "cell_type": "code",
      "source": [
        "# Tidy\n",
        "tidy(train_recipe)"
      ],
      "metadata": {
        "colab": {
          "base_uri": "https://localhost:8080/",
          "height": 192
        },
        "id": "1ubfTwlQyNUQ",
        "outputId": "5a1d0847-e6b2-4fc7-ecdc-90fb866b3302"
      },
      "execution_count": 75,
      "outputs": [
        {
          "output_type": "display_data",
          "data": {
            "text/html": [
              "<table class=\"dataframe\">\n",
              "<caption>A tibble: 3 × 6</caption>\n",
              "<thead>\n",
              "\t<tr><th scope=col>number</th><th scope=col>operation</th><th scope=col>type</th><th scope=col>trained</th><th scope=col>skip</th><th scope=col>id</th></tr>\n",
              "\t<tr><th scope=col>&lt;int&gt;</th><th scope=col>&lt;chr&gt;</th><th scope=col>&lt;chr&gt;</th><th scope=col>&lt;lgl&gt;</th><th scope=col>&lt;lgl&gt;</th><th scope=col>&lt;chr&gt;</th></tr>\n",
              "</thead>\n",
              "<tbody>\n",
              "\t<tr><td>1</td><td>step</td><td>rm         </td><td>TRUE</td><td>FALSE</td><td>rm_NoTnz         </td></tr>\n",
              "\t<tr><td>2</td><td>step</td><td>nzv        </td><td>TRUE</td><td>FALSE</td><td>nzv_2R7sW        </td></tr>\n",
              "\t<tr><td>3</td><td>step</td><td>impute_mean</td><td>TRUE</td><td>FALSE</td><td>impute_mean_LkPqg</td></tr>\n",
              "</tbody>\n",
              "</table>\n"
            ],
            "text/markdown": "\nA tibble: 3 × 6\n\n| number &lt;int&gt; | operation &lt;chr&gt; | type &lt;chr&gt; | trained &lt;lgl&gt; | skip &lt;lgl&gt; | id &lt;chr&gt; |\n|---|---|---|---|---|---|\n| 1 | step | rm          | TRUE | FALSE | rm_NoTnz          |\n| 2 | step | nzv         | TRUE | FALSE | nzv_2R7sW         |\n| 3 | step | impute_mean | TRUE | FALSE | impute_mean_LkPqg |\n\n",
            "text/latex": "A tibble: 3 × 6\n\\begin{tabular}{llllll}\n number & operation & type & trained & skip & id\\\\\n <int> & <chr> & <chr> & <lgl> & <lgl> & <chr>\\\\\n\\hline\n\t 1 & step & rm          & TRUE & FALSE & rm\\_NoTnz         \\\\\n\t 2 & step & nzv         & TRUE & FALSE & nzv\\_2R7sW        \\\\\n\t 3 & step & impute\\_mean & TRUE & FALSE & impute\\_mean\\_LkPqg\\\\\n\\end{tabular}\n",
            "text/plain": [
              "  number operation type        trained skip  id               \n",
              "1 1      step      rm          TRUE    FALSE rm_NoTnz         \n",
              "2 2      step      nzv         TRUE    FALSE nzv_2R7sW        \n",
              "3 3      step      impute_mean TRUE    FALSE impute_mean_LkPqg"
            ]
          },
          "metadata": {}
        }
      ]
    },
    {
      "cell_type": "code",
      "source": [
        "# Apply recipe so age variable to be complete\n",
        "train_testing <- train_recipe %>%\n",
        "  bake(testing(train))\n",
        "\n",
        "train_testing"
      ],
      "metadata": {
        "colab": {
          "base_uri": "https://localhost:8080/",
          "height": 1000
        },
        "id": "M_QCqPsHyQ5D",
        "outputId": "79e3e37a-5abe-4b64-b271-70e0893321db"
      },
      "execution_count": 76,
      "outputs": [
        {
          "output_type": "display_data",
          "data": {
            "text/html": [
              "<table class=\"dataframe\">\n",
              "<caption>A tibble: 179 × 5</caption>\n",
              "<thead>\n",
              "\t<tr><th scope=col>age</th><th scope=col>sib_sp</th><th scope=col>parch</th><th scope=col>fare</th><th scope=col>survived</th></tr>\n",
              "\t<tr><th scope=col>&lt;dbl&gt;</th><th scope=col>&lt;int&gt;</th><th scope=col>&lt;int&gt;</th><th scope=col>&lt;dbl&gt;</th><th scope=col>&lt;fct&gt;</th></tr>\n",
              "</thead>\n",
              "<tbody>\n",
              "\t<tr><td>22.00000</td><td>1</td><td>0</td><td>  7.2500</td><td>0</td></tr>\n",
              "\t<tr><td>26.00000</td><td>0</td><td>0</td><td>  7.9250</td><td>1</td></tr>\n",
              "\t<tr><td>54.00000</td><td>0</td><td>0</td><td> 51.8625</td><td>0</td></tr>\n",
              "\t<tr><td>58.00000</td><td>0</td><td>0</td><td> 26.5500</td><td>1</td></tr>\n",
              "\t<tr><td>14.00000</td><td>0</td><td>0</td><td>  7.8542</td><td>0</td></tr>\n",
              "\t<tr><td>29.91726</td><td>0</td><td>0</td><td> 13.0000</td><td>1</td></tr>\n",
              "\t<tr><td>34.00000</td><td>0</td><td>0</td><td> 13.0000</td><td>1</td></tr>\n",
              "\t<tr><td>29.91726</td><td>0</td><td>0</td><td>  7.2250</td><td>0</td></tr>\n",
              "\t<tr><td>19.00000</td><td>3</td><td>2</td><td>263.0000</td><td>0</td></tr>\n",
              "\t<tr><td>29.91726</td><td>1</td><td>0</td><td>146.5208</td><td>1</td></tr>\n",
              "\t<tr><td>29.91726</td><td>0</td><td>0</td><td>  7.8958</td><td>0</td></tr>\n",
              "\t<tr><td> 3.00000</td><td>1</td><td>2</td><td> 41.5792</td><td>1</td></tr>\n",
              "\t<tr><td>38.00000</td><td>0</td><td>0</td><td> 80.0000</td><td>1</td></tr>\n",
              "\t<tr><td>45.00000</td><td>1</td><td>0</td><td> 83.4750</td><td>0</td></tr>\n",
              "\t<tr><td>21.00000</td><td>0</td><td>0</td><td> 73.5000</td><td>0</td></tr>\n",
              "\t<tr><td>29.00000</td><td>0</td><td>0</td><td>  9.5000</td><td>1</td></tr>\n",
              "\t<tr><td>33.00000</td><td>3</td><td>0</td><td> 15.8500</td><td>1</td></tr>\n",
              "\t<tr><td>20.00000</td><td>0</td><td>0</td><td>  7.8542</td><td>0</td></tr>\n",
              "\t<tr><td>71.00000</td><td>0</td><td>0</td><td> 34.6542</td><td>0</td></tr>\n",
              "\t<tr><td>28.00000</td><td>0</td><td>0</td><td>  7.8958</td><td>0</td></tr>\n",
              "\t<tr><td>29.91726</td><td>0</td><td>0</td><td>  7.8958</td><td>0</td></tr>\n",
              "\t<tr><td>21.00000</td><td>0</td><td>0</td><td>  7.6500</td><td>1</td></tr>\n",
              "\t<tr><td>12.00000</td><td>1</td><td>0</td><td> 11.2417</td><td>1</td></tr>\n",
              "\t<tr><td>47.00000</td><td>1</td><td>0</td><td> 14.5000</td><td>0</td></tr>\n",
              "\t<tr><td>24.00000</td><td>0</td><td>0</td><td> 79.2000</td><td>0</td></tr>\n",
              "\t<tr><td>22.00000</td><td>0</td><td>0</td><td>  7.7500</td><td>1</td></tr>\n",
              "\t<tr><td>19.00000</td><td>0</td><td>0</td><td>  6.7500</td><td>0</td></tr>\n",
              "\t<tr><td>18.00000</td><td>0</td><td>0</td><td> 11.5000</td><td>0</td></tr>\n",
              "\t<tr><td>19.00000</td><td>1</td><td>1</td><td> 36.7500</td><td>0</td></tr>\n",
              "\t<tr><td>27.00000</td><td>0</td><td>0</td><td>  7.7958</td><td>1</td></tr>\n",
              "\t<tr><td>⋮</td><td>⋮</td><td>⋮</td><td>⋮</td><td>⋮</td></tr>\n",
              "\t<tr><td>23.00000</td><td>0</td><td>0</td><td> 13.0000</td><td>0</td></tr>\n",
              "\t<tr><td>29.91726</td><td>0</td><td>0</td><td> 30.0000</td><td>1</td></tr>\n",
              "\t<tr><td>21.00000</td><td>2</td><td>2</td><td>262.3750</td><td>1</td></tr>\n",
              "\t<tr><td>31.00000</td><td>0</td><td>0</td><td>  7.9250</td><td>1</td></tr>\n",
              "\t<tr><td>30.00000</td><td>0</td><td>0</td><td> 13.0000</td><td>1</td></tr>\n",
              "\t<tr><td>31.00000</td><td>0</td><td>0</td><td>  7.7500</td><td>0</td></tr>\n",
              "\t<tr><td>28.00000</td><td>0</td><td>0</td><td>  7.7958</td><td>0</td></tr>\n",
              "\t<tr><td>16.00000</td><td>0</td><td>0</td><td>  7.7750</td><td>0</td></tr>\n",
              "\t<tr><td>32.00000</td><td>0</td><td>0</td><td>  8.3625</td><td>0</td></tr>\n",
              "\t<tr><td>57.00000</td><td>0</td><td>0</td><td> 10.5000</td><td>0</td></tr>\n",
              "\t<tr><td>18.00000</td><td>0</td><td>0</td><td>  7.7500</td><td>0</td></tr>\n",
              "\t<tr><td> 5.00000</td><td>0</td><td>0</td><td> 12.4750</td><td>1</td></tr>\n",
              "\t<tr><td>25.00000</td><td>0</td><td>0</td><td>  7.0500</td><td>0</td></tr>\n",
              "\t<tr><td>25.00000</td><td>0</td><td>0</td><td>  7.2500</td><td>0</td></tr>\n",
              "\t<tr><td>46.00000</td><td>0</td><td>0</td><td> 79.2000</td><td>0</td></tr>\n",
              "\t<tr><td>39.00000</td><td>0</td><td>0</td><td> 13.0000</td><td>0</td></tr>\n",
              "\t<tr><td> 0.42000</td><td>0</td><td>1</td><td>  8.5167</td><td>1</td></tr>\n",
              "\t<tr><td>26.00000</td><td>0</td><td>0</td><td>  7.8875</td><td>0</td></tr>\n",
              "\t<tr><td>23.00000</td><td>0</td><td>0</td><td>  7.9250</td><td>0</td></tr>\n",
              "\t<tr><td> 2.00000</td><td>4</td><td>1</td><td> 39.6875</td><td>0</td></tr>\n",
              "\t<tr><td>62.00000</td><td>0</td><td>0</td><td> 80.0000</td><td>1</td></tr>\n",
              "\t<tr><td>21.00000</td><td>0</td><td>0</td><td>  8.6625</td><td>0</td></tr>\n",
              "\t<tr><td>17.00000</td><td>0</td><td>0</td><td>  8.6625</td><td>0</td></tr>\n",
              "\t<tr><td>24.00000</td><td>0</td><td>3</td><td> 19.2583</td><td>1</td></tr>\n",
              "\t<tr><td>48.00000</td><td>0</td><td>0</td><td> 25.9292</td><td>1</td></tr>\n",
              "\t<tr><td>29.91726</td><td>8</td><td>2</td><td> 69.5500</td><td>0</td></tr>\n",
              "\t<tr><td>29.91726</td><td>0</td><td>0</td><td>  7.8958</td><td>0</td></tr>\n",
              "\t<tr><td>25.00000</td><td>0</td><td>1</td><td> 26.0000</td><td>1</td></tr>\n",
              "\t<tr><td>25.00000</td><td>0</td><td>0</td><td>  7.0500</td><td>0</td></tr>\n",
              "\t<tr><td>29.91726</td><td>1</td><td>2</td><td> 23.4500</td><td>0</td></tr>\n",
              "</tbody>\n",
              "</table>\n"
            ],
            "text/markdown": "\nA tibble: 179 × 5\n\n| age &lt;dbl&gt; | sib_sp &lt;int&gt; | parch &lt;int&gt; | fare &lt;dbl&gt; | survived &lt;fct&gt; |\n|---|---|---|---|---|\n| 22.00000 | 1 | 0 |   7.2500 | 0 |\n| 26.00000 | 0 | 0 |   7.9250 | 1 |\n| 54.00000 | 0 | 0 |  51.8625 | 0 |\n| 58.00000 | 0 | 0 |  26.5500 | 1 |\n| 14.00000 | 0 | 0 |   7.8542 | 0 |\n| 29.91726 | 0 | 0 |  13.0000 | 1 |\n| 34.00000 | 0 | 0 |  13.0000 | 1 |\n| 29.91726 | 0 | 0 |   7.2250 | 0 |\n| 19.00000 | 3 | 2 | 263.0000 | 0 |\n| 29.91726 | 1 | 0 | 146.5208 | 1 |\n| 29.91726 | 0 | 0 |   7.8958 | 0 |\n|  3.00000 | 1 | 2 |  41.5792 | 1 |\n| 38.00000 | 0 | 0 |  80.0000 | 1 |\n| 45.00000 | 1 | 0 |  83.4750 | 0 |\n| 21.00000 | 0 | 0 |  73.5000 | 0 |\n| 29.00000 | 0 | 0 |   9.5000 | 1 |\n| 33.00000 | 3 | 0 |  15.8500 | 1 |\n| 20.00000 | 0 | 0 |   7.8542 | 0 |\n| 71.00000 | 0 | 0 |  34.6542 | 0 |\n| 28.00000 | 0 | 0 |   7.8958 | 0 |\n| 29.91726 | 0 | 0 |   7.8958 | 0 |\n| 21.00000 | 0 | 0 |   7.6500 | 1 |\n| 12.00000 | 1 | 0 |  11.2417 | 1 |\n| 47.00000 | 1 | 0 |  14.5000 | 0 |\n| 24.00000 | 0 | 0 |  79.2000 | 0 |\n| 22.00000 | 0 | 0 |   7.7500 | 1 |\n| 19.00000 | 0 | 0 |   6.7500 | 0 |\n| 18.00000 | 0 | 0 |  11.5000 | 0 |\n| 19.00000 | 1 | 1 |  36.7500 | 0 |\n| 27.00000 | 0 | 0 |   7.7958 | 1 |\n| ⋮ | ⋮ | ⋮ | ⋮ | ⋮ |\n| 23.00000 | 0 | 0 |  13.0000 | 0 |\n| 29.91726 | 0 | 0 |  30.0000 | 1 |\n| 21.00000 | 2 | 2 | 262.3750 | 1 |\n| 31.00000 | 0 | 0 |   7.9250 | 1 |\n| 30.00000 | 0 | 0 |  13.0000 | 1 |\n| 31.00000 | 0 | 0 |   7.7500 | 0 |\n| 28.00000 | 0 | 0 |   7.7958 | 0 |\n| 16.00000 | 0 | 0 |   7.7750 | 0 |\n| 32.00000 | 0 | 0 |   8.3625 | 0 |\n| 57.00000 | 0 | 0 |  10.5000 | 0 |\n| 18.00000 | 0 | 0 |   7.7500 | 0 |\n|  5.00000 | 0 | 0 |  12.4750 | 1 |\n| 25.00000 | 0 | 0 |   7.0500 | 0 |\n| 25.00000 | 0 | 0 |   7.2500 | 0 |\n| 46.00000 | 0 | 0 |  79.2000 | 0 |\n| 39.00000 | 0 | 0 |  13.0000 | 0 |\n|  0.42000 | 0 | 1 |   8.5167 | 1 |\n| 26.00000 | 0 | 0 |   7.8875 | 0 |\n| 23.00000 | 0 | 0 |   7.9250 | 0 |\n|  2.00000 | 4 | 1 |  39.6875 | 0 |\n| 62.00000 | 0 | 0 |  80.0000 | 1 |\n| 21.00000 | 0 | 0 |   8.6625 | 0 |\n| 17.00000 | 0 | 0 |   8.6625 | 0 |\n| 24.00000 | 0 | 3 |  19.2583 | 1 |\n| 48.00000 | 0 | 0 |  25.9292 | 1 |\n| 29.91726 | 8 | 2 |  69.5500 | 0 |\n| 29.91726 | 0 | 0 |   7.8958 | 0 |\n| 25.00000 | 0 | 1 |  26.0000 | 1 |\n| 25.00000 | 0 | 0 |   7.0500 | 0 |\n| 29.91726 | 1 | 2 |  23.4500 | 0 |\n\n",
            "text/latex": "A tibble: 179 × 5\n\\begin{tabular}{lllll}\n age & sib\\_sp & parch & fare & survived\\\\\n <dbl> & <int> & <int> & <dbl> & <fct>\\\\\n\\hline\n\t 22.00000 & 1 & 0 &   7.2500 & 0\\\\\n\t 26.00000 & 0 & 0 &   7.9250 & 1\\\\\n\t 54.00000 & 0 & 0 &  51.8625 & 0\\\\\n\t 58.00000 & 0 & 0 &  26.5500 & 1\\\\\n\t 14.00000 & 0 & 0 &   7.8542 & 0\\\\\n\t 29.91726 & 0 & 0 &  13.0000 & 1\\\\\n\t 34.00000 & 0 & 0 &  13.0000 & 1\\\\\n\t 29.91726 & 0 & 0 &   7.2250 & 0\\\\\n\t 19.00000 & 3 & 2 & 263.0000 & 0\\\\\n\t 29.91726 & 1 & 0 & 146.5208 & 1\\\\\n\t 29.91726 & 0 & 0 &   7.8958 & 0\\\\\n\t  3.00000 & 1 & 2 &  41.5792 & 1\\\\\n\t 38.00000 & 0 & 0 &  80.0000 & 1\\\\\n\t 45.00000 & 1 & 0 &  83.4750 & 0\\\\\n\t 21.00000 & 0 & 0 &  73.5000 & 0\\\\\n\t 29.00000 & 0 & 0 &   9.5000 & 1\\\\\n\t 33.00000 & 3 & 0 &  15.8500 & 1\\\\\n\t 20.00000 & 0 & 0 &   7.8542 & 0\\\\\n\t 71.00000 & 0 & 0 &  34.6542 & 0\\\\\n\t 28.00000 & 0 & 0 &   7.8958 & 0\\\\\n\t 29.91726 & 0 & 0 &   7.8958 & 0\\\\\n\t 21.00000 & 0 & 0 &   7.6500 & 1\\\\\n\t 12.00000 & 1 & 0 &  11.2417 & 1\\\\\n\t 47.00000 & 1 & 0 &  14.5000 & 0\\\\\n\t 24.00000 & 0 & 0 &  79.2000 & 0\\\\\n\t 22.00000 & 0 & 0 &   7.7500 & 1\\\\\n\t 19.00000 & 0 & 0 &   6.7500 & 0\\\\\n\t 18.00000 & 0 & 0 &  11.5000 & 0\\\\\n\t 19.00000 & 1 & 1 &  36.7500 & 0\\\\\n\t 27.00000 & 0 & 0 &   7.7958 & 1\\\\\n\t ⋮ & ⋮ & ⋮ & ⋮ & ⋮\\\\\n\t 23.00000 & 0 & 0 &  13.0000 & 0\\\\\n\t 29.91726 & 0 & 0 &  30.0000 & 1\\\\\n\t 21.00000 & 2 & 2 & 262.3750 & 1\\\\\n\t 31.00000 & 0 & 0 &   7.9250 & 1\\\\\n\t 30.00000 & 0 & 0 &  13.0000 & 1\\\\\n\t 31.00000 & 0 & 0 &   7.7500 & 0\\\\\n\t 28.00000 & 0 & 0 &   7.7958 & 0\\\\\n\t 16.00000 & 0 & 0 &   7.7750 & 0\\\\\n\t 32.00000 & 0 & 0 &   8.3625 & 0\\\\\n\t 57.00000 & 0 & 0 &  10.5000 & 0\\\\\n\t 18.00000 & 0 & 0 &   7.7500 & 0\\\\\n\t  5.00000 & 0 & 0 &  12.4750 & 1\\\\\n\t 25.00000 & 0 & 0 &   7.0500 & 0\\\\\n\t 25.00000 & 0 & 0 &   7.2500 & 0\\\\\n\t 46.00000 & 0 & 0 &  79.2000 & 0\\\\\n\t 39.00000 & 0 & 0 &  13.0000 & 0\\\\\n\t  0.42000 & 0 & 1 &   8.5167 & 1\\\\\n\t 26.00000 & 0 & 0 &   7.8875 & 0\\\\\n\t 23.00000 & 0 & 0 &   7.9250 & 0\\\\\n\t  2.00000 & 4 & 1 &  39.6875 & 0\\\\\n\t 62.00000 & 0 & 0 &  80.0000 & 1\\\\\n\t 21.00000 & 0 & 0 &   8.6625 & 0\\\\\n\t 17.00000 & 0 & 0 &   8.6625 & 0\\\\\n\t 24.00000 & 0 & 3 &  19.2583 & 1\\\\\n\t 48.00000 & 0 & 0 &  25.9292 & 1\\\\\n\t 29.91726 & 8 & 2 &  69.5500 & 0\\\\\n\t 29.91726 & 0 & 0 &   7.8958 & 0\\\\\n\t 25.00000 & 0 & 1 &  26.0000 & 1\\\\\n\t 25.00000 & 0 & 0 &   7.0500 & 0\\\\\n\t 29.91726 & 1 & 2 &  23.4500 & 0\\\\\n\\end{tabular}\n",
            "text/plain": [
              "    age      sib_sp parch fare     survived\n",
              "1   22.00000 1      0       7.2500 0       \n",
              "2   26.00000 0      0       7.9250 1       \n",
              "3   54.00000 0      0      51.8625 0       \n",
              "4   58.00000 0      0      26.5500 1       \n",
              "5   14.00000 0      0       7.8542 0       \n",
              "6   29.91726 0      0      13.0000 1       \n",
              "7   34.00000 0      0      13.0000 1       \n",
              "8   29.91726 0      0       7.2250 0       \n",
              "9   19.00000 3      2     263.0000 0       \n",
              "10  29.91726 1      0     146.5208 1       \n",
              "11  29.91726 0      0       7.8958 0       \n",
              "12   3.00000 1      2      41.5792 1       \n",
              "13  38.00000 0      0      80.0000 1       \n",
              "14  45.00000 1      0      83.4750 0       \n",
              "15  21.00000 0      0      73.5000 0       \n",
              "16  29.00000 0      0       9.5000 1       \n",
              "17  33.00000 3      0      15.8500 1       \n",
              "18  20.00000 0      0       7.8542 0       \n",
              "19  71.00000 0      0      34.6542 0       \n",
              "20  28.00000 0      0       7.8958 0       \n",
              "21  29.91726 0      0       7.8958 0       \n",
              "22  21.00000 0      0       7.6500 1       \n",
              "23  12.00000 1      0      11.2417 1       \n",
              "24  47.00000 1      0      14.5000 0       \n",
              "25  24.00000 0      0      79.2000 0       \n",
              "26  22.00000 0      0       7.7500 1       \n",
              "27  19.00000 0      0       6.7500 0       \n",
              "28  18.00000 0      0      11.5000 0       \n",
              "29  19.00000 1      1      36.7500 0       \n",
              "30  27.00000 0      0       7.7958 1       \n",
              "⋮   ⋮        ⋮      ⋮     ⋮        ⋮       \n",
              "150 23.00000 0      0      13.0000 0       \n",
              "151 29.91726 0      0      30.0000 1       \n",
              "152 21.00000 2      2     262.3750 1       \n",
              "153 31.00000 0      0       7.9250 1       \n",
              "154 30.00000 0      0      13.0000 1       \n",
              "155 31.00000 0      0       7.7500 0       \n",
              "156 28.00000 0      0       7.7958 0       \n",
              "157 16.00000 0      0       7.7750 0       \n",
              "158 32.00000 0      0       8.3625 0       \n",
              "159 57.00000 0      0      10.5000 0       \n",
              "160 18.00000 0      0       7.7500 0       \n",
              "161  5.00000 0      0      12.4750 1       \n",
              "162 25.00000 0      0       7.0500 0       \n",
              "163 25.00000 0      0       7.2500 0       \n",
              "164 46.00000 0      0      79.2000 0       \n",
              "165 39.00000 0      0      13.0000 0       \n",
              "166  0.42000 0      1       8.5167 1       \n",
              "167 26.00000 0      0       7.8875 0       \n",
              "168 23.00000 0      0       7.9250 0       \n",
              "169  2.00000 4      1      39.6875 0       \n",
              "170 62.00000 0      0      80.0000 1       \n",
              "171 21.00000 0      0       8.6625 0       \n",
              "172 17.00000 0      0       8.6625 0       \n",
              "173 24.00000 0      3      19.2583 1       \n",
              "174 48.00000 0      0      25.9292 1       \n",
              "175 29.91726 8      2      69.5500 0       \n",
              "176 29.91726 0      0       7.8958 0       \n",
              "177 25.00000 0      1      26.0000 1       \n",
              "178 25.00000 0      0       7.0500 0       \n",
              "179 29.91726 1      2      23.4500 0       "
            ]
          },
          "metadata": {}
        }
      ]
    },
    {
      "cell_type": "code",
      "source": [
        "# Prepare the training dataset using the recipe\n",
        "train_training <- juice(train_recipe)\n",
        "train_training"
      ],
      "metadata": {
        "colab": {
          "base_uri": "https://localhost:8080/",
          "height": 1000
        },
        "id": "_kEj-sz8yk1T",
        "outputId": "ba9b835a-642e-4e74-fa75-fb1bcfb00864"
      },
      "execution_count": 77,
      "outputs": [
        {
          "output_type": "display_data",
          "data": {
            "text/html": [
              "<table class=\"dataframe\">\n",
              "<caption>A tibble: 712 × 5</caption>\n",
              "<thead>\n",
              "\t<tr><th scope=col>age</th><th scope=col>sib_sp</th><th scope=col>parch</th><th scope=col>fare</th><th scope=col>survived</th></tr>\n",
              "\t<tr><th scope=col>&lt;dbl&gt;</th><th scope=col>&lt;int&gt;</th><th scope=col>&lt;int&gt;</th><th scope=col>&lt;dbl&gt;</th><th scope=col>&lt;fct&gt;</th></tr>\n",
              "</thead>\n",
              "<tbody>\n",
              "\t<tr><td>44.00000</td><td>0</td><td>0</td><td>  7.9250</td><td>1</td></tr>\n",
              "\t<tr><td>47.00000</td><td>0</td><td>0</td><td> 38.5000</td><td>0</td></tr>\n",
              "\t<tr><td>30.00000</td><td>0</td><td>0</td><td> 13.0000</td><td>0</td></tr>\n",
              "\t<tr><td>40.50000</td><td>0</td><td>0</td><td>  7.7500</td><td>0</td></tr>\n",
              "\t<tr><td>44.00000</td><td>0</td><td>0</td><td> 27.7208</td><td>1</td></tr>\n",
              "\t<tr><td>31.00000</td><td>1</td><td>1</td><td> 37.0042</td><td>0</td></tr>\n",
              "\t<tr><td>29.00000</td><td>1</td><td>0</td><td> 21.0000</td><td>0</td></tr>\n",
              "\t<tr><td>29.91726</td><td>0</td><td>0</td><td> 30.5000</td><td>1</td></tr>\n",
              "\t<tr><td>18.00000</td><td>0</td><td>0</td><td> 13.0000</td><td>0</td></tr>\n",
              "\t<tr><td>22.00000</td><td>0</td><td>0</td><td>  7.1250</td><td>0</td></tr>\n",
              "\t<tr><td>39.00000</td><td>1</td><td>5</td><td> 31.2750</td><td>0</td></tr>\n",
              "\t<tr><td>22.00000</td><td>0</td><td>0</td><td>135.6333</td><td>0</td></tr>\n",
              "\t<tr><td>20.00000</td><td>1</td><td>0</td><td>  7.9250</td><td>1</td></tr>\n",
              "\t<tr><td>29.91726</td><td>0</td><td>0</td><td>  7.8958</td><td>0</td></tr>\n",
              "\t<tr><td>29.91726</td><td>0</td><td>0</td><td> 42.4000</td><td>0</td></tr>\n",
              "\t<tr><td>30.50000</td><td>0</td><td>0</td><td>  7.7500</td><td>0</td></tr>\n",
              "\t<tr><td>22.00000</td><td>0</td><td>0</td><td>151.5500</td><td>1</td></tr>\n",
              "\t<tr><td>29.00000</td><td>0</td><td>0</td><td>  8.0500</td><td>0</td></tr>\n",
              "\t<tr><td>29.91726</td><td>1</td><td>0</td><td> 16.1000</td><td>1</td></tr>\n",
              "\t<tr><td>29.91726</td><td>0</td><td>0</td><td>  7.5500</td><td>0</td></tr>\n",
              "\t<tr><td>29.91726</td><td>0</td><td>0</td><td>  7.2250</td><td>0</td></tr>\n",
              "\t<tr><td>29.91726</td><td>0</td><td>0</td><td> 29.7000</td><td>1</td></tr>\n",
              "\t<tr><td>38.00000</td><td>1</td><td>5</td><td> 31.3875</td><td>1</td></tr>\n",
              "\t<tr><td>36.00000</td><td>1</td><td>0</td><td> 26.0000</td><td>1</td></tr>\n",
              "\t<tr><td>29.91726</td><td>0</td><td>0</td><td>  7.2500</td><td>0</td></tr>\n",
              "\t<tr><td>47.00000</td><td>1</td><td>1</td><td> 52.5542</td><td>1</td></tr>\n",
              "\t<tr><td>51.00000</td><td>1</td><td>0</td><td> 77.9583</td><td>1</td></tr>\n",
              "\t<tr><td>24.00000</td><td>0</td><td>0</td><td>  7.0500</td><td>0</td></tr>\n",
              "\t<tr><td>29.91726</td><td>0</td><td>0</td><td>  8.0500</td><td>0</td></tr>\n",
              "\t<tr><td>47.00000</td><td>0</td><td>0</td><td>  7.2500</td><td>0</td></tr>\n",
              "\t<tr><td>⋮</td><td>⋮</td><td>⋮</td><td>⋮</td><td>⋮</td></tr>\n",
              "\t<tr><td>21.00000</td><td>0</td><td>0</td><td>  7.7500</td><td>0</td></tr>\n",
              "\t<tr><td>24.00000</td><td>0</td><td>0</td><td> 69.3000</td><td>1</td></tr>\n",
              "\t<tr><td>32.00000</td><td>0</td><td>0</td><td>  7.8542</td><td>1</td></tr>\n",
              "\t<tr><td>49.00000</td><td>1</td><td>0</td><td> 89.1042</td><td>1</td></tr>\n",
              "\t<tr><td>35.00000</td><td>1</td><td>0</td><td> 53.1000</td><td>1</td></tr>\n",
              "\t<tr><td>26.00000</td><td>1</td><td>1</td><td> 26.0000</td><td>0</td></tr>\n",
              "\t<tr><td>29.91726</td><td>0</td><td>0</td><td>227.5250</td><td>0</td></tr>\n",
              "\t<tr><td>18.00000</td><td>1</td><td>0</td><td> 17.8000</td><td>0</td></tr>\n",
              "\t<tr><td>38.00000</td><td>0</td><td>1</td><td>153.4625</td><td>0</td></tr>\n",
              "\t<tr><td>29.91726</td><td>0</td><td>0</td><td>  7.2500</td><td>0</td></tr>\n",
              "\t<tr><td>32.00000</td><td>0</td><td>0</td><td> 56.4958</td><td>1</td></tr>\n",
              "\t<tr><td>11.00000</td><td>5</td><td>2</td><td> 46.9000</td><td>0</td></tr>\n",
              "\t<tr><td>29.91726</td><td>8</td><td>2</td><td> 69.5500</td><td>0</td></tr>\n",
              "\t<tr><td>30.00000</td><td>1</td><td>0</td><td> 16.1000</td><td>0</td></tr>\n",
              "\t<tr><td>11.00000</td><td>1</td><td>2</td><td>120.0000</td><td>1</td></tr>\n",
              "\t<tr><td>20.00000</td><td>1</td><td>0</td><td>  9.8250</td><td>0</td></tr>\n",
              "\t<tr><td>34.00000</td><td>0</td><td>1</td><td> 23.0000</td><td>1</td></tr>\n",
              "\t<tr><td> 2.00000</td><td>1</td><td>2</td><td>151.5500</td><td>0</td></tr>\n",
              "\t<tr><td>28.50000</td><td>0</td><td>0</td><td>  7.2292</td><td>0</td></tr>\n",
              "\t<tr><td>33.00000</td><td>0</td><td>0</td><td> 86.5000</td><td>1</td></tr>\n",
              "\t<tr><td>30.50000</td><td>0</td><td>0</td><td>  8.0500</td><td>0</td></tr>\n",
              "\t<tr><td>22.00000</td><td>0</td><td>0</td><td>  7.2500</td><td>0</td></tr>\n",
              "\t<tr><td>16.00000</td><td>0</td><td>0</td><td>  9.5000</td><td>0</td></tr>\n",
              "\t<tr><td>32.50000</td><td>1</td><td>0</td><td> 30.0708</td><td>0</td></tr>\n",
              "\t<tr><td>14.00000</td><td>1</td><td>2</td><td>120.0000</td><td>1</td></tr>\n",
              "\t<tr><td>29.91726</td><td>1</td><td>0</td><td> 19.9667</td><td>0</td></tr>\n",
              "\t<tr><td>33.00000</td><td>0</td><td>0</td><td>  7.7750</td><td>0</td></tr>\n",
              "\t<tr><td>29.91726</td><td>0</td><td>0</td><td> 79.2000</td><td>1</td></tr>\n",
              "\t<tr><td>29.91726</td><td>0</td><td>0</td><td>  7.8958</td><td>0</td></tr>\n",
              "\t<tr><td>63.00000</td><td>0</td><td>0</td><td>  9.5875</td><td>1</td></tr>\n",
              "</tbody>\n",
              "</table>\n"
            ],
            "text/markdown": "\nA tibble: 712 × 5\n\n| age &lt;dbl&gt; | sib_sp &lt;int&gt; | parch &lt;int&gt; | fare &lt;dbl&gt; | survived &lt;fct&gt; |\n|---|---|---|---|---|\n| 44.00000 | 0 | 0 |   7.9250 | 1 |\n| 47.00000 | 0 | 0 |  38.5000 | 0 |\n| 30.00000 | 0 | 0 |  13.0000 | 0 |\n| 40.50000 | 0 | 0 |   7.7500 | 0 |\n| 44.00000 | 0 | 0 |  27.7208 | 1 |\n| 31.00000 | 1 | 1 |  37.0042 | 0 |\n| 29.00000 | 1 | 0 |  21.0000 | 0 |\n| 29.91726 | 0 | 0 |  30.5000 | 1 |\n| 18.00000 | 0 | 0 |  13.0000 | 0 |\n| 22.00000 | 0 | 0 |   7.1250 | 0 |\n| 39.00000 | 1 | 5 |  31.2750 | 0 |\n| 22.00000 | 0 | 0 | 135.6333 | 0 |\n| 20.00000 | 1 | 0 |   7.9250 | 1 |\n| 29.91726 | 0 | 0 |   7.8958 | 0 |\n| 29.91726 | 0 | 0 |  42.4000 | 0 |\n| 30.50000 | 0 | 0 |   7.7500 | 0 |\n| 22.00000 | 0 | 0 | 151.5500 | 1 |\n| 29.00000 | 0 | 0 |   8.0500 | 0 |\n| 29.91726 | 1 | 0 |  16.1000 | 1 |\n| 29.91726 | 0 | 0 |   7.5500 | 0 |\n| 29.91726 | 0 | 0 |   7.2250 | 0 |\n| 29.91726 | 0 | 0 |  29.7000 | 1 |\n| 38.00000 | 1 | 5 |  31.3875 | 1 |\n| 36.00000 | 1 | 0 |  26.0000 | 1 |\n| 29.91726 | 0 | 0 |   7.2500 | 0 |\n| 47.00000 | 1 | 1 |  52.5542 | 1 |\n| 51.00000 | 1 | 0 |  77.9583 | 1 |\n| 24.00000 | 0 | 0 |   7.0500 | 0 |\n| 29.91726 | 0 | 0 |   8.0500 | 0 |\n| 47.00000 | 0 | 0 |   7.2500 | 0 |\n| ⋮ | ⋮ | ⋮ | ⋮ | ⋮ |\n| 21.00000 | 0 | 0 |   7.7500 | 0 |\n| 24.00000 | 0 | 0 |  69.3000 | 1 |\n| 32.00000 | 0 | 0 |   7.8542 | 1 |\n| 49.00000 | 1 | 0 |  89.1042 | 1 |\n| 35.00000 | 1 | 0 |  53.1000 | 1 |\n| 26.00000 | 1 | 1 |  26.0000 | 0 |\n| 29.91726 | 0 | 0 | 227.5250 | 0 |\n| 18.00000 | 1 | 0 |  17.8000 | 0 |\n| 38.00000 | 0 | 1 | 153.4625 | 0 |\n| 29.91726 | 0 | 0 |   7.2500 | 0 |\n| 32.00000 | 0 | 0 |  56.4958 | 1 |\n| 11.00000 | 5 | 2 |  46.9000 | 0 |\n| 29.91726 | 8 | 2 |  69.5500 | 0 |\n| 30.00000 | 1 | 0 |  16.1000 | 0 |\n| 11.00000 | 1 | 2 | 120.0000 | 1 |\n| 20.00000 | 1 | 0 |   9.8250 | 0 |\n| 34.00000 | 0 | 1 |  23.0000 | 1 |\n|  2.00000 | 1 | 2 | 151.5500 | 0 |\n| 28.50000 | 0 | 0 |   7.2292 | 0 |\n| 33.00000 | 0 | 0 |  86.5000 | 1 |\n| 30.50000 | 0 | 0 |   8.0500 | 0 |\n| 22.00000 | 0 | 0 |   7.2500 | 0 |\n| 16.00000 | 0 | 0 |   9.5000 | 0 |\n| 32.50000 | 1 | 0 |  30.0708 | 0 |\n| 14.00000 | 1 | 2 | 120.0000 | 1 |\n| 29.91726 | 1 | 0 |  19.9667 | 0 |\n| 33.00000 | 0 | 0 |   7.7750 | 0 |\n| 29.91726 | 0 | 0 |  79.2000 | 1 |\n| 29.91726 | 0 | 0 |   7.8958 | 0 |\n| 63.00000 | 0 | 0 |   9.5875 | 1 |\n\n",
            "text/latex": "A tibble: 712 × 5\n\\begin{tabular}{lllll}\n age & sib\\_sp & parch & fare & survived\\\\\n <dbl> & <int> & <int> & <dbl> & <fct>\\\\\n\\hline\n\t 44.00000 & 0 & 0 &   7.9250 & 1\\\\\n\t 47.00000 & 0 & 0 &  38.5000 & 0\\\\\n\t 30.00000 & 0 & 0 &  13.0000 & 0\\\\\n\t 40.50000 & 0 & 0 &   7.7500 & 0\\\\\n\t 44.00000 & 0 & 0 &  27.7208 & 1\\\\\n\t 31.00000 & 1 & 1 &  37.0042 & 0\\\\\n\t 29.00000 & 1 & 0 &  21.0000 & 0\\\\\n\t 29.91726 & 0 & 0 &  30.5000 & 1\\\\\n\t 18.00000 & 0 & 0 &  13.0000 & 0\\\\\n\t 22.00000 & 0 & 0 &   7.1250 & 0\\\\\n\t 39.00000 & 1 & 5 &  31.2750 & 0\\\\\n\t 22.00000 & 0 & 0 & 135.6333 & 0\\\\\n\t 20.00000 & 1 & 0 &   7.9250 & 1\\\\\n\t 29.91726 & 0 & 0 &   7.8958 & 0\\\\\n\t 29.91726 & 0 & 0 &  42.4000 & 0\\\\\n\t 30.50000 & 0 & 0 &   7.7500 & 0\\\\\n\t 22.00000 & 0 & 0 & 151.5500 & 1\\\\\n\t 29.00000 & 0 & 0 &   8.0500 & 0\\\\\n\t 29.91726 & 1 & 0 &  16.1000 & 1\\\\\n\t 29.91726 & 0 & 0 &   7.5500 & 0\\\\\n\t 29.91726 & 0 & 0 &   7.2250 & 0\\\\\n\t 29.91726 & 0 & 0 &  29.7000 & 1\\\\\n\t 38.00000 & 1 & 5 &  31.3875 & 1\\\\\n\t 36.00000 & 1 & 0 &  26.0000 & 1\\\\\n\t 29.91726 & 0 & 0 &   7.2500 & 0\\\\\n\t 47.00000 & 1 & 1 &  52.5542 & 1\\\\\n\t 51.00000 & 1 & 0 &  77.9583 & 1\\\\\n\t 24.00000 & 0 & 0 &   7.0500 & 0\\\\\n\t 29.91726 & 0 & 0 &   8.0500 & 0\\\\\n\t 47.00000 & 0 & 0 &   7.2500 & 0\\\\\n\t ⋮ & ⋮ & ⋮ & ⋮ & ⋮\\\\\n\t 21.00000 & 0 & 0 &   7.7500 & 0\\\\\n\t 24.00000 & 0 & 0 &  69.3000 & 1\\\\\n\t 32.00000 & 0 & 0 &   7.8542 & 1\\\\\n\t 49.00000 & 1 & 0 &  89.1042 & 1\\\\\n\t 35.00000 & 1 & 0 &  53.1000 & 1\\\\\n\t 26.00000 & 1 & 1 &  26.0000 & 0\\\\\n\t 29.91726 & 0 & 0 & 227.5250 & 0\\\\\n\t 18.00000 & 1 & 0 &  17.8000 & 0\\\\\n\t 38.00000 & 0 & 1 & 153.4625 & 0\\\\\n\t 29.91726 & 0 & 0 &   7.2500 & 0\\\\\n\t 32.00000 & 0 & 0 &  56.4958 & 1\\\\\n\t 11.00000 & 5 & 2 &  46.9000 & 0\\\\\n\t 29.91726 & 8 & 2 &  69.5500 & 0\\\\\n\t 30.00000 & 1 & 0 &  16.1000 & 0\\\\\n\t 11.00000 & 1 & 2 & 120.0000 & 1\\\\\n\t 20.00000 & 1 & 0 &   9.8250 & 0\\\\\n\t 34.00000 & 0 & 1 &  23.0000 & 1\\\\\n\t  2.00000 & 1 & 2 & 151.5500 & 0\\\\\n\t 28.50000 & 0 & 0 &   7.2292 & 0\\\\\n\t 33.00000 & 0 & 0 &  86.5000 & 1\\\\\n\t 30.50000 & 0 & 0 &   8.0500 & 0\\\\\n\t 22.00000 & 0 & 0 &   7.2500 & 0\\\\\n\t 16.00000 & 0 & 0 &   9.5000 & 0\\\\\n\t 32.50000 & 1 & 0 &  30.0708 & 0\\\\\n\t 14.00000 & 1 & 2 & 120.0000 & 1\\\\\n\t 29.91726 & 1 & 0 &  19.9667 & 0\\\\\n\t 33.00000 & 0 & 0 &   7.7750 & 0\\\\\n\t 29.91726 & 0 & 0 &  79.2000 & 1\\\\\n\t 29.91726 & 0 & 0 &   7.8958 & 0\\\\\n\t 63.00000 & 0 & 0 &   9.5875 & 1\\\\\n\\end{tabular}\n",
            "text/plain": [
              "    age      sib_sp parch fare     survived\n",
              "1   44.00000 0      0       7.9250 1       \n",
              "2   47.00000 0      0      38.5000 0       \n",
              "3   30.00000 0      0      13.0000 0       \n",
              "4   40.50000 0      0       7.7500 0       \n",
              "5   44.00000 0      0      27.7208 1       \n",
              "6   31.00000 1      1      37.0042 0       \n",
              "7   29.00000 1      0      21.0000 0       \n",
              "8   29.91726 0      0      30.5000 1       \n",
              "9   18.00000 0      0      13.0000 0       \n",
              "10  22.00000 0      0       7.1250 0       \n",
              "11  39.00000 1      5      31.2750 0       \n",
              "12  22.00000 0      0     135.6333 0       \n",
              "13  20.00000 1      0       7.9250 1       \n",
              "14  29.91726 0      0       7.8958 0       \n",
              "15  29.91726 0      0      42.4000 0       \n",
              "16  30.50000 0      0       7.7500 0       \n",
              "17  22.00000 0      0     151.5500 1       \n",
              "18  29.00000 0      0       8.0500 0       \n",
              "19  29.91726 1      0      16.1000 1       \n",
              "20  29.91726 0      0       7.5500 0       \n",
              "21  29.91726 0      0       7.2250 0       \n",
              "22  29.91726 0      0      29.7000 1       \n",
              "23  38.00000 1      5      31.3875 1       \n",
              "24  36.00000 1      0      26.0000 1       \n",
              "25  29.91726 0      0       7.2500 0       \n",
              "26  47.00000 1      1      52.5542 1       \n",
              "27  51.00000 1      0      77.9583 1       \n",
              "28  24.00000 0      0       7.0500 0       \n",
              "29  29.91726 0      0       8.0500 0       \n",
              "30  47.00000 0      0       7.2500 0       \n",
              "⋮   ⋮        ⋮      ⋮     ⋮        ⋮       \n",
              "683 21.00000 0      0       7.7500 0       \n",
              "684 24.00000 0      0      69.3000 1       \n",
              "685 32.00000 0      0       7.8542 1       \n",
              "686 49.00000 1      0      89.1042 1       \n",
              "687 35.00000 1      0      53.1000 1       \n",
              "688 26.00000 1      1      26.0000 0       \n",
              "689 29.91726 0      0     227.5250 0       \n",
              "690 18.00000 1      0      17.8000 0       \n",
              "691 38.00000 0      1     153.4625 0       \n",
              "692 29.91726 0      0       7.2500 0       \n",
              "693 32.00000 0      0      56.4958 1       \n",
              "694 11.00000 5      2      46.9000 0       \n",
              "695 29.91726 8      2      69.5500 0       \n",
              "696 30.00000 1      0      16.1000 0       \n",
              "697 11.00000 1      2     120.0000 1       \n",
              "698 20.00000 1      0       9.8250 0       \n",
              "699 34.00000 0      1      23.0000 1       \n",
              "700  2.00000 1      2     151.5500 0       \n",
              "701 28.50000 0      0       7.2292 0       \n",
              "702 33.00000 0      0      86.5000 1       \n",
              "703 30.50000 0      0       8.0500 0       \n",
              "704 22.00000 0      0       7.2500 0       \n",
              "705 16.00000 0      0       9.5000 0       \n",
              "706 32.50000 1      0      30.0708 0       \n",
              "707 14.00000 1      2     120.0000 1       \n",
              "708 29.91726 1      0      19.9667 0       \n",
              "709 33.00000 0      0       7.7750 0       \n",
              "710 29.91726 0      0      79.2000 1       \n",
              "711 29.91726 0      0       7.8958 0       \n",
              "712 63.00000 0      0       9.5875 1       "
            ]
          },
          "metadata": {}
        }
      ]
    },
    {
      "cell_type": "code",
      "source": [
        "# Null\n",
        "titanic_null <- null_model() %>%\n",
        "  set_engine(\"parsnip\") %>%\n",
        "  set_mode(\"classification\") %>%\n",
        "  fit(survived ~ ., data = train_training)\n",
        "\n",
        "predict(titanic_null, train_training)"
      ],
      "metadata": {
        "colab": {
          "base_uri": "https://localhost:8080/",
          "height": 1000
        },
        "id": "_tKRd9ymf1Ks",
        "outputId": "39e3a462-df0b-4ed6-bc4d-87d13f36f243"
      },
      "execution_count": 78,
      "outputs": [
        {
          "output_type": "display_data",
          "data": {
            "text/html": [
              "<table class=\"dataframe\">\n",
              "<caption>A tibble: 712 × 1</caption>\n",
              "<thead>\n",
              "\t<tr><th scope=col>.pred_class</th></tr>\n",
              "\t<tr><th scope=col>&lt;fct&gt;</th></tr>\n",
              "</thead>\n",
              "<tbody>\n",
              "\t<tr><td>0</td></tr>\n",
              "\t<tr><td>0</td></tr>\n",
              "\t<tr><td>0</td></tr>\n",
              "\t<tr><td>0</td></tr>\n",
              "\t<tr><td>0</td></tr>\n",
              "\t<tr><td>0</td></tr>\n",
              "\t<tr><td>0</td></tr>\n",
              "\t<tr><td>0</td></tr>\n",
              "\t<tr><td>0</td></tr>\n",
              "\t<tr><td>0</td></tr>\n",
              "\t<tr><td>0</td></tr>\n",
              "\t<tr><td>0</td></tr>\n",
              "\t<tr><td>0</td></tr>\n",
              "\t<tr><td>0</td></tr>\n",
              "\t<tr><td>0</td></tr>\n",
              "\t<tr><td>0</td></tr>\n",
              "\t<tr><td>0</td></tr>\n",
              "\t<tr><td>0</td></tr>\n",
              "\t<tr><td>0</td></tr>\n",
              "\t<tr><td>0</td></tr>\n",
              "\t<tr><td>0</td></tr>\n",
              "\t<tr><td>0</td></tr>\n",
              "\t<tr><td>0</td></tr>\n",
              "\t<tr><td>0</td></tr>\n",
              "\t<tr><td>0</td></tr>\n",
              "\t<tr><td>0</td></tr>\n",
              "\t<tr><td>0</td></tr>\n",
              "\t<tr><td>0</td></tr>\n",
              "\t<tr><td>0</td></tr>\n",
              "\t<tr><td>0</td></tr>\n",
              "\t<tr><td>⋮</td></tr>\n",
              "\t<tr><td>0</td></tr>\n",
              "\t<tr><td>0</td></tr>\n",
              "\t<tr><td>0</td></tr>\n",
              "\t<tr><td>0</td></tr>\n",
              "\t<tr><td>0</td></tr>\n",
              "\t<tr><td>0</td></tr>\n",
              "\t<tr><td>0</td></tr>\n",
              "\t<tr><td>0</td></tr>\n",
              "\t<tr><td>0</td></tr>\n",
              "\t<tr><td>0</td></tr>\n",
              "\t<tr><td>0</td></tr>\n",
              "\t<tr><td>0</td></tr>\n",
              "\t<tr><td>0</td></tr>\n",
              "\t<tr><td>0</td></tr>\n",
              "\t<tr><td>0</td></tr>\n",
              "\t<tr><td>0</td></tr>\n",
              "\t<tr><td>0</td></tr>\n",
              "\t<tr><td>0</td></tr>\n",
              "\t<tr><td>0</td></tr>\n",
              "\t<tr><td>0</td></tr>\n",
              "\t<tr><td>0</td></tr>\n",
              "\t<tr><td>0</td></tr>\n",
              "\t<tr><td>0</td></tr>\n",
              "\t<tr><td>0</td></tr>\n",
              "\t<tr><td>0</td></tr>\n",
              "\t<tr><td>0</td></tr>\n",
              "\t<tr><td>0</td></tr>\n",
              "\t<tr><td>0</td></tr>\n",
              "\t<tr><td>0</td></tr>\n",
              "\t<tr><td>0</td></tr>\n",
              "</tbody>\n",
              "</table>\n"
            ],
            "text/markdown": "\nA tibble: 712 × 1\n\n| .pred_class &lt;fct&gt; |\n|---|\n| 0 |\n| 0 |\n| 0 |\n| 0 |\n| 0 |\n| 0 |\n| 0 |\n| 0 |\n| 0 |\n| 0 |\n| 0 |\n| 0 |\n| 0 |\n| 0 |\n| 0 |\n| 0 |\n| 0 |\n| 0 |\n| 0 |\n| 0 |\n| 0 |\n| 0 |\n| 0 |\n| 0 |\n| 0 |\n| 0 |\n| 0 |\n| 0 |\n| 0 |\n| 0 |\n| ⋮ |\n| 0 |\n| 0 |\n| 0 |\n| 0 |\n| 0 |\n| 0 |\n| 0 |\n| 0 |\n| 0 |\n| 0 |\n| 0 |\n| 0 |\n| 0 |\n| 0 |\n| 0 |\n| 0 |\n| 0 |\n| 0 |\n| 0 |\n| 0 |\n| 0 |\n| 0 |\n| 0 |\n| 0 |\n| 0 |\n| 0 |\n| 0 |\n| 0 |\n| 0 |\n| 0 |\n\n",
            "text/latex": "A tibble: 712 × 1\n\\begin{tabular}{l}\n .pred\\_class\\\\\n <fct>\\\\\n\\hline\n\t 0\\\\\n\t 0\\\\\n\t 0\\\\\n\t 0\\\\\n\t 0\\\\\n\t 0\\\\\n\t 0\\\\\n\t 0\\\\\n\t 0\\\\\n\t 0\\\\\n\t 0\\\\\n\t 0\\\\\n\t 0\\\\\n\t 0\\\\\n\t 0\\\\\n\t 0\\\\\n\t 0\\\\\n\t 0\\\\\n\t 0\\\\\n\t 0\\\\\n\t 0\\\\\n\t 0\\\\\n\t 0\\\\\n\t 0\\\\\n\t 0\\\\\n\t 0\\\\\n\t 0\\\\\n\t 0\\\\\n\t 0\\\\\n\t 0\\\\\n\t ⋮\\\\\n\t 0\\\\\n\t 0\\\\\n\t 0\\\\\n\t 0\\\\\n\t 0\\\\\n\t 0\\\\\n\t 0\\\\\n\t 0\\\\\n\t 0\\\\\n\t 0\\\\\n\t 0\\\\\n\t 0\\\\\n\t 0\\\\\n\t 0\\\\\n\t 0\\\\\n\t 0\\\\\n\t 0\\\\\n\t 0\\\\\n\t 0\\\\\n\t 0\\\\\n\t 0\\\\\n\t 0\\\\\n\t 0\\\\\n\t 0\\\\\n\t 0\\\\\n\t 0\\\\\n\t 0\\\\\n\t 0\\\\\n\t 0\\\\\n\t 0\\\\\n\\end{tabular}\n",
            "text/plain": [
              "    .pred_class\n",
              "1   0          \n",
              "2   0          \n",
              "3   0          \n",
              "4   0          \n",
              "5   0          \n",
              "6   0          \n",
              "7   0          \n",
              "8   0          \n",
              "9   0          \n",
              "10  0          \n",
              "11  0          \n",
              "12  0          \n",
              "13  0          \n",
              "14  0          \n",
              "15  0          \n",
              "16  0          \n",
              "17  0          \n",
              "18  0          \n",
              "19  0          \n",
              "20  0          \n",
              "21  0          \n",
              "22  0          \n",
              "23  0          \n",
              "24  0          \n",
              "25  0          \n",
              "26  0          \n",
              "27  0          \n",
              "28  0          \n",
              "29  0          \n",
              "30  0          \n",
              "⋮   ⋮          \n",
              "683 0          \n",
              "684 0          \n",
              "685 0          \n",
              "686 0          \n",
              "687 0          \n",
              "688 0          \n",
              "689 0          \n",
              "690 0          \n",
              "691 0          \n",
              "692 0          \n",
              "693 0          \n",
              "694 0          \n",
              "695 0          \n",
              "696 0          \n",
              "697 0          \n",
              "698 0          \n",
              "699 0          \n",
              "700 0          \n",
              "701 0          \n",
              "702 0          \n",
              "703 0          \n",
              "704 0          \n",
              "705 0          \n",
              "706 0          \n",
              "707 0          \n",
              "708 0          \n",
              "709 0          \n",
              "710 0          \n",
              "711 0          \n",
              "712 0          "
            ]
          },
          "metadata": {}
        }
      ]
    },
    {
      "cell_type": "code",
      "source": [
        "titanic_null %>%\n",
        "  predict(train_testing) %>%\n",
        "  bind_cols(train_testing)"
      ],
      "metadata": {
        "colab": {
          "base_uri": "https://localhost:8080/",
          "height": 1000
        },
        "id": "ShHD0IP9f_VE",
        "outputId": "d3c9714d-a901-49ce-ce6e-836f7095a13b"
      },
      "execution_count": 79,
      "outputs": [
        {
          "output_type": "display_data",
          "data": {
            "text/html": [
              "<table class=\"dataframe\">\n",
              "<caption>A tibble: 179 × 6</caption>\n",
              "<thead>\n",
              "\t<tr><th scope=col>.pred_class</th><th scope=col>age</th><th scope=col>sib_sp</th><th scope=col>parch</th><th scope=col>fare</th><th scope=col>survived</th></tr>\n",
              "\t<tr><th scope=col>&lt;fct&gt;</th><th scope=col>&lt;dbl&gt;</th><th scope=col>&lt;int&gt;</th><th scope=col>&lt;int&gt;</th><th scope=col>&lt;dbl&gt;</th><th scope=col>&lt;fct&gt;</th></tr>\n",
              "</thead>\n",
              "<tbody>\n",
              "\t<tr><td>0</td><td>22.00000</td><td>1</td><td>0</td><td>  7.2500</td><td>0</td></tr>\n",
              "\t<tr><td>0</td><td>26.00000</td><td>0</td><td>0</td><td>  7.9250</td><td>1</td></tr>\n",
              "\t<tr><td>0</td><td>54.00000</td><td>0</td><td>0</td><td> 51.8625</td><td>0</td></tr>\n",
              "\t<tr><td>0</td><td>58.00000</td><td>0</td><td>0</td><td> 26.5500</td><td>1</td></tr>\n",
              "\t<tr><td>0</td><td>14.00000</td><td>0</td><td>0</td><td>  7.8542</td><td>0</td></tr>\n",
              "\t<tr><td>0</td><td>29.91726</td><td>0</td><td>0</td><td> 13.0000</td><td>1</td></tr>\n",
              "\t<tr><td>0</td><td>34.00000</td><td>0</td><td>0</td><td> 13.0000</td><td>1</td></tr>\n",
              "\t<tr><td>0</td><td>29.91726</td><td>0</td><td>0</td><td>  7.2250</td><td>0</td></tr>\n",
              "\t<tr><td>0</td><td>19.00000</td><td>3</td><td>2</td><td>263.0000</td><td>0</td></tr>\n",
              "\t<tr><td>0</td><td>29.91726</td><td>1</td><td>0</td><td>146.5208</td><td>1</td></tr>\n",
              "\t<tr><td>0</td><td>29.91726</td><td>0</td><td>0</td><td>  7.8958</td><td>0</td></tr>\n",
              "\t<tr><td>0</td><td> 3.00000</td><td>1</td><td>2</td><td> 41.5792</td><td>1</td></tr>\n",
              "\t<tr><td>0</td><td>38.00000</td><td>0</td><td>0</td><td> 80.0000</td><td>1</td></tr>\n",
              "\t<tr><td>0</td><td>45.00000</td><td>1</td><td>0</td><td> 83.4750</td><td>0</td></tr>\n",
              "\t<tr><td>0</td><td>21.00000</td><td>0</td><td>0</td><td> 73.5000</td><td>0</td></tr>\n",
              "\t<tr><td>0</td><td>29.00000</td><td>0</td><td>0</td><td>  9.5000</td><td>1</td></tr>\n",
              "\t<tr><td>0</td><td>33.00000</td><td>3</td><td>0</td><td> 15.8500</td><td>1</td></tr>\n",
              "\t<tr><td>0</td><td>20.00000</td><td>0</td><td>0</td><td>  7.8542</td><td>0</td></tr>\n",
              "\t<tr><td>0</td><td>71.00000</td><td>0</td><td>0</td><td> 34.6542</td><td>0</td></tr>\n",
              "\t<tr><td>0</td><td>28.00000</td><td>0</td><td>0</td><td>  7.8958</td><td>0</td></tr>\n",
              "\t<tr><td>0</td><td>29.91726</td><td>0</td><td>0</td><td>  7.8958</td><td>0</td></tr>\n",
              "\t<tr><td>0</td><td>21.00000</td><td>0</td><td>0</td><td>  7.6500</td><td>1</td></tr>\n",
              "\t<tr><td>0</td><td>12.00000</td><td>1</td><td>0</td><td> 11.2417</td><td>1</td></tr>\n",
              "\t<tr><td>0</td><td>47.00000</td><td>1</td><td>0</td><td> 14.5000</td><td>0</td></tr>\n",
              "\t<tr><td>0</td><td>24.00000</td><td>0</td><td>0</td><td> 79.2000</td><td>0</td></tr>\n",
              "\t<tr><td>0</td><td>22.00000</td><td>0</td><td>0</td><td>  7.7500</td><td>1</td></tr>\n",
              "\t<tr><td>0</td><td>19.00000</td><td>0</td><td>0</td><td>  6.7500</td><td>0</td></tr>\n",
              "\t<tr><td>0</td><td>18.00000</td><td>0</td><td>0</td><td> 11.5000</td><td>0</td></tr>\n",
              "\t<tr><td>0</td><td>19.00000</td><td>1</td><td>1</td><td> 36.7500</td><td>0</td></tr>\n",
              "\t<tr><td>0</td><td>27.00000</td><td>0</td><td>0</td><td>  7.7958</td><td>1</td></tr>\n",
              "\t<tr><td>⋮</td><td>⋮</td><td>⋮</td><td>⋮</td><td>⋮</td><td>⋮</td></tr>\n",
              "\t<tr><td>0</td><td>23.00000</td><td>0</td><td>0</td><td> 13.0000</td><td>0</td></tr>\n",
              "\t<tr><td>0</td><td>29.91726</td><td>0</td><td>0</td><td> 30.0000</td><td>1</td></tr>\n",
              "\t<tr><td>0</td><td>21.00000</td><td>2</td><td>2</td><td>262.3750</td><td>1</td></tr>\n",
              "\t<tr><td>0</td><td>31.00000</td><td>0</td><td>0</td><td>  7.9250</td><td>1</td></tr>\n",
              "\t<tr><td>0</td><td>30.00000</td><td>0</td><td>0</td><td> 13.0000</td><td>1</td></tr>\n",
              "\t<tr><td>0</td><td>31.00000</td><td>0</td><td>0</td><td>  7.7500</td><td>0</td></tr>\n",
              "\t<tr><td>0</td><td>28.00000</td><td>0</td><td>0</td><td>  7.7958</td><td>0</td></tr>\n",
              "\t<tr><td>0</td><td>16.00000</td><td>0</td><td>0</td><td>  7.7750</td><td>0</td></tr>\n",
              "\t<tr><td>0</td><td>32.00000</td><td>0</td><td>0</td><td>  8.3625</td><td>0</td></tr>\n",
              "\t<tr><td>0</td><td>57.00000</td><td>0</td><td>0</td><td> 10.5000</td><td>0</td></tr>\n",
              "\t<tr><td>0</td><td>18.00000</td><td>0</td><td>0</td><td>  7.7500</td><td>0</td></tr>\n",
              "\t<tr><td>0</td><td> 5.00000</td><td>0</td><td>0</td><td> 12.4750</td><td>1</td></tr>\n",
              "\t<tr><td>0</td><td>25.00000</td><td>0</td><td>0</td><td>  7.0500</td><td>0</td></tr>\n",
              "\t<tr><td>0</td><td>25.00000</td><td>0</td><td>0</td><td>  7.2500</td><td>0</td></tr>\n",
              "\t<tr><td>0</td><td>46.00000</td><td>0</td><td>0</td><td> 79.2000</td><td>0</td></tr>\n",
              "\t<tr><td>0</td><td>39.00000</td><td>0</td><td>0</td><td> 13.0000</td><td>0</td></tr>\n",
              "\t<tr><td>0</td><td> 0.42000</td><td>0</td><td>1</td><td>  8.5167</td><td>1</td></tr>\n",
              "\t<tr><td>0</td><td>26.00000</td><td>0</td><td>0</td><td>  7.8875</td><td>0</td></tr>\n",
              "\t<tr><td>0</td><td>23.00000</td><td>0</td><td>0</td><td>  7.9250</td><td>0</td></tr>\n",
              "\t<tr><td>0</td><td> 2.00000</td><td>4</td><td>1</td><td> 39.6875</td><td>0</td></tr>\n",
              "\t<tr><td>0</td><td>62.00000</td><td>0</td><td>0</td><td> 80.0000</td><td>1</td></tr>\n",
              "\t<tr><td>0</td><td>21.00000</td><td>0</td><td>0</td><td>  8.6625</td><td>0</td></tr>\n",
              "\t<tr><td>0</td><td>17.00000</td><td>0</td><td>0</td><td>  8.6625</td><td>0</td></tr>\n",
              "\t<tr><td>0</td><td>24.00000</td><td>0</td><td>3</td><td> 19.2583</td><td>1</td></tr>\n",
              "\t<tr><td>0</td><td>48.00000</td><td>0</td><td>0</td><td> 25.9292</td><td>1</td></tr>\n",
              "\t<tr><td>0</td><td>29.91726</td><td>8</td><td>2</td><td> 69.5500</td><td>0</td></tr>\n",
              "\t<tr><td>0</td><td>29.91726</td><td>0</td><td>0</td><td>  7.8958</td><td>0</td></tr>\n",
              "\t<tr><td>0</td><td>25.00000</td><td>0</td><td>1</td><td> 26.0000</td><td>1</td></tr>\n",
              "\t<tr><td>0</td><td>25.00000</td><td>0</td><td>0</td><td>  7.0500</td><td>0</td></tr>\n",
              "\t<tr><td>0</td><td>29.91726</td><td>1</td><td>2</td><td> 23.4500</td><td>0</td></tr>\n",
              "</tbody>\n",
              "</table>\n"
            ],
            "text/markdown": "\nA tibble: 179 × 6\n\n| .pred_class &lt;fct&gt; | age &lt;dbl&gt; | sib_sp &lt;int&gt; | parch &lt;int&gt; | fare &lt;dbl&gt; | survived &lt;fct&gt; |\n|---|---|---|---|---|---|\n| 0 | 22.00000 | 1 | 0 |   7.2500 | 0 |\n| 0 | 26.00000 | 0 | 0 |   7.9250 | 1 |\n| 0 | 54.00000 | 0 | 0 |  51.8625 | 0 |\n| 0 | 58.00000 | 0 | 0 |  26.5500 | 1 |\n| 0 | 14.00000 | 0 | 0 |   7.8542 | 0 |\n| 0 | 29.91726 | 0 | 0 |  13.0000 | 1 |\n| 0 | 34.00000 | 0 | 0 |  13.0000 | 1 |\n| 0 | 29.91726 | 0 | 0 |   7.2250 | 0 |\n| 0 | 19.00000 | 3 | 2 | 263.0000 | 0 |\n| 0 | 29.91726 | 1 | 0 | 146.5208 | 1 |\n| 0 | 29.91726 | 0 | 0 |   7.8958 | 0 |\n| 0 |  3.00000 | 1 | 2 |  41.5792 | 1 |\n| 0 | 38.00000 | 0 | 0 |  80.0000 | 1 |\n| 0 | 45.00000 | 1 | 0 |  83.4750 | 0 |\n| 0 | 21.00000 | 0 | 0 |  73.5000 | 0 |\n| 0 | 29.00000 | 0 | 0 |   9.5000 | 1 |\n| 0 | 33.00000 | 3 | 0 |  15.8500 | 1 |\n| 0 | 20.00000 | 0 | 0 |   7.8542 | 0 |\n| 0 | 71.00000 | 0 | 0 |  34.6542 | 0 |\n| 0 | 28.00000 | 0 | 0 |   7.8958 | 0 |\n| 0 | 29.91726 | 0 | 0 |   7.8958 | 0 |\n| 0 | 21.00000 | 0 | 0 |   7.6500 | 1 |\n| 0 | 12.00000 | 1 | 0 |  11.2417 | 1 |\n| 0 | 47.00000 | 1 | 0 |  14.5000 | 0 |\n| 0 | 24.00000 | 0 | 0 |  79.2000 | 0 |\n| 0 | 22.00000 | 0 | 0 |   7.7500 | 1 |\n| 0 | 19.00000 | 0 | 0 |   6.7500 | 0 |\n| 0 | 18.00000 | 0 | 0 |  11.5000 | 0 |\n| 0 | 19.00000 | 1 | 1 |  36.7500 | 0 |\n| 0 | 27.00000 | 0 | 0 |   7.7958 | 1 |\n| ⋮ | ⋮ | ⋮ | ⋮ | ⋮ | ⋮ |\n| 0 | 23.00000 | 0 | 0 |  13.0000 | 0 |\n| 0 | 29.91726 | 0 | 0 |  30.0000 | 1 |\n| 0 | 21.00000 | 2 | 2 | 262.3750 | 1 |\n| 0 | 31.00000 | 0 | 0 |   7.9250 | 1 |\n| 0 | 30.00000 | 0 | 0 |  13.0000 | 1 |\n| 0 | 31.00000 | 0 | 0 |   7.7500 | 0 |\n| 0 | 28.00000 | 0 | 0 |   7.7958 | 0 |\n| 0 | 16.00000 | 0 | 0 |   7.7750 | 0 |\n| 0 | 32.00000 | 0 | 0 |   8.3625 | 0 |\n| 0 | 57.00000 | 0 | 0 |  10.5000 | 0 |\n| 0 | 18.00000 | 0 | 0 |   7.7500 | 0 |\n| 0 |  5.00000 | 0 | 0 |  12.4750 | 1 |\n| 0 | 25.00000 | 0 | 0 |   7.0500 | 0 |\n| 0 | 25.00000 | 0 | 0 |   7.2500 | 0 |\n| 0 | 46.00000 | 0 | 0 |  79.2000 | 0 |\n| 0 | 39.00000 | 0 | 0 |  13.0000 | 0 |\n| 0 |  0.42000 | 0 | 1 |   8.5167 | 1 |\n| 0 | 26.00000 | 0 | 0 |   7.8875 | 0 |\n| 0 | 23.00000 | 0 | 0 |   7.9250 | 0 |\n| 0 |  2.00000 | 4 | 1 |  39.6875 | 0 |\n| 0 | 62.00000 | 0 | 0 |  80.0000 | 1 |\n| 0 | 21.00000 | 0 | 0 |   8.6625 | 0 |\n| 0 | 17.00000 | 0 | 0 |   8.6625 | 0 |\n| 0 | 24.00000 | 0 | 3 |  19.2583 | 1 |\n| 0 | 48.00000 | 0 | 0 |  25.9292 | 1 |\n| 0 | 29.91726 | 8 | 2 |  69.5500 | 0 |\n| 0 | 29.91726 | 0 | 0 |   7.8958 | 0 |\n| 0 | 25.00000 | 0 | 1 |  26.0000 | 1 |\n| 0 | 25.00000 | 0 | 0 |   7.0500 | 0 |\n| 0 | 29.91726 | 1 | 2 |  23.4500 | 0 |\n\n",
            "text/latex": "A tibble: 179 × 6\n\\begin{tabular}{llllll}\n .pred\\_class & age & sib\\_sp & parch & fare & survived\\\\\n <fct> & <dbl> & <int> & <int> & <dbl> & <fct>\\\\\n\\hline\n\t 0 & 22.00000 & 1 & 0 &   7.2500 & 0\\\\\n\t 0 & 26.00000 & 0 & 0 &   7.9250 & 1\\\\\n\t 0 & 54.00000 & 0 & 0 &  51.8625 & 0\\\\\n\t 0 & 58.00000 & 0 & 0 &  26.5500 & 1\\\\\n\t 0 & 14.00000 & 0 & 0 &   7.8542 & 0\\\\\n\t 0 & 29.91726 & 0 & 0 &  13.0000 & 1\\\\\n\t 0 & 34.00000 & 0 & 0 &  13.0000 & 1\\\\\n\t 0 & 29.91726 & 0 & 0 &   7.2250 & 0\\\\\n\t 0 & 19.00000 & 3 & 2 & 263.0000 & 0\\\\\n\t 0 & 29.91726 & 1 & 0 & 146.5208 & 1\\\\\n\t 0 & 29.91726 & 0 & 0 &   7.8958 & 0\\\\\n\t 0 &  3.00000 & 1 & 2 &  41.5792 & 1\\\\\n\t 0 & 38.00000 & 0 & 0 &  80.0000 & 1\\\\\n\t 0 & 45.00000 & 1 & 0 &  83.4750 & 0\\\\\n\t 0 & 21.00000 & 0 & 0 &  73.5000 & 0\\\\\n\t 0 & 29.00000 & 0 & 0 &   9.5000 & 1\\\\\n\t 0 & 33.00000 & 3 & 0 &  15.8500 & 1\\\\\n\t 0 & 20.00000 & 0 & 0 &   7.8542 & 0\\\\\n\t 0 & 71.00000 & 0 & 0 &  34.6542 & 0\\\\\n\t 0 & 28.00000 & 0 & 0 &   7.8958 & 0\\\\\n\t 0 & 29.91726 & 0 & 0 &   7.8958 & 0\\\\\n\t 0 & 21.00000 & 0 & 0 &   7.6500 & 1\\\\\n\t 0 & 12.00000 & 1 & 0 &  11.2417 & 1\\\\\n\t 0 & 47.00000 & 1 & 0 &  14.5000 & 0\\\\\n\t 0 & 24.00000 & 0 & 0 &  79.2000 & 0\\\\\n\t 0 & 22.00000 & 0 & 0 &   7.7500 & 1\\\\\n\t 0 & 19.00000 & 0 & 0 &   6.7500 & 0\\\\\n\t 0 & 18.00000 & 0 & 0 &  11.5000 & 0\\\\\n\t 0 & 19.00000 & 1 & 1 &  36.7500 & 0\\\\\n\t 0 & 27.00000 & 0 & 0 &   7.7958 & 1\\\\\n\t ⋮ & ⋮ & ⋮ & ⋮ & ⋮ & ⋮\\\\\n\t 0 & 23.00000 & 0 & 0 &  13.0000 & 0\\\\\n\t 0 & 29.91726 & 0 & 0 &  30.0000 & 1\\\\\n\t 0 & 21.00000 & 2 & 2 & 262.3750 & 1\\\\\n\t 0 & 31.00000 & 0 & 0 &   7.9250 & 1\\\\\n\t 0 & 30.00000 & 0 & 0 &  13.0000 & 1\\\\\n\t 0 & 31.00000 & 0 & 0 &   7.7500 & 0\\\\\n\t 0 & 28.00000 & 0 & 0 &   7.7958 & 0\\\\\n\t 0 & 16.00000 & 0 & 0 &   7.7750 & 0\\\\\n\t 0 & 32.00000 & 0 & 0 &   8.3625 & 0\\\\\n\t 0 & 57.00000 & 0 & 0 &  10.5000 & 0\\\\\n\t 0 & 18.00000 & 0 & 0 &   7.7500 & 0\\\\\n\t 0 &  5.00000 & 0 & 0 &  12.4750 & 1\\\\\n\t 0 & 25.00000 & 0 & 0 &   7.0500 & 0\\\\\n\t 0 & 25.00000 & 0 & 0 &   7.2500 & 0\\\\\n\t 0 & 46.00000 & 0 & 0 &  79.2000 & 0\\\\\n\t 0 & 39.00000 & 0 & 0 &  13.0000 & 0\\\\\n\t 0 &  0.42000 & 0 & 1 &   8.5167 & 1\\\\\n\t 0 & 26.00000 & 0 & 0 &   7.8875 & 0\\\\\n\t 0 & 23.00000 & 0 & 0 &   7.9250 & 0\\\\\n\t 0 &  2.00000 & 4 & 1 &  39.6875 & 0\\\\\n\t 0 & 62.00000 & 0 & 0 &  80.0000 & 1\\\\\n\t 0 & 21.00000 & 0 & 0 &   8.6625 & 0\\\\\n\t 0 & 17.00000 & 0 & 0 &   8.6625 & 0\\\\\n\t 0 & 24.00000 & 0 & 3 &  19.2583 & 1\\\\\n\t 0 & 48.00000 & 0 & 0 &  25.9292 & 1\\\\\n\t 0 & 29.91726 & 8 & 2 &  69.5500 & 0\\\\\n\t 0 & 29.91726 & 0 & 0 &   7.8958 & 0\\\\\n\t 0 & 25.00000 & 0 & 1 &  26.0000 & 1\\\\\n\t 0 & 25.00000 & 0 & 0 &   7.0500 & 0\\\\\n\t 0 & 29.91726 & 1 & 2 &  23.4500 & 0\\\\\n\\end{tabular}\n",
            "text/plain": [
              "    .pred_class age      sib_sp parch fare     survived\n",
              "1   0           22.00000 1      0       7.2500 0       \n",
              "2   0           26.00000 0      0       7.9250 1       \n",
              "3   0           54.00000 0      0      51.8625 0       \n",
              "4   0           58.00000 0      0      26.5500 1       \n",
              "5   0           14.00000 0      0       7.8542 0       \n",
              "6   0           29.91726 0      0      13.0000 1       \n",
              "7   0           34.00000 0      0      13.0000 1       \n",
              "8   0           29.91726 0      0       7.2250 0       \n",
              "9   0           19.00000 3      2     263.0000 0       \n",
              "10  0           29.91726 1      0     146.5208 1       \n",
              "11  0           29.91726 0      0       7.8958 0       \n",
              "12  0            3.00000 1      2      41.5792 1       \n",
              "13  0           38.00000 0      0      80.0000 1       \n",
              "14  0           45.00000 1      0      83.4750 0       \n",
              "15  0           21.00000 0      0      73.5000 0       \n",
              "16  0           29.00000 0      0       9.5000 1       \n",
              "17  0           33.00000 3      0      15.8500 1       \n",
              "18  0           20.00000 0      0       7.8542 0       \n",
              "19  0           71.00000 0      0      34.6542 0       \n",
              "20  0           28.00000 0      0       7.8958 0       \n",
              "21  0           29.91726 0      0       7.8958 0       \n",
              "22  0           21.00000 0      0       7.6500 1       \n",
              "23  0           12.00000 1      0      11.2417 1       \n",
              "24  0           47.00000 1      0      14.5000 0       \n",
              "25  0           24.00000 0      0      79.2000 0       \n",
              "26  0           22.00000 0      0       7.7500 1       \n",
              "27  0           19.00000 0      0       6.7500 0       \n",
              "28  0           18.00000 0      0      11.5000 0       \n",
              "29  0           19.00000 1      1      36.7500 0       \n",
              "30  0           27.00000 0      0       7.7958 1       \n",
              "⋮   ⋮           ⋮        ⋮      ⋮     ⋮        ⋮       \n",
              "150 0           23.00000 0      0      13.0000 0       \n",
              "151 0           29.91726 0      0      30.0000 1       \n",
              "152 0           21.00000 2      2     262.3750 1       \n",
              "153 0           31.00000 0      0       7.9250 1       \n",
              "154 0           30.00000 0      0      13.0000 1       \n",
              "155 0           31.00000 0      0       7.7500 0       \n",
              "156 0           28.00000 0      0       7.7958 0       \n",
              "157 0           16.00000 0      0       7.7750 0       \n",
              "158 0           32.00000 0      0       8.3625 0       \n",
              "159 0           57.00000 0      0      10.5000 0       \n",
              "160 0           18.00000 0      0       7.7500 0       \n",
              "161 0            5.00000 0      0      12.4750 1       \n",
              "162 0           25.00000 0      0       7.0500 0       \n",
              "163 0           25.00000 0      0       7.2500 0       \n",
              "164 0           46.00000 0      0      79.2000 0       \n",
              "165 0           39.00000 0      0      13.0000 0       \n",
              "166 0            0.42000 0      1       8.5167 1       \n",
              "167 0           26.00000 0      0       7.8875 0       \n",
              "168 0           23.00000 0      0       7.9250 0       \n",
              "169 0            2.00000 4      1      39.6875 0       \n",
              "170 0           62.00000 0      0      80.0000 1       \n",
              "171 0           21.00000 0      0       8.6625 0       \n",
              "172 0           17.00000 0      0       8.6625 0       \n",
              "173 0           24.00000 0      3      19.2583 1       \n",
              "174 0           48.00000 0      0      25.9292 1       \n",
              "175 0           29.91726 8      2      69.5500 0       \n",
              "176 0           29.91726 0      0       7.8958 0       \n",
              "177 0           25.00000 0      1      26.0000 1       \n",
              "178 0           25.00000 0      0       7.0500 0       \n",
              "179 0           29.91726 1      2      23.4500 0       "
            ]
          },
          "metadata": {}
        }
      ]
    },
    {
      "cell_type": "code",
      "source": [
        "# Average of survivors in training dataset\n",
        "mean(as.numeric(titanic_train$survived), na.rm = TRUE)"
      ],
      "metadata": {
        "colab": {
          "base_uri": "https://localhost:8080/",
          "height": 34
        },
        "id": "ymAMKCf6gAjN",
        "outputId": "e817d084-54f6-44c9-8eae-30dae138b1a3"
      },
      "execution_count": 80,
      "outputs": [
        {
          "output_type": "display_data",
          "data": {
            "text/html": [
              "0.383838383838384"
            ],
            "text/markdown": "0.383838383838384",
            "text/latex": "0.383838383838384",
            "text/plain": [
              "[1] 0.3838384"
            ]
          },
          "metadata": {}
        }
      ]
    },
    {
      "cell_type": "code",
      "source": [
        "# Generate predictions from test set\n",
        "titanic_null %>%\n",
        "  predict(train_testing) %>%\n",
        "  bind_cols(train_testing) %>%\n",
        "  metrics(truth = survived, estimate = .pred_class)"
      ],
      "metadata": {
        "colab": {
          "base_uri": "https://localhost:8080/",
          "height": 161
        },
        "id": "Yia_WhYCgI0A",
        "outputId": "5d951e77-1dff-430a-d0e2-b72808585371"
      },
      "execution_count": 81,
      "outputs": [
        {
          "output_type": "display_data",
          "data": {
            "text/html": [
              "<table class=\"dataframe\">\n",
              "<caption>A tibble: 2 × 3</caption>\n",
              "<thead>\n",
              "\t<tr><th scope=col>.metric</th><th scope=col>.estimator</th><th scope=col>.estimate</th></tr>\n",
              "\t<tr><th scope=col>&lt;chr&gt;</th><th scope=col>&lt;chr&gt;</th><th scope=col>&lt;dbl&gt;</th></tr>\n",
              "</thead>\n",
              "<tbody>\n",
              "\t<tr><td>accuracy</td><td>binary</td><td>0.6145251</td></tr>\n",
              "\t<tr><td>kap     </td><td>binary</td><td>0.0000000</td></tr>\n",
              "</tbody>\n",
              "</table>\n"
            ],
            "text/markdown": "\nA tibble: 2 × 3\n\n| .metric &lt;chr&gt; | .estimator &lt;chr&gt; | .estimate &lt;dbl&gt; |\n|---|---|---|\n| accuracy | binary | 0.6145251 |\n| kap      | binary | 0.0000000 |\n\n",
            "text/latex": "A tibble: 2 × 3\n\\begin{tabular}{lll}\n .metric & .estimator & .estimate\\\\\n <chr> & <chr> & <dbl>\\\\\n\\hline\n\t accuracy & binary & 0.6145251\\\\\n\t kap      & binary & 0.0000000\\\\\n\\end{tabular}\n",
            "text/plain": [
              "  .metric  .estimator .estimate\n",
              "1 accuracy binary     0.6145251\n",
              "2 kap      binary     0.0000000"
            ]
          },
          "metadata": {}
        }
      ]
    },
    {
      "cell_type": "code",
      "source": [
        "# Confusion matrix\n",
        "titanic_null %>%\n",
        "  predict(train_testing) %>%\n",
        "  bind_cols(train_testing) %>%\n",
        "  conf_mat(truth = survived, estimate = .pred_class)"
      ],
      "metadata": {
        "colab": {
          "base_uri": "https://localhost:8080/",
          "height": 88
        },
        "id": "llfUFYtFgLJX",
        "outputId": "a11d5561-701c-414a-fbb1-352ef3689c77"
      },
      "execution_count": 82,
      "outputs": [
        {
          "output_type": "display_data",
          "data": {
            "text/plain": [
              "          Truth\n",
              "Prediction   0   1\n",
              "         0 110  69\n",
              "         1   0   0"
            ]
          },
          "metadata": {}
        }
      ]
    },
    {
      "cell_type": "markdown",
      "source": [
        "### Model 1: KNN\n",
        "\n",
        "From the code below, we apply a KNN model. Normalization was first applied as a preprocessing step. The results was an accuracy of 0.7150, which is an improvement over the null model."
      ],
      "metadata": {
        "id": "r_lW_8JvgcA5"
      }
    },
    {
      "cell_type": "code",
      "source": [
        "# Recipe for preprocessing with normalization\n",
        "train_recipe <- recipe(survived ~ ., data = train) %>%\n",
        "  step_rm(pclass, sex, embarked) %>%\n",
        "  step_nzv(all_predictors()) %>%\n",
        "  step_impute_mean(age) %>%\n",
        "  step_normalize(all_numeric_predictors()) %>%\n",
        "  prep()"
      ],
      "metadata": {
        "id": "ubv8KixxlIpI"
      },
      "execution_count": 83,
      "outputs": []
    },
    {
      "cell_type": "code",
      "source": [
        "# Prepare the training dataset using the recipe\n",
        "train_training <- juice(train_recipe)"
      ],
      "metadata": {
        "id": "4bKgsOShlUoQ"
      },
      "execution_count": 84,
      "outputs": []
    },
    {
      "cell_type": "code",
      "source": [
        "# Set up model\n",
        "titanic_knn <- nearest_neighbor(neighbors = 11) %>%\n",
        "  set_engine(\"kknn\") %>%\n",
        "  set_mode(\"classification\") %>%\n",
        "  fit(survived ~ ., data = train_training)\n",
        "\n",
        "predict(titanic_knn, train_training)"
      ],
      "metadata": {
        "colab": {
          "base_uri": "https://localhost:8080/",
          "height": 1000
        },
        "id": "0LtR7PP_hShs",
        "outputId": "c611c8d2-64fd-4629-bd46-78bab328dfdd"
      },
      "execution_count": 85,
      "outputs": [
        {
          "output_type": "display_data",
          "data": {
            "text/html": [
              "<table class=\"dataframe\">\n",
              "<caption>A tibble: 712 × 1</caption>\n",
              "<thead>\n",
              "\t<tr><th scope=col>.pred_class</th></tr>\n",
              "\t<tr><th scope=col>&lt;fct&gt;</th></tr>\n",
              "</thead>\n",
              "<tbody>\n",
              "\t<tr><td>0</td></tr>\n",
              "\t<tr><td>0</td></tr>\n",
              "\t<tr><td>0</td></tr>\n",
              "\t<tr><td>0</td></tr>\n",
              "\t<tr><td>0</td></tr>\n",
              "\t<tr><td>0</td></tr>\n",
              "\t<tr><td>0</td></tr>\n",
              "\t<tr><td>1</td></tr>\n",
              "\t<tr><td>0</td></tr>\n",
              "\t<tr><td>0</td></tr>\n",
              "\t<tr><td>0</td></tr>\n",
              "\t<tr><td>1</td></tr>\n",
              "\t<tr><td>0</td></tr>\n",
              "\t<tr><td>0</td></tr>\n",
              "\t<tr><td>0</td></tr>\n",
              "\t<tr><td>0</td></tr>\n",
              "\t<tr><td>1</td></tr>\n",
              "\t<tr><td>0</td></tr>\n",
              "\t<tr><td>0</td></tr>\n",
              "\t<tr><td>0</td></tr>\n",
              "\t<tr><td>0</td></tr>\n",
              "\t<tr><td>1</td></tr>\n",
              "\t<tr><td>0</td></tr>\n",
              "\t<tr><td>0</td></tr>\n",
              "\t<tr><td>0</td></tr>\n",
              "\t<tr><td>1</td></tr>\n",
              "\t<tr><td>1</td></tr>\n",
              "\t<tr><td>0</td></tr>\n",
              "\t<tr><td>0</td></tr>\n",
              "\t<tr><td>0</td></tr>\n",
              "\t<tr><td>⋮</td></tr>\n",
              "\t<tr><td>0</td></tr>\n",
              "\t<tr><td>1</td></tr>\n",
              "\t<tr><td>0</td></tr>\n",
              "\t<tr><td>1</td></tr>\n",
              "\t<tr><td>1</td></tr>\n",
              "\t<tr><td>0</td></tr>\n",
              "\t<tr><td>1</td></tr>\n",
              "\t<tr><td>0</td></tr>\n",
              "\t<tr><td>1</td></tr>\n",
              "\t<tr><td>0</td></tr>\n",
              "\t<tr><td>1</td></tr>\n",
              "\t<tr><td>0</td></tr>\n",
              "\t<tr><td>0</td></tr>\n",
              "\t<tr><td>0</td></tr>\n",
              "\t<tr><td>1</td></tr>\n",
              "\t<tr><td>0</td></tr>\n",
              "\t<tr><td>1</td></tr>\n",
              "\t<tr><td>1</td></tr>\n",
              "\t<tr><td>0</td></tr>\n",
              "\t<tr><td>1</td></tr>\n",
              "\t<tr><td>0</td></tr>\n",
              "\t<tr><td>0</td></tr>\n",
              "\t<tr><td>0</td></tr>\n",
              "\t<tr><td>0</td></tr>\n",
              "\t<tr><td>1</td></tr>\n",
              "\t<tr><td>0</td></tr>\n",
              "\t<tr><td>0</td></tr>\n",
              "\t<tr><td>1</td></tr>\n",
              "\t<tr><td>0</td></tr>\n",
              "\t<tr><td>0</td></tr>\n",
              "</tbody>\n",
              "</table>\n"
            ],
            "text/markdown": "\nA tibble: 712 × 1\n\n| .pred_class &lt;fct&gt; |\n|---|\n| 0 |\n| 0 |\n| 0 |\n| 0 |\n| 0 |\n| 0 |\n| 0 |\n| 1 |\n| 0 |\n| 0 |\n| 0 |\n| 1 |\n| 0 |\n| 0 |\n| 0 |\n| 0 |\n| 1 |\n| 0 |\n| 0 |\n| 0 |\n| 0 |\n| 1 |\n| 0 |\n| 0 |\n| 0 |\n| 1 |\n| 1 |\n| 0 |\n| 0 |\n| 0 |\n| ⋮ |\n| 0 |\n| 1 |\n| 0 |\n| 1 |\n| 1 |\n| 0 |\n| 1 |\n| 0 |\n| 1 |\n| 0 |\n| 1 |\n| 0 |\n| 0 |\n| 0 |\n| 1 |\n| 0 |\n| 1 |\n| 1 |\n| 0 |\n| 1 |\n| 0 |\n| 0 |\n| 0 |\n| 0 |\n| 1 |\n| 0 |\n| 0 |\n| 1 |\n| 0 |\n| 0 |\n\n",
            "text/latex": "A tibble: 712 × 1\n\\begin{tabular}{l}\n .pred\\_class\\\\\n <fct>\\\\\n\\hline\n\t 0\\\\\n\t 0\\\\\n\t 0\\\\\n\t 0\\\\\n\t 0\\\\\n\t 0\\\\\n\t 0\\\\\n\t 1\\\\\n\t 0\\\\\n\t 0\\\\\n\t 0\\\\\n\t 1\\\\\n\t 0\\\\\n\t 0\\\\\n\t 0\\\\\n\t 0\\\\\n\t 1\\\\\n\t 0\\\\\n\t 0\\\\\n\t 0\\\\\n\t 0\\\\\n\t 1\\\\\n\t 0\\\\\n\t 0\\\\\n\t 0\\\\\n\t 1\\\\\n\t 1\\\\\n\t 0\\\\\n\t 0\\\\\n\t 0\\\\\n\t ⋮\\\\\n\t 0\\\\\n\t 1\\\\\n\t 0\\\\\n\t 1\\\\\n\t 1\\\\\n\t 0\\\\\n\t 1\\\\\n\t 0\\\\\n\t 1\\\\\n\t 0\\\\\n\t 1\\\\\n\t 0\\\\\n\t 0\\\\\n\t 0\\\\\n\t 1\\\\\n\t 0\\\\\n\t 1\\\\\n\t 1\\\\\n\t 0\\\\\n\t 1\\\\\n\t 0\\\\\n\t 0\\\\\n\t 0\\\\\n\t 0\\\\\n\t 1\\\\\n\t 0\\\\\n\t 0\\\\\n\t 1\\\\\n\t 0\\\\\n\t 0\\\\\n\\end{tabular}\n",
            "text/plain": [
              "    .pred_class\n",
              "1   0          \n",
              "2   0          \n",
              "3   0          \n",
              "4   0          \n",
              "5   0          \n",
              "6   0          \n",
              "7   0          \n",
              "8   1          \n",
              "9   0          \n",
              "10  0          \n",
              "11  0          \n",
              "12  1          \n",
              "13  0          \n",
              "14  0          \n",
              "15  0          \n",
              "16  0          \n",
              "17  1          \n",
              "18  0          \n",
              "19  0          \n",
              "20  0          \n",
              "21  0          \n",
              "22  1          \n",
              "23  0          \n",
              "24  0          \n",
              "25  0          \n",
              "26  1          \n",
              "27  1          \n",
              "28  0          \n",
              "29  0          \n",
              "30  0          \n",
              "⋮   ⋮          \n",
              "683 0          \n",
              "684 1          \n",
              "685 0          \n",
              "686 1          \n",
              "687 1          \n",
              "688 0          \n",
              "689 1          \n",
              "690 0          \n",
              "691 1          \n",
              "692 0          \n",
              "693 1          \n",
              "694 0          \n",
              "695 0          \n",
              "696 0          \n",
              "697 1          \n",
              "698 0          \n",
              "699 1          \n",
              "700 1          \n",
              "701 0          \n",
              "702 1          \n",
              "703 0          \n",
              "704 0          \n",
              "705 0          \n",
              "706 0          \n",
              "707 1          \n",
              "708 0          \n",
              "709 0          \n",
              "710 1          \n",
              "711 0          \n",
              "712 0          "
            ]
          },
          "metadata": {}
        }
      ]
    },
    {
      "cell_type": "code",
      "source": [
        "titanic_knn %>%\n",
        "  predict(train_testing) %>%\n",
        "  bind_cols(train_testing)"
      ],
      "metadata": {
        "colab": {
          "base_uri": "https://localhost:8080/",
          "height": 1000
        },
        "id": "L4MnbNPnjyOp",
        "outputId": "41586a2a-c186-4062-a0bc-0e6aa9ca3cd0"
      },
      "execution_count": 86,
      "outputs": [
        {
          "output_type": "display_data",
          "data": {
            "text/html": [
              "<table class=\"dataframe\">\n",
              "<caption>A tibble: 179 × 6</caption>\n",
              "<thead>\n",
              "\t<tr><th scope=col>.pred_class</th><th scope=col>age</th><th scope=col>sib_sp</th><th scope=col>parch</th><th scope=col>fare</th><th scope=col>survived</th></tr>\n",
              "\t<tr><th scope=col>&lt;fct&gt;</th><th scope=col>&lt;dbl&gt;</th><th scope=col>&lt;int&gt;</th><th scope=col>&lt;int&gt;</th><th scope=col>&lt;dbl&gt;</th><th scope=col>&lt;fct&gt;</th></tr>\n",
              "</thead>\n",
              "<tbody>\n",
              "\t<tr><td>0</td><td>22.00000</td><td>1</td><td>0</td><td>  7.2500</td><td>0</td></tr>\n",
              "\t<tr><td>0</td><td>26.00000</td><td>0</td><td>0</td><td>  7.9250</td><td>1</td></tr>\n",
              "\t<tr><td>1</td><td>54.00000</td><td>0</td><td>0</td><td> 51.8625</td><td>0</td></tr>\n",
              "\t<tr><td>1</td><td>58.00000</td><td>0</td><td>0</td><td> 26.5500</td><td>1</td></tr>\n",
              "\t<tr><td>0</td><td>14.00000</td><td>0</td><td>0</td><td>  7.8542</td><td>0</td></tr>\n",
              "\t<tr><td>0</td><td>29.91726</td><td>0</td><td>0</td><td> 13.0000</td><td>1</td></tr>\n",
              "\t<tr><td>0</td><td>34.00000</td><td>0</td><td>0</td><td> 13.0000</td><td>1</td></tr>\n",
              "\t<tr><td>0</td><td>29.91726</td><td>0</td><td>0</td><td>  7.2250</td><td>0</td></tr>\n",
              "\t<tr><td>1</td><td>19.00000</td><td>3</td><td>2</td><td>263.0000</td><td>0</td></tr>\n",
              "\t<tr><td>1</td><td>29.91726</td><td>1</td><td>0</td><td>146.5208</td><td>1</td></tr>\n",
              "\t<tr><td>0</td><td>29.91726</td><td>0</td><td>0</td><td>  7.8958</td><td>0</td></tr>\n",
              "\t<tr><td>1</td><td> 3.00000</td><td>1</td><td>2</td><td> 41.5792</td><td>1</td></tr>\n",
              "\t<tr><td>1</td><td>38.00000</td><td>0</td><td>0</td><td> 80.0000</td><td>1</td></tr>\n",
              "\t<tr><td>1</td><td>45.00000</td><td>1</td><td>0</td><td> 83.4750</td><td>0</td></tr>\n",
              "\t<tr><td>1</td><td>21.00000</td><td>0</td><td>0</td><td> 73.5000</td><td>0</td></tr>\n",
              "\t<tr><td>0</td><td>29.00000</td><td>0</td><td>0</td><td>  9.5000</td><td>1</td></tr>\n",
              "\t<tr><td>1</td><td>33.00000</td><td>3</td><td>0</td><td> 15.8500</td><td>1</td></tr>\n",
              "\t<tr><td>0</td><td>20.00000</td><td>0</td><td>0</td><td>  7.8542</td><td>0</td></tr>\n",
              "\t<tr><td>1</td><td>71.00000</td><td>0</td><td>0</td><td> 34.6542</td><td>0</td></tr>\n",
              "\t<tr><td>0</td><td>28.00000</td><td>0</td><td>0</td><td>  7.8958</td><td>0</td></tr>\n",
              "\t<tr><td>0</td><td>29.91726</td><td>0</td><td>0</td><td>  7.8958</td><td>0</td></tr>\n",
              "\t<tr><td>0</td><td>21.00000</td><td>0</td><td>0</td><td>  7.6500</td><td>1</td></tr>\n",
              "\t<tr><td>1</td><td>12.00000</td><td>1</td><td>0</td><td> 11.2417</td><td>1</td></tr>\n",
              "\t<tr><td>0</td><td>47.00000</td><td>1</td><td>0</td><td> 14.5000</td><td>0</td></tr>\n",
              "\t<tr><td>1</td><td>24.00000</td><td>0</td><td>0</td><td> 79.2000</td><td>0</td></tr>\n",
              "\t<tr><td>0</td><td>22.00000</td><td>0</td><td>0</td><td>  7.7500</td><td>1</td></tr>\n",
              "\t<tr><td>0</td><td>19.00000</td><td>0</td><td>0</td><td>  6.7500</td><td>0</td></tr>\n",
              "\t<tr><td>1</td><td>18.00000</td><td>0</td><td>0</td><td> 11.5000</td><td>0</td></tr>\n",
              "\t<tr><td>1</td><td>19.00000</td><td>1</td><td>1</td><td> 36.7500</td><td>0</td></tr>\n",
              "\t<tr><td>0</td><td>27.00000</td><td>0</td><td>0</td><td>  7.7958</td><td>1</td></tr>\n",
              "\t<tr><td>⋮</td><td>⋮</td><td>⋮</td><td>⋮</td><td>⋮</td><td>⋮</td></tr>\n",
              "\t<tr><td>1</td><td>23.00000</td><td>0</td><td>0</td><td> 13.0000</td><td>0</td></tr>\n",
              "\t<tr><td>1</td><td>29.91726</td><td>0</td><td>0</td><td> 30.0000</td><td>1</td></tr>\n",
              "\t<tr><td>1</td><td>21.00000</td><td>2</td><td>2</td><td>262.3750</td><td>1</td></tr>\n",
              "\t<tr><td>0</td><td>31.00000</td><td>0</td><td>0</td><td>  7.9250</td><td>1</td></tr>\n",
              "\t<tr><td>0</td><td>30.00000</td><td>0</td><td>0</td><td> 13.0000</td><td>1</td></tr>\n",
              "\t<tr><td>0</td><td>31.00000</td><td>0</td><td>0</td><td>  7.7500</td><td>0</td></tr>\n",
              "\t<tr><td>0</td><td>28.00000</td><td>0</td><td>0</td><td>  7.7958</td><td>0</td></tr>\n",
              "\t<tr><td>0</td><td>16.00000</td><td>0</td><td>0</td><td>  7.7750</td><td>0</td></tr>\n",
              "\t<tr><td>0</td><td>32.00000</td><td>0</td><td>0</td><td>  8.3625</td><td>0</td></tr>\n",
              "\t<tr><td>0</td><td>57.00000</td><td>0</td><td>0</td><td> 10.5000</td><td>0</td></tr>\n",
              "\t<tr><td>0</td><td>18.00000</td><td>0</td><td>0</td><td>  7.7500</td><td>0</td></tr>\n",
              "\t<tr><td>1</td><td> 5.00000</td><td>0</td><td>0</td><td> 12.4750</td><td>1</td></tr>\n",
              "\t<tr><td>0</td><td>25.00000</td><td>0</td><td>0</td><td>  7.0500</td><td>0</td></tr>\n",
              "\t<tr><td>0</td><td>25.00000</td><td>0</td><td>0</td><td>  7.2500</td><td>0</td></tr>\n",
              "\t<tr><td>1</td><td>46.00000</td><td>0</td><td>0</td><td> 79.2000</td><td>0</td></tr>\n",
              "\t<tr><td>0</td><td>39.00000</td><td>0</td><td>0</td><td> 13.0000</td><td>0</td></tr>\n",
              "\t<tr><td>1</td><td> 0.42000</td><td>0</td><td>1</td><td>  8.5167</td><td>1</td></tr>\n",
              "\t<tr><td>0</td><td>26.00000</td><td>0</td><td>0</td><td>  7.8875</td><td>0</td></tr>\n",
              "\t<tr><td>0</td><td>23.00000</td><td>0</td><td>0</td><td>  7.9250</td><td>0</td></tr>\n",
              "\t<tr><td>1</td><td> 2.00000</td><td>4</td><td>1</td><td> 39.6875</td><td>0</td></tr>\n",
              "\t<tr><td>1</td><td>62.00000</td><td>0</td><td>0</td><td> 80.0000</td><td>1</td></tr>\n",
              "\t<tr><td>0</td><td>21.00000</td><td>0</td><td>0</td><td>  8.6625</td><td>0</td></tr>\n",
              "\t<tr><td>0</td><td>17.00000</td><td>0</td><td>0</td><td>  8.6625</td><td>0</td></tr>\n",
              "\t<tr><td>1</td><td>24.00000</td><td>0</td><td>3</td><td> 19.2583</td><td>1</td></tr>\n",
              "\t<tr><td>1</td><td>48.00000</td><td>0</td><td>0</td><td> 25.9292</td><td>1</td></tr>\n",
              "\t<tr><td>1</td><td>29.91726</td><td>8</td><td>2</td><td> 69.5500</td><td>0</td></tr>\n",
              "\t<tr><td>0</td><td>29.91726</td><td>0</td><td>0</td><td>  7.8958</td><td>0</td></tr>\n",
              "\t<tr><td>1</td><td>25.00000</td><td>0</td><td>1</td><td> 26.0000</td><td>1</td></tr>\n",
              "\t<tr><td>0</td><td>25.00000</td><td>0</td><td>0</td><td>  7.0500</td><td>0</td></tr>\n",
              "\t<tr><td>1</td><td>29.91726</td><td>1</td><td>2</td><td> 23.4500</td><td>0</td></tr>\n",
              "</tbody>\n",
              "</table>\n"
            ],
            "text/markdown": "\nA tibble: 179 × 6\n\n| .pred_class &lt;fct&gt; | age &lt;dbl&gt; | sib_sp &lt;int&gt; | parch &lt;int&gt; | fare &lt;dbl&gt; | survived &lt;fct&gt; |\n|---|---|---|---|---|---|\n| 0 | 22.00000 | 1 | 0 |   7.2500 | 0 |\n| 0 | 26.00000 | 0 | 0 |   7.9250 | 1 |\n| 1 | 54.00000 | 0 | 0 |  51.8625 | 0 |\n| 1 | 58.00000 | 0 | 0 |  26.5500 | 1 |\n| 0 | 14.00000 | 0 | 0 |   7.8542 | 0 |\n| 0 | 29.91726 | 0 | 0 |  13.0000 | 1 |\n| 0 | 34.00000 | 0 | 0 |  13.0000 | 1 |\n| 0 | 29.91726 | 0 | 0 |   7.2250 | 0 |\n| 1 | 19.00000 | 3 | 2 | 263.0000 | 0 |\n| 1 | 29.91726 | 1 | 0 | 146.5208 | 1 |\n| 0 | 29.91726 | 0 | 0 |   7.8958 | 0 |\n| 1 |  3.00000 | 1 | 2 |  41.5792 | 1 |\n| 1 | 38.00000 | 0 | 0 |  80.0000 | 1 |\n| 1 | 45.00000 | 1 | 0 |  83.4750 | 0 |\n| 1 | 21.00000 | 0 | 0 |  73.5000 | 0 |\n| 0 | 29.00000 | 0 | 0 |   9.5000 | 1 |\n| 1 | 33.00000 | 3 | 0 |  15.8500 | 1 |\n| 0 | 20.00000 | 0 | 0 |   7.8542 | 0 |\n| 1 | 71.00000 | 0 | 0 |  34.6542 | 0 |\n| 0 | 28.00000 | 0 | 0 |   7.8958 | 0 |\n| 0 | 29.91726 | 0 | 0 |   7.8958 | 0 |\n| 0 | 21.00000 | 0 | 0 |   7.6500 | 1 |\n| 1 | 12.00000 | 1 | 0 |  11.2417 | 1 |\n| 0 | 47.00000 | 1 | 0 |  14.5000 | 0 |\n| 1 | 24.00000 | 0 | 0 |  79.2000 | 0 |\n| 0 | 22.00000 | 0 | 0 |   7.7500 | 1 |\n| 0 | 19.00000 | 0 | 0 |   6.7500 | 0 |\n| 1 | 18.00000 | 0 | 0 |  11.5000 | 0 |\n| 1 | 19.00000 | 1 | 1 |  36.7500 | 0 |\n| 0 | 27.00000 | 0 | 0 |   7.7958 | 1 |\n| ⋮ | ⋮ | ⋮ | ⋮ | ⋮ | ⋮ |\n| 1 | 23.00000 | 0 | 0 |  13.0000 | 0 |\n| 1 | 29.91726 | 0 | 0 |  30.0000 | 1 |\n| 1 | 21.00000 | 2 | 2 | 262.3750 | 1 |\n| 0 | 31.00000 | 0 | 0 |   7.9250 | 1 |\n| 0 | 30.00000 | 0 | 0 |  13.0000 | 1 |\n| 0 | 31.00000 | 0 | 0 |   7.7500 | 0 |\n| 0 | 28.00000 | 0 | 0 |   7.7958 | 0 |\n| 0 | 16.00000 | 0 | 0 |   7.7750 | 0 |\n| 0 | 32.00000 | 0 | 0 |   8.3625 | 0 |\n| 0 | 57.00000 | 0 | 0 |  10.5000 | 0 |\n| 0 | 18.00000 | 0 | 0 |   7.7500 | 0 |\n| 1 |  5.00000 | 0 | 0 |  12.4750 | 1 |\n| 0 | 25.00000 | 0 | 0 |   7.0500 | 0 |\n| 0 | 25.00000 | 0 | 0 |   7.2500 | 0 |\n| 1 | 46.00000 | 0 | 0 |  79.2000 | 0 |\n| 0 | 39.00000 | 0 | 0 |  13.0000 | 0 |\n| 1 |  0.42000 | 0 | 1 |   8.5167 | 1 |\n| 0 | 26.00000 | 0 | 0 |   7.8875 | 0 |\n| 0 | 23.00000 | 0 | 0 |   7.9250 | 0 |\n| 1 |  2.00000 | 4 | 1 |  39.6875 | 0 |\n| 1 | 62.00000 | 0 | 0 |  80.0000 | 1 |\n| 0 | 21.00000 | 0 | 0 |   8.6625 | 0 |\n| 0 | 17.00000 | 0 | 0 |   8.6625 | 0 |\n| 1 | 24.00000 | 0 | 3 |  19.2583 | 1 |\n| 1 | 48.00000 | 0 | 0 |  25.9292 | 1 |\n| 1 | 29.91726 | 8 | 2 |  69.5500 | 0 |\n| 0 | 29.91726 | 0 | 0 |   7.8958 | 0 |\n| 1 | 25.00000 | 0 | 1 |  26.0000 | 1 |\n| 0 | 25.00000 | 0 | 0 |   7.0500 | 0 |\n| 1 | 29.91726 | 1 | 2 |  23.4500 | 0 |\n\n",
            "text/latex": "A tibble: 179 × 6\n\\begin{tabular}{llllll}\n .pred\\_class & age & sib\\_sp & parch & fare & survived\\\\\n <fct> & <dbl> & <int> & <int> & <dbl> & <fct>\\\\\n\\hline\n\t 0 & 22.00000 & 1 & 0 &   7.2500 & 0\\\\\n\t 0 & 26.00000 & 0 & 0 &   7.9250 & 1\\\\\n\t 1 & 54.00000 & 0 & 0 &  51.8625 & 0\\\\\n\t 1 & 58.00000 & 0 & 0 &  26.5500 & 1\\\\\n\t 0 & 14.00000 & 0 & 0 &   7.8542 & 0\\\\\n\t 0 & 29.91726 & 0 & 0 &  13.0000 & 1\\\\\n\t 0 & 34.00000 & 0 & 0 &  13.0000 & 1\\\\\n\t 0 & 29.91726 & 0 & 0 &   7.2250 & 0\\\\\n\t 1 & 19.00000 & 3 & 2 & 263.0000 & 0\\\\\n\t 1 & 29.91726 & 1 & 0 & 146.5208 & 1\\\\\n\t 0 & 29.91726 & 0 & 0 &   7.8958 & 0\\\\\n\t 1 &  3.00000 & 1 & 2 &  41.5792 & 1\\\\\n\t 1 & 38.00000 & 0 & 0 &  80.0000 & 1\\\\\n\t 1 & 45.00000 & 1 & 0 &  83.4750 & 0\\\\\n\t 1 & 21.00000 & 0 & 0 &  73.5000 & 0\\\\\n\t 0 & 29.00000 & 0 & 0 &   9.5000 & 1\\\\\n\t 1 & 33.00000 & 3 & 0 &  15.8500 & 1\\\\\n\t 0 & 20.00000 & 0 & 0 &   7.8542 & 0\\\\\n\t 1 & 71.00000 & 0 & 0 &  34.6542 & 0\\\\\n\t 0 & 28.00000 & 0 & 0 &   7.8958 & 0\\\\\n\t 0 & 29.91726 & 0 & 0 &   7.8958 & 0\\\\\n\t 0 & 21.00000 & 0 & 0 &   7.6500 & 1\\\\\n\t 1 & 12.00000 & 1 & 0 &  11.2417 & 1\\\\\n\t 0 & 47.00000 & 1 & 0 &  14.5000 & 0\\\\\n\t 1 & 24.00000 & 0 & 0 &  79.2000 & 0\\\\\n\t 0 & 22.00000 & 0 & 0 &   7.7500 & 1\\\\\n\t 0 & 19.00000 & 0 & 0 &   6.7500 & 0\\\\\n\t 1 & 18.00000 & 0 & 0 &  11.5000 & 0\\\\\n\t 1 & 19.00000 & 1 & 1 &  36.7500 & 0\\\\\n\t 0 & 27.00000 & 0 & 0 &   7.7958 & 1\\\\\n\t ⋮ & ⋮ & ⋮ & ⋮ & ⋮ & ⋮\\\\\n\t 1 & 23.00000 & 0 & 0 &  13.0000 & 0\\\\\n\t 1 & 29.91726 & 0 & 0 &  30.0000 & 1\\\\\n\t 1 & 21.00000 & 2 & 2 & 262.3750 & 1\\\\\n\t 0 & 31.00000 & 0 & 0 &   7.9250 & 1\\\\\n\t 0 & 30.00000 & 0 & 0 &  13.0000 & 1\\\\\n\t 0 & 31.00000 & 0 & 0 &   7.7500 & 0\\\\\n\t 0 & 28.00000 & 0 & 0 &   7.7958 & 0\\\\\n\t 0 & 16.00000 & 0 & 0 &   7.7750 & 0\\\\\n\t 0 & 32.00000 & 0 & 0 &   8.3625 & 0\\\\\n\t 0 & 57.00000 & 0 & 0 &  10.5000 & 0\\\\\n\t 0 & 18.00000 & 0 & 0 &   7.7500 & 0\\\\\n\t 1 &  5.00000 & 0 & 0 &  12.4750 & 1\\\\\n\t 0 & 25.00000 & 0 & 0 &   7.0500 & 0\\\\\n\t 0 & 25.00000 & 0 & 0 &   7.2500 & 0\\\\\n\t 1 & 46.00000 & 0 & 0 &  79.2000 & 0\\\\\n\t 0 & 39.00000 & 0 & 0 &  13.0000 & 0\\\\\n\t 1 &  0.42000 & 0 & 1 &   8.5167 & 1\\\\\n\t 0 & 26.00000 & 0 & 0 &   7.8875 & 0\\\\\n\t 0 & 23.00000 & 0 & 0 &   7.9250 & 0\\\\\n\t 1 &  2.00000 & 4 & 1 &  39.6875 & 0\\\\\n\t 1 & 62.00000 & 0 & 0 &  80.0000 & 1\\\\\n\t 0 & 21.00000 & 0 & 0 &   8.6625 & 0\\\\\n\t 0 & 17.00000 & 0 & 0 &   8.6625 & 0\\\\\n\t 1 & 24.00000 & 0 & 3 &  19.2583 & 1\\\\\n\t 1 & 48.00000 & 0 & 0 &  25.9292 & 1\\\\\n\t 1 & 29.91726 & 8 & 2 &  69.5500 & 0\\\\\n\t 0 & 29.91726 & 0 & 0 &   7.8958 & 0\\\\\n\t 1 & 25.00000 & 0 & 1 &  26.0000 & 1\\\\\n\t 0 & 25.00000 & 0 & 0 &   7.0500 & 0\\\\\n\t 1 & 29.91726 & 1 & 2 &  23.4500 & 0\\\\\n\\end{tabular}\n",
            "text/plain": [
              "    .pred_class age      sib_sp parch fare     survived\n",
              "1   0           22.00000 1      0       7.2500 0       \n",
              "2   0           26.00000 0      0       7.9250 1       \n",
              "3   1           54.00000 0      0      51.8625 0       \n",
              "4   1           58.00000 0      0      26.5500 1       \n",
              "5   0           14.00000 0      0       7.8542 0       \n",
              "6   0           29.91726 0      0      13.0000 1       \n",
              "7   0           34.00000 0      0      13.0000 1       \n",
              "8   0           29.91726 0      0       7.2250 0       \n",
              "9   1           19.00000 3      2     263.0000 0       \n",
              "10  1           29.91726 1      0     146.5208 1       \n",
              "11  0           29.91726 0      0       7.8958 0       \n",
              "12  1            3.00000 1      2      41.5792 1       \n",
              "13  1           38.00000 0      0      80.0000 1       \n",
              "14  1           45.00000 1      0      83.4750 0       \n",
              "15  1           21.00000 0      0      73.5000 0       \n",
              "16  0           29.00000 0      0       9.5000 1       \n",
              "17  1           33.00000 3      0      15.8500 1       \n",
              "18  0           20.00000 0      0       7.8542 0       \n",
              "19  1           71.00000 0      0      34.6542 0       \n",
              "20  0           28.00000 0      0       7.8958 0       \n",
              "21  0           29.91726 0      0       7.8958 0       \n",
              "22  0           21.00000 0      0       7.6500 1       \n",
              "23  1           12.00000 1      0      11.2417 1       \n",
              "24  0           47.00000 1      0      14.5000 0       \n",
              "25  1           24.00000 0      0      79.2000 0       \n",
              "26  0           22.00000 0      0       7.7500 1       \n",
              "27  0           19.00000 0      0       6.7500 0       \n",
              "28  1           18.00000 0      0      11.5000 0       \n",
              "29  1           19.00000 1      1      36.7500 0       \n",
              "30  0           27.00000 0      0       7.7958 1       \n",
              "⋮   ⋮           ⋮        ⋮      ⋮     ⋮        ⋮       \n",
              "150 1           23.00000 0      0      13.0000 0       \n",
              "151 1           29.91726 0      0      30.0000 1       \n",
              "152 1           21.00000 2      2     262.3750 1       \n",
              "153 0           31.00000 0      0       7.9250 1       \n",
              "154 0           30.00000 0      0      13.0000 1       \n",
              "155 0           31.00000 0      0       7.7500 0       \n",
              "156 0           28.00000 0      0       7.7958 0       \n",
              "157 0           16.00000 0      0       7.7750 0       \n",
              "158 0           32.00000 0      0       8.3625 0       \n",
              "159 0           57.00000 0      0      10.5000 0       \n",
              "160 0           18.00000 0      0       7.7500 0       \n",
              "161 1            5.00000 0      0      12.4750 1       \n",
              "162 0           25.00000 0      0       7.0500 0       \n",
              "163 0           25.00000 0      0       7.2500 0       \n",
              "164 1           46.00000 0      0      79.2000 0       \n",
              "165 0           39.00000 0      0      13.0000 0       \n",
              "166 1            0.42000 0      1       8.5167 1       \n",
              "167 0           26.00000 0      0       7.8875 0       \n",
              "168 0           23.00000 0      0       7.9250 0       \n",
              "169 1            2.00000 4      1      39.6875 0       \n",
              "170 1           62.00000 0      0      80.0000 1       \n",
              "171 0           21.00000 0      0       8.6625 0       \n",
              "172 0           17.00000 0      0       8.6625 0       \n",
              "173 1           24.00000 0      3      19.2583 1       \n",
              "174 1           48.00000 0      0      25.9292 1       \n",
              "175 1           29.91726 8      2      69.5500 0       \n",
              "176 0           29.91726 0      0       7.8958 0       \n",
              "177 1           25.00000 0      1      26.0000 1       \n",
              "178 0           25.00000 0      0       7.0500 0       \n",
              "179 1           29.91726 1      2      23.4500 0       "
            ]
          },
          "metadata": {}
        }
      ]
    },
    {
      "cell_type": "code",
      "source": [
        "# Predict accuracy\n",
        "titanic_knn %>%\n",
        "  predict(train_testing) %>%\n",
        "  bind_cols(train_testing) %>%\n",
        "  metrics(truth = survived, estimate = .pred_class)"
      ],
      "metadata": {
        "colab": {
          "base_uri": "https://localhost:8080/",
          "height": 161
        },
        "id": "AvbIK3X5ktT8",
        "outputId": "f5b738c3-b159-42d4-e99e-4dbda8658232"
      },
      "execution_count": 87,
      "outputs": [
        {
          "output_type": "display_data",
          "data": {
            "text/html": [
              "<table class=\"dataframe\">\n",
              "<caption>A tibble: 2 × 3</caption>\n",
              "<thead>\n",
              "\t<tr><th scope=col>.metric</th><th scope=col>.estimator</th><th scope=col>.estimate</th></tr>\n",
              "\t<tr><th scope=col>&lt;chr&gt;</th><th scope=col>&lt;chr&gt;</th><th scope=col>&lt;dbl&gt;</th></tr>\n",
              "</thead>\n",
              "<tbody>\n",
              "\t<tr><td>accuracy</td><td>binary</td><td>0.7150838</td></tr>\n",
              "\t<tr><td>kap     </td><td>binary</td><td>0.4279717</td></tr>\n",
              "</tbody>\n",
              "</table>\n"
            ],
            "text/markdown": "\nA tibble: 2 × 3\n\n| .metric &lt;chr&gt; | .estimator &lt;chr&gt; | .estimate &lt;dbl&gt; |\n|---|---|---|\n| accuracy | binary | 0.7150838 |\n| kap      | binary | 0.4279717 |\n\n",
            "text/latex": "A tibble: 2 × 3\n\\begin{tabular}{lll}\n .metric & .estimator & .estimate\\\\\n <chr> & <chr> & <dbl>\\\\\n\\hline\n\t accuracy & binary & 0.7150838\\\\\n\t kap      & binary & 0.4279717\\\\\n\\end{tabular}\n",
            "text/plain": [
              "  .metric  .estimator .estimate\n",
              "1 accuracy binary     0.7150838\n",
              "2 kap      binary     0.4279717"
            ]
          },
          "metadata": {}
        }
      ]
    },
    {
      "cell_type": "code",
      "source": [
        "# Confusion matrix\n",
        "titanic_knn %>%\n",
        "  predict(train_testing) %>%\n",
        "  bind_cols(train_testing) %>%\n",
        "  conf_mat(truth = survived, estimate = .pred_class)"
      ],
      "metadata": {
        "colab": {
          "base_uri": "https://localhost:8080/",
          "height": 88
        },
        "id": "lQYwC2xSkwL3",
        "outputId": "57b96b5e-0707-4a0c-c68a-16adb8e5610b"
      },
      "execution_count": 88,
      "outputs": [
        {
          "output_type": "display_data",
          "data": {
            "text/plain": [
              "          Truth\n",
              "Prediction  0  1\n",
              "         0 75 16\n",
              "         1 35 53"
            ]
          },
          "metadata": {}
        }
      ]
    },
    {
      "cell_type": "markdown",
      "source": [
        "### Model 2: Boosted C5.0\n",
        "\n",
        "The C5.0 model results in an accuracy of 0.4245, which is our worst performing model so far."
      ],
      "metadata": {
        "id": "PpLbMmdwm_CR"
      }
    },
    {
      "cell_type": "code",
      "source": [
        "# Set up model\n",
        "titanic_C50 <- boost_tree(trees = 20) %>%\n",
        "  set_engine(\"C5.0\") %>%\n",
        "  set_mode(\"classification\") %>%\n",
        "  fit(survived ~ ., data = train_training)\n",
        "\n",
        "predict(titanic_C50, train_training)"
      ],
      "metadata": {
        "colab": {
          "base_uri": "https://localhost:8080/",
          "height": 1000
        },
        "id": "sHjkHG3alFly",
        "outputId": "e919ac0c-c8c4-4766-b518-ec755b4db737"
      },
      "execution_count": 89,
      "outputs": [
        {
          "output_type": "display_data",
          "data": {
            "text/html": [
              "<table class=\"dataframe\">\n",
              "<caption>A tibble: 712 × 1</caption>\n",
              "<thead>\n",
              "\t<tr><th scope=col>.pred_class</th></tr>\n",
              "\t<tr><th scope=col>&lt;fct&gt;</th></tr>\n",
              "</thead>\n",
              "<tbody>\n",
              "\t<tr><td>0</td></tr>\n",
              "\t<tr><td>0</td></tr>\n",
              "\t<tr><td>0</td></tr>\n",
              "\t<tr><td>0</td></tr>\n",
              "\t<tr><td>0</td></tr>\n",
              "\t<tr><td>0</td></tr>\n",
              "\t<tr><td>0</td></tr>\n",
              "\t<tr><td>0</td></tr>\n",
              "\t<tr><td>0</td></tr>\n",
              "\t<tr><td>0</td></tr>\n",
              "\t<tr><td>0</td></tr>\n",
              "\t<tr><td>1</td></tr>\n",
              "\t<tr><td>0</td></tr>\n",
              "\t<tr><td>0</td></tr>\n",
              "\t<tr><td>0</td></tr>\n",
              "\t<tr><td>0</td></tr>\n",
              "\t<tr><td>1</td></tr>\n",
              "\t<tr><td>0</td></tr>\n",
              "\t<tr><td>0</td></tr>\n",
              "\t<tr><td>0</td></tr>\n",
              "\t<tr><td>0</td></tr>\n",
              "\t<tr><td>0</td></tr>\n",
              "\t<tr><td>0</td></tr>\n",
              "\t<tr><td>0</td></tr>\n",
              "\t<tr><td>0</td></tr>\n",
              "\t<tr><td>1</td></tr>\n",
              "\t<tr><td>1</td></tr>\n",
              "\t<tr><td>0</td></tr>\n",
              "\t<tr><td>0</td></tr>\n",
              "\t<tr><td>0</td></tr>\n",
              "\t<tr><td>⋮</td></tr>\n",
              "\t<tr><td>0</td></tr>\n",
              "\t<tr><td>1</td></tr>\n",
              "\t<tr><td>0</td></tr>\n",
              "\t<tr><td>1</td></tr>\n",
              "\t<tr><td>1</td></tr>\n",
              "\t<tr><td>0</td></tr>\n",
              "\t<tr><td>1</td></tr>\n",
              "\t<tr><td>0</td></tr>\n",
              "\t<tr><td>1</td></tr>\n",
              "\t<tr><td>0</td></tr>\n",
              "\t<tr><td>1</td></tr>\n",
              "\t<tr><td>0</td></tr>\n",
              "\t<tr><td>0</td></tr>\n",
              "\t<tr><td>0</td></tr>\n",
              "\t<tr><td>1</td></tr>\n",
              "\t<tr><td>0</td></tr>\n",
              "\t<tr><td>1</td></tr>\n",
              "\t<tr><td>1</td></tr>\n",
              "\t<tr><td>0</td></tr>\n",
              "\t<tr><td>1</td></tr>\n",
              "\t<tr><td>0</td></tr>\n",
              "\t<tr><td>0</td></tr>\n",
              "\t<tr><td>0</td></tr>\n",
              "\t<tr><td>0</td></tr>\n",
              "\t<tr><td>1</td></tr>\n",
              "\t<tr><td>0</td></tr>\n",
              "\t<tr><td>0</td></tr>\n",
              "\t<tr><td>1</td></tr>\n",
              "\t<tr><td>0</td></tr>\n",
              "\t<tr><td>0</td></tr>\n",
              "</tbody>\n",
              "</table>\n"
            ],
            "text/markdown": "\nA tibble: 712 × 1\n\n| .pred_class &lt;fct&gt; |\n|---|\n| 0 |\n| 0 |\n| 0 |\n| 0 |\n| 0 |\n| 0 |\n| 0 |\n| 0 |\n| 0 |\n| 0 |\n| 0 |\n| 1 |\n| 0 |\n| 0 |\n| 0 |\n| 0 |\n| 1 |\n| 0 |\n| 0 |\n| 0 |\n| 0 |\n| 0 |\n| 0 |\n| 0 |\n| 0 |\n| 1 |\n| 1 |\n| 0 |\n| 0 |\n| 0 |\n| ⋮ |\n| 0 |\n| 1 |\n| 0 |\n| 1 |\n| 1 |\n| 0 |\n| 1 |\n| 0 |\n| 1 |\n| 0 |\n| 1 |\n| 0 |\n| 0 |\n| 0 |\n| 1 |\n| 0 |\n| 1 |\n| 1 |\n| 0 |\n| 1 |\n| 0 |\n| 0 |\n| 0 |\n| 0 |\n| 1 |\n| 0 |\n| 0 |\n| 1 |\n| 0 |\n| 0 |\n\n",
            "text/latex": "A tibble: 712 × 1\n\\begin{tabular}{l}\n .pred\\_class\\\\\n <fct>\\\\\n\\hline\n\t 0\\\\\n\t 0\\\\\n\t 0\\\\\n\t 0\\\\\n\t 0\\\\\n\t 0\\\\\n\t 0\\\\\n\t 0\\\\\n\t 0\\\\\n\t 0\\\\\n\t 0\\\\\n\t 1\\\\\n\t 0\\\\\n\t 0\\\\\n\t 0\\\\\n\t 0\\\\\n\t 1\\\\\n\t 0\\\\\n\t 0\\\\\n\t 0\\\\\n\t 0\\\\\n\t 0\\\\\n\t 0\\\\\n\t 0\\\\\n\t 0\\\\\n\t 1\\\\\n\t 1\\\\\n\t 0\\\\\n\t 0\\\\\n\t 0\\\\\n\t ⋮\\\\\n\t 0\\\\\n\t 1\\\\\n\t 0\\\\\n\t 1\\\\\n\t 1\\\\\n\t 0\\\\\n\t 1\\\\\n\t 0\\\\\n\t 1\\\\\n\t 0\\\\\n\t 1\\\\\n\t 0\\\\\n\t 0\\\\\n\t 0\\\\\n\t 1\\\\\n\t 0\\\\\n\t 1\\\\\n\t 1\\\\\n\t 0\\\\\n\t 1\\\\\n\t 0\\\\\n\t 0\\\\\n\t 0\\\\\n\t 0\\\\\n\t 1\\\\\n\t 0\\\\\n\t 0\\\\\n\t 1\\\\\n\t 0\\\\\n\t 0\\\\\n\\end{tabular}\n",
            "text/plain": [
              "    .pred_class\n",
              "1   0          \n",
              "2   0          \n",
              "3   0          \n",
              "4   0          \n",
              "5   0          \n",
              "6   0          \n",
              "7   0          \n",
              "8   0          \n",
              "9   0          \n",
              "10  0          \n",
              "11  0          \n",
              "12  1          \n",
              "13  0          \n",
              "14  0          \n",
              "15  0          \n",
              "16  0          \n",
              "17  1          \n",
              "18  0          \n",
              "19  0          \n",
              "20  0          \n",
              "21  0          \n",
              "22  0          \n",
              "23  0          \n",
              "24  0          \n",
              "25  0          \n",
              "26  1          \n",
              "27  1          \n",
              "28  0          \n",
              "29  0          \n",
              "30  0          \n",
              "⋮   ⋮          \n",
              "683 0          \n",
              "684 1          \n",
              "685 0          \n",
              "686 1          \n",
              "687 1          \n",
              "688 0          \n",
              "689 1          \n",
              "690 0          \n",
              "691 1          \n",
              "692 0          \n",
              "693 1          \n",
              "694 0          \n",
              "695 0          \n",
              "696 0          \n",
              "697 1          \n",
              "698 0          \n",
              "699 1          \n",
              "700 1          \n",
              "701 0          \n",
              "702 1          \n",
              "703 0          \n",
              "704 0          \n",
              "705 0          \n",
              "706 0          \n",
              "707 1          \n",
              "708 0          \n",
              "709 0          \n",
              "710 1          \n",
              "711 0          \n",
              "712 0          "
            ]
          },
          "metadata": {}
        }
      ]
    },
    {
      "cell_type": "code",
      "source": [
        "# Set up model\n",
        "titanic_C50 <- boost_tree(trees = 20) %>%\n",
        "  set_engine(\"C5.0\") %>%\n",
        "  set_mode(\"classification\") %>%\n",
        "  fit(survived ~ ., data = train_training)\n",
        "\n",
        "predict(titanic_C50, train_training)"
      ],
      "metadata": {
        "colab": {
          "base_uri": "https://localhost:8080/",
          "height": 1000
        },
        "id": "0yD1hOvEoyJy",
        "outputId": "89020925-e4ef-4f4f-8054-5a10dda5e016"
      },
      "execution_count": 90,
      "outputs": [
        {
          "output_type": "display_data",
          "data": {
            "text/html": [
              "<table class=\"dataframe\">\n",
              "<caption>A tibble: 712 × 1</caption>\n",
              "<thead>\n",
              "\t<tr><th scope=col>.pred_class</th></tr>\n",
              "\t<tr><th scope=col>&lt;fct&gt;</th></tr>\n",
              "</thead>\n",
              "<tbody>\n",
              "\t<tr><td>0</td></tr>\n",
              "\t<tr><td>0</td></tr>\n",
              "\t<tr><td>0</td></tr>\n",
              "\t<tr><td>0</td></tr>\n",
              "\t<tr><td>0</td></tr>\n",
              "\t<tr><td>0</td></tr>\n",
              "\t<tr><td>0</td></tr>\n",
              "\t<tr><td>0</td></tr>\n",
              "\t<tr><td>0</td></tr>\n",
              "\t<tr><td>0</td></tr>\n",
              "\t<tr><td>0</td></tr>\n",
              "\t<tr><td>1</td></tr>\n",
              "\t<tr><td>0</td></tr>\n",
              "\t<tr><td>0</td></tr>\n",
              "\t<tr><td>0</td></tr>\n",
              "\t<tr><td>0</td></tr>\n",
              "\t<tr><td>1</td></tr>\n",
              "\t<tr><td>0</td></tr>\n",
              "\t<tr><td>0</td></tr>\n",
              "\t<tr><td>0</td></tr>\n",
              "\t<tr><td>0</td></tr>\n",
              "\t<tr><td>0</td></tr>\n",
              "\t<tr><td>0</td></tr>\n",
              "\t<tr><td>0</td></tr>\n",
              "\t<tr><td>0</td></tr>\n",
              "\t<tr><td>1</td></tr>\n",
              "\t<tr><td>1</td></tr>\n",
              "\t<tr><td>0</td></tr>\n",
              "\t<tr><td>0</td></tr>\n",
              "\t<tr><td>0</td></tr>\n",
              "\t<tr><td>⋮</td></tr>\n",
              "\t<tr><td>0</td></tr>\n",
              "\t<tr><td>1</td></tr>\n",
              "\t<tr><td>0</td></tr>\n",
              "\t<tr><td>1</td></tr>\n",
              "\t<tr><td>1</td></tr>\n",
              "\t<tr><td>0</td></tr>\n",
              "\t<tr><td>1</td></tr>\n",
              "\t<tr><td>0</td></tr>\n",
              "\t<tr><td>1</td></tr>\n",
              "\t<tr><td>0</td></tr>\n",
              "\t<tr><td>1</td></tr>\n",
              "\t<tr><td>0</td></tr>\n",
              "\t<tr><td>0</td></tr>\n",
              "\t<tr><td>0</td></tr>\n",
              "\t<tr><td>1</td></tr>\n",
              "\t<tr><td>0</td></tr>\n",
              "\t<tr><td>1</td></tr>\n",
              "\t<tr><td>1</td></tr>\n",
              "\t<tr><td>0</td></tr>\n",
              "\t<tr><td>1</td></tr>\n",
              "\t<tr><td>0</td></tr>\n",
              "\t<tr><td>0</td></tr>\n",
              "\t<tr><td>0</td></tr>\n",
              "\t<tr><td>0</td></tr>\n",
              "\t<tr><td>1</td></tr>\n",
              "\t<tr><td>0</td></tr>\n",
              "\t<tr><td>0</td></tr>\n",
              "\t<tr><td>1</td></tr>\n",
              "\t<tr><td>0</td></tr>\n",
              "\t<tr><td>0</td></tr>\n",
              "</tbody>\n",
              "</table>\n"
            ],
            "text/markdown": "\nA tibble: 712 × 1\n\n| .pred_class &lt;fct&gt; |\n|---|\n| 0 |\n| 0 |\n| 0 |\n| 0 |\n| 0 |\n| 0 |\n| 0 |\n| 0 |\n| 0 |\n| 0 |\n| 0 |\n| 1 |\n| 0 |\n| 0 |\n| 0 |\n| 0 |\n| 1 |\n| 0 |\n| 0 |\n| 0 |\n| 0 |\n| 0 |\n| 0 |\n| 0 |\n| 0 |\n| 1 |\n| 1 |\n| 0 |\n| 0 |\n| 0 |\n| ⋮ |\n| 0 |\n| 1 |\n| 0 |\n| 1 |\n| 1 |\n| 0 |\n| 1 |\n| 0 |\n| 1 |\n| 0 |\n| 1 |\n| 0 |\n| 0 |\n| 0 |\n| 1 |\n| 0 |\n| 1 |\n| 1 |\n| 0 |\n| 1 |\n| 0 |\n| 0 |\n| 0 |\n| 0 |\n| 1 |\n| 0 |\n| 0 |\n| 1 |\n| 0 |\n| 0 |\n\n",
            "text/latex": "A tibble: 712 × 1\n\\begin{tabular}{l}\n .pred\\_class\\\\\n <fct>\\\\\n\\hline\n\t 0\\\\\n\t 0\\\\\n\t 0\\\\\n\t 0\\\\\n\t 0\\\\\n\t 0\\\\\n\t 0\\\\\n\t 0\\\\\n\t 0\\\\\n\t 0\\\\\n\t 0\\\\\n\t 1\\\\\n\t 0\\\\\n\t 0\\\\\n\t 0\\\\\n\t 0\\\\\n\t 1\\\\\n\t 0\\\\\n\t 0\\\\\n\t 0\\\\\n\t 0\\\\\n\t 0\\\\\n\t 0\\\\\n\t 0\\\\\n\t 0\\\\\n\t 1\\\\\n\t 1\\\\\n\t 0\\\\\n\t 0\\\\\n\t 0\\\\\n\t ⋮\\\\\n\t 0\\\\\n\t 1\\\\\n\t 0\\\\\n\t 1\\\\\n\t 1\\\\\n\t 0\\\\\n\t 1\\\\\n\t 0\\\\\n\t 1\\\\\n\t 0\\\\\n\t 1\\\\\n\t 0\\\\\n\t 0\\\\\n\t 0\\\\\n\t 1\\\\\n\t 0\\\\\n\t 1\\\\\n\t 1\\\\\n\t 0\\\\\n\t 1\\\\\n\t 0\\\\\n\t 0\\\\\n\t 0\\\\\n\t 0\\\\\n\t 1\\\\\n\t 0\\\\\n\t 0\\\\\n\t 1\\\\\n\t 0\\\\\n\t 0\\\\\n\\end{tabular}\n",
            "text/plain": [
              "    .pred_class\n",
              "1   0          \n",
              "2   0          \n",
              "3   0          \n",
              "4   0          \n",
              "5   0          \n",
              "6   0          \n",
              "7   0          \n",
              "8   0          \n",
              "9   0          \n",
              "10  0          \n",
              "11  0          \n",
              "12  1          \n",
              "13  0          \n",
              "14  0          \n",
              "15  0          \n",
              "16  0          \n",
              "17  1          \n",
              "18  0          \n",
              "19  0          \n",
              "20  0          \n",
              "21  0          \n",
              "22  0          \n",
              "23  0          \n",
              "24  0          \n",
              "25  0          \n",
              "26  1          \n",
              "27  1          \n",
              "28  0          \n",
              "29  0          \n",
              "30  0          \n",
              "⋮   ⋮          \n",
              "683 0          \n",
              "684 1          \n",
              "685 0          \n",
              "686 1          \n",
              "687 1          \n",
              "688 0          \n",
              "689 1          \n",
              "690 0          \n",
              "691 1          \n",
              "692 0          \n",
              "693 1          \n",
              "694 0          \n",
              "695 0          \n",
              "696 0          \n",
              "697 1          \n",
              "698 0          \n",
              "699 1          \n",
              "700 1          \n",
              "701 0          \n",
              "702 1          \n",
              "703 0          \n",
              "704 0          \n",
              "705 0          \n",
              "706 0          \n",
              "707 1          \n",
              "708 0          \n",
              "709 0          \n",
              "710 1          \n",
              "711 0          \n",
              "712 0          "
            ]
          },
          "metadata": {}
        }
      ]
    },
    {
      "cell_type": "code",
      "source": [
        "titanic_C50 %>%\n",
        "  predict(train_testing) %>%\n",
        "  bind_cols(train_testing)"
      ],
      "metadata": {
        "colab": {
          "base_uri": "https://localhost:8080/",
          "height": 1000
        },
        "id": "AO-EVgm4o24v",
        "outputId": "70af8f7d-1503-43f0-e693-7a2142ee0a27"
      },
      "execution_count": 91,
      "outputs": [
        {
          "output_type": "display_data",
          "data": {
            "text/html": [
              "<table class=\"dataframe\">\n",
              "<caption>A tibble: 179 × 6</caption>\n",
              "<thead>\n",
              "\t<tr><th scope=col>.pred_class</th><th scope=col>age</th><th scope=col>sib_sp</th><th scope=col>parch</th><th scope=col>fare</th><th scope=col>survived</th></tr>\n",
              "\t<tr><th scope=col>&lt;fct&gt;</th><th scope=col>&lt;dbl&gt;</th><th scope=col>&lt;int&gt;</th><th scope=col>&lt;int&gt;</th><th scope=col>&lt;dbl&gt;</th><th scope=col>&lt;fct&gt;</th></tr>\n",
              "</thead>\n",
              "<tbody>\n",
              "\t<tr><td>1</td><td>22.00000</td><td>1</td><td>0</td><td>  7.2500</td><td>0</td></tr>\n",
              "\t<tr><td>1</td><td>26.00000</td><td>0</td><td>0</td><td>  7.9250</td><td>1</td></tr>\n",
              "\t<tr><td>1</td><td>54.00000</td><td>0</td><td>0</td><td> 51.8625</td><td>0</td></tr>\n",
              "\t<tr><td>1</td><td>58.00000</td><td>0</td><td>0</td><td> 26.5500</td><td>1</td></tr>\n",
              "\t<tr><td>1</td><td>14.00000</td><td>0</td><td>0</td><td>  7.8542</td><td>0</td></tr>\n",
              "\t<tr><td>1</td><td>29.91726</td><td>0</td><td>0</td><td> 13.0000</td><td>1</td></tr>\n",
              "\t<tr><td>1</td><td>34.00000</td><td>0</td><td>0</td><td> 13.0000</td><td>1</td></tr>\n",
              "\t<tr><td>1</td><td>29.91726</td><td>0</td><td>0</td><td>  7.2250</td><td>0</td></tr>\n",
              "\t<tr><td>0</td><td>19.00000</td><td>3</td><td>2</td><td>263.0000</td><td>0</td></tr>\n",
              "\t<tr><td>1</td><td>29.91726</td><td>1</td><td>0</td><td>146.5208</td><td>1</td></tr>\n",
              "\t<tr><td>1</td><td>29.91726</td><td>0</td><td>0</td><td>  7.8958</td><td>0</td></tr>\n",
              "\t<tr><td>1</td><td> 3.00000</td><td>1</td><td>2</td><td> 41.5792</td><td>1</td></tr>\n",
              "\t<tr><td>1</td><td>38.00000</td><td>0</td><td>0</td><td> 80.0000</td><td>1</td></tr>\n",
              "\t<tr><td>1</td><td>45.00000</td><td>1</td><td>0</td><td> 83.4750</td><td>0</td></tr>\n",
              "\t<tr><td>1</td><td>21.00000</td><td>0</td><td>0</td><td> 73.5000</td><td>0</td></tr>\n",
              "\t<tr><td>1</td><td>29.00000</td><td>0</td><td>0</td><td>  9.5000</td><td>1</td></tr>\n",
              "\t<tr><td>0</td><td>33.00000</td><td>3</td><td>0</td><td> 15.8500</td><td>1</td></tr>\n",
              "\t<tr><td>1</td><td>20.00000</td><td>0</td><td>0</td><td>  7.8542</td><td>0</td></tr>\n",
              "\t<tr><td>1</td><td>71.00000</td><td>0</td><td>0</td><td> 34.6542</td><td>0</td></tr>\n",
              "\t<tr><td>1</td><td>28.00000</td><td>0</td><td>0</td><td>  7.8958</td><td>0</td></tr>\n",
              "\t<tr><td>1</td><td>29.91726</td><td>0</td><td>0</td><td>  7.8958</td><td>0</td></tr>\n",
              "\t<tr><td>1</td><td>21.00000</td><td>0</td><td>0</td><td>  7.6500</td><td>1</td></tr>\n",
              "\t<tr><td>1</td><td>12.00000</td><td>1</td><td>0</td><td> 11.2417</td><td>1</td></tr>\n",
              "\t<tr><td>1</td><td>47.00000</td><td>1</td><td>0</td><td> 14.5000</td><td>0</td></tr>\n",
              "\t<tr><td>1</td><td>24.00000</td><td>0</td><td>0</td><td> 79.2000</td><td>0</td></tr>\n",
              "\t<tr><td>1</td><td>22.00000</td><td>0</td><td>0</td><td>  7.7500</td><td>1</td></tr>\n",
              "\t<tr><td>1</td><td>19.00000</td><td>0</td><td>0</td><td>  6.7500</td><td>0</td></tr>\n",
              "\t<tr><td>1</td><td>18.00000</td><td>0</td><td>0</td><td> 11.5000</td><td>0</td></tr>\n",
              "\t<tr><td>1</td><td>19.00000</td><td>1</td><td>1</td><td> 36.7500</td><td>0</td></tr>\n",
              "\t<tr><td>1</td><td>27.00000</td><td>0</td><td>0</td><td>  7.7958</td><td>1</td></tr>\n",
              "\t<tr><td>⋮</td><td>⋮</td><td>⋮</td><td>⋮</td><td>⋮</td><td>⋮</td></tr>\n",
              "\t<tr><td>1</td><td>23.00000</td><td>0</td><td>0</td><td> 13.0000</td><td>0</td></tr>\n",
              "\t<tr><td>1</td><td>29.91726</td><td>0</td><td>0</td><td> 30.0000</td><td>1</td></tr>\n",
              "\t<tr><td>0</td><td>21.00000</td><td>2</td><td>2</td><td>262.3750</td><td>1</td></tr>\n",
              "\t<tr><td>1</td><td>31.00000</td><td>0</td><td>0</td><td>  7.9250</td><td>1</td></tr>\n",
              "\t<tr><td>1</td><td>30.00000</td><td>0</td><td>0</td><td> 13.0000</td><td>1</td></tr>\n",
              "\t<tr><td>1</td><td>31.00000</td><td>0</td><td>0</td><td>  7.7500</td><td>0</td></tr>\n",
              "\t<tr><td>1</td><td>28.00000</td><td>0</td><td>0</td><td>  7.7958</td><td>0</td></tr>\n",
              "\t<tr><td>1</td><td>16.00000</td><td>0</td><td>0</td><td>  7.7750</td><td>0</td></tr>\n",
              "\t<tr><td>1</td><td>32.00000</td><td>0</td><td>0</td><td>  8.3625</td><td>0</td></tr>\n",
              "\t<tr><td>1</td><td>57.00000</td><td>0</td><td>0</td><td> 10.5000</td><td>0</td></tr>\n",
              "\t<tr><td>1</td><td>18.00000</td><td>0</td><td>0</td><td>  7.7500</td><td>0</td></tr>\n",
              "\t<tr><td>1</td><td> 5.00000</td><td>0</td><td>0</td><td> 12.4750</td><td>1</td></tr>\n",
              "\t<tr><td>1</td><td>25.00000</td><td>0</td><td>0</td><td>  7.0500</td><td>0</td></tr>\n",
              "\t<tr><td>1</td><td>25.00000</td><td>0</td><td>0</td><td>  7.2500</td><td>0</td></tr>\n",
              "\t<tr><td>1</td><td>46.00000</td><td>0</td><td>0</td><td> 79.2000</td><td>0</td></tr>\n",
              "\t<tr><td>1</td><td>39.00000</td><td>0</td><td>0</td><td> 13.0000</td><td>0</td></tr>\n",
              "\t<tr><td>1</td><td> 0.42000</td><td>0</td><td>1</td><td>  8.5167</td><td>1</td></tr>\n",
              "\t<tr><td>1</td><td>26.00000</td><td>0</td><td>0</td><td>  7.8875</td><td>0</td></tr>\n",
              "\t<tr><td>1</td><td>23.00000</td><td>0</td><td>0</td><td>  7.9250</td><td>0</td></tr>\n",
              "\t<tr><td>0</td><td> 2.00000</td><td>4</td><td>1</td><td> 39.6875</td><td>0</td></tr>\n",
              "\t<tr><td>1</td><td>62.00000</td><td>0</td><td>0</td><td> 80.0000</td><td>1</td></tr>\n",
              "\t<tr><td>1</td><td>21.00000</td><td>0</td><td>0</td><td>  8.6625</td><td>0</td></tr>\n",
              "\t<tr><td>1</td><td>17.00000</td><td>0</td><td>0</td><td>  8.6625</td><td>0</td></tr>\n",
              "\t<tr><td>1</td><td>24.00000</td><td>0</td><td>3</td><td> 19.2583</td><td>1</td></tr>\n",
              "\t<tr><td>1</td><td>48.00000</td><td>0</td><td>0</td><td> 25.9292</td><td>1</td></tr>\n",
              "\t<tr><td>0</td><td>29.91726</td><td>8</td><td>2</td><td> 69.5500</td><td>0</td></tr>\n",
              "\t<tr><td>1</td><td>29.91726</td><td>0</td><td>0</td><td>  7.8958</td><td>0</td></tr>\n",
              "\t<tr><td>1</td><td>25.00000</td><td>0</td><td>1</td><td> 26.0000</td><td>1</td></tr>\n",
              "\t<tr><td>1</td><td>25.00000</td><td>0</td><td>0</td><td>  7.0500</td><td>0</td></tr>\n",
              "\t<tr><td>1</td><td>29.91726</td><td>1</td><td>2</td><td> 23.4500</td><td>0</td></tr>\n",
              "</tbody>\n",
              "</table>\n"
            ],
            "text/markdown": "\nA tibble: 179 × 6\n\n| .pred_class &lt;fct&gt; | age &lt;dbl&gt; | sib_sp &lt;int&gt; | parch &lt;int&gt; | fare &lt;dbl&gt; | survived &lt;fct&gt; |\n|---|---|---|---|---|---|\n| 1 | 22.00000 | 1 | 0 |   7.2500 | 0 |\n| 1 | 26.00000 | 0 | 0 |   7.9250 | 1 |\n| 1 | 54.00000 | 0 | 0 |  51.8625 | 0 |\n| 1 | 58.00000 | 0 | 0 |  26.5500 | 1 |\n| 1 | 14.00000 | 0 | 0 |   7.8542 | 0 |\n| 1 | 29.91726 | 0 | 0 |  13.0000 | 1 |\n| 1 | 34.00000 | 0 | 0 |  13.0000 | 1 |\n| 1 | 29.91726 | 0 | 0 |   7.2250 | 0 |\n| 0 | 19.00000 | 3 | 2 | 263.0000 | 0 |\n| 1 | 29.91726 | 1 | 0 | 146.5208 | 1 |\n| 1 | 29.91726 | 0 | 0 |   7.8958 | 0 |\n| 1 |  3.00000 | 1 | 2 |  41.5792 | 1 |\n| 1 | 38.00000 | 0 | 0 |  80.0000 | 1 |\n| 1 | 45.00000 | 1 | 0 |  83.4750 | 0 |\n| 1 | 21.00000 | 0 | 0 |  73.5000 | 0 |\n| 1 | 29.00000 | 0 | 0 |   9.5000 | 1 |\n| 0 | 33.00000 | 3 | 0 |  15.8500 | 1 |\n| 1 | 20.00000 | 0 | 0 |   7.8542 | 0 |\n| 1 | 71.00000 | 0 | 0 |  34.6542 | 0 |\n| 1 | 28.00000 | 0 | 0 |   7.8958 | 0 |\n| 1 | 29.91726 | 0 | 0 |   7.8958 | 0 |\n| 1 | 21.00000 | 0 | 0 |   7.6500 | 1 |\n| 1 | 12.00000 | 1 | 0 |  11.2417 | 1 |\n| 1 | 47.00000 | 1 | 0 |  14.5000 | 0 |\n| 1 | 24.00000 | 0 | 0 |  79.2000 | 0 |\n| 1 | 22.00000 | 0 | 0 |   7.7500 | 1 |\n| 1 | 19.00000 | 0 | 0 |   6.7500 | 0 |\n| 1 | 18.00000 | 0 | 0 |  11.5000 | 0 |\n| 1 | 19.00000 | 1 | 1 |  36.7500 | 0 |\n| 1 | 27.00000 | 0 | 0 |   7.7958 | 1 |\n| ⋮ | ⋮ | ⋮ | ⋮ | ⋮ | ⋮ |\n| 1 | 23.00000 | 0 | 0 |  13.0000 | 0 |\n| 1 | 29.91726 | 0 | 0 |  30.0000 | 1 |\n| 0 | 21.00000 | 2 | 2 | 262.3750 | 1 |\n| 1 | 31.00000 | 0 | 0 |   7.9250 | 1 |\n| 1 | 30.00000 | 0 | 0 |  13.0000 | 1 |\n| 1 | 31.00000 | 0 | 0 |   7.7500 | 0 |\n| 1 | 28.00000 | 0 | 0 |   7.7958 | 0 |\n| 1 | 16.00000 | 0 | 0 |   7.7750 | 0 |\n| 1 | 32.00000 | 0 | 0 |   8.3625 | 0 |\n| 1 | 57.00000 | 0 | 0 |  10.5000 | 0 |\n| 1 | 18.00000 | 0 | 0 |   7.7500 | 0 |\n| 1 |  5.00000 | 0 | 0 |  12.4750 | 1 |\n| 1 | 25.00000 | 0 | 0 |   7.0500 | 0 |\n| 1 | 25.00000 | 0 | 0 |   7.2500 | 0 |\n| 1 | 46.00000 | 0 | 0 |  79.2000 | 0 |\n| 1 | 39.00000 | 0 | 0 |  13.0000 | 0 |\n| 1 |  0.42000 | 0 | 1 |   8.5167 | 1 |\n| 1 | 26.00000 | 0 | 0 |   7.8875 | 0 |\n| 1 | 23.00000 | 0 | 0 |   7.9250 | 0 |\n| 0 |  2.00000 | 4 | 1 |  39.6875 | 0 |\n| 1 | 62.00000 | 0 | 0 |  80.0000 | 1 |\n| 1 | 21.00000 | 0 | 0 |   8.6625 | 0 |\n| 1 | 17.00000 | 0 | 0 |   8.6625 | 0 |\n| 1 | 24.00000 | 0 | 3 |  19.2583 | 1 |\n| 1 | 48.00000 | 0 | 0 |  25.9292 | 1 |\n| 0 | 29.91726 | 8 | 2 |  69.5500 | 0 |\n| 1 | 29.91726 | 0 | 0 |   7.8958 | 0 |\n| 1 | 25.00000 | 0 | 1 |  26.0000 | 1 |\n| 1 | 25.00000 | 0 | 0 |   7.0500 | 0 |\n| 1 | 29.91726 | 1 | 2 |  23.4500 | 0 |\n\n",
            "text/latex": "A tibble: 179 × 6\n\\begin{tabular}{llllll}\n .pred\\_class & age & sib\\_sp & parch & fare & survived\\\\\n <fct> & <dbl> & <int> & <int> & <dbl> & <fct>\\\\\n\\hline\n\t 1 & 22.00000 & 1 & 0 &   7.2500 & 0\\\\\n\t 1 & 26.00000 & 0 & 0 &   7.9250 & 1\\\\\n\t 1 & 54.00000 & 0 & 0 &  51.8625 & 0\\\\\n\t 1 & 58.00000 & 0 & 0 &  26.5500 & 1\\\\\n\t 1 & 14.00000 & 0 & 0 &   7.8542 & 0\\\\\n\t 1 & 29.91726 & 0 & 0 &  13.0000 & 1\\\\\n\t 1 & 34.00000 & 0 & 0 &  13.0000 & 1\\\\\n\t 1 & 29.91726 & 0 & 0 &   7.2250 & 0\\\\\n\t 0 & 19.00000 & 3 & 2 & 263.0000 & 0\\\\\n\t 1 & 29.91726 & 1 & 0 & 146.5208 & 1\\\\\n\t 1 & 29.91726 & 0 & 0 &   7.8958 & 0\\\\\n\t 1 &  3.00000 & 1 & 2 &  41.5792 & 1\\\\\n\t 1 & 38.00000 & 0 & 0 &  80.0000 & 1\\\\\n\t 1 & 45.00000 & 1 & 0 &  83.4750 & 0\\\\\n\t 1 & 21.00000 & 0 & 0 &  73.5000 & 0\\\\\n\t 1 & 29.00000 & 0 & 0 &   9.5000 & 1\\\\\n\t 0 & 33.00000 & 3 & 0 &  15.8500 & 1\\\\\n\t 1 & 20.00000 & 0 & 0 &   7.8542 & 0\\\\\n\t 1 & 71.00000 & 0 & 0 &  34.6542 & 0\\\\\n\t 1 & 28.00000 & 0 & 0 &   7.8958 & 0\\\\\n\t 1 & 29.91726 & 0 & 0 &   7.8958 & 0\\\\\n\t 1 & 21.00000 & 0 & 0 &   7.6500 & 1\\\\\n\t 1 & 12.00000 & 1 & 0 &  11.2417 & 1\\\\\n\t 1 & 47.00000 & 1 & 0 &  14.5000 & 0\\\\\n\t 1 & 24.00000 & 0 & 0 &  79.2000 & 0\\\\\n\t 1 & 22.00000 & 0 & 0 &   7.7500 & 1\\\\\n\t 1 & 19.00000 & 0 & 0 &   6.7500 & 0\\\\\n\t 1 & 18.00000 & 0 & 0 &  11.5000 & 0\\\\\n\t 1 & 19.00000 & 1 & 1 &  36.7500 & 0\\\\\n\t 1 & 27.00000 & 0 & 0 &   7.7958 & 1\\\\\n\t ⋮ & ⋮ & ⋮ & ⋮ & ⋮ & ⋮\\\\\n\t 1 & 23.00000 & 0 & 0 &  13.0000 & 0\\\\\n\t 1 & 29.91726 & 0 & 0 &  30.0000 & 1\\\\\n\t 0 & 21.00000 & 2 & 2 & 262.3750 & 1\\\\\n\t 1 & 31.00000 & 0 & 0 &   7.9250 & 1\\\\\n\t 1 & 30.00000 & 0 & 0 &  13.0000 & 1\\\\\n\t 1 & 31.00000 & 0 & 0 &   7.7500 & 0\\\\\n\t 1 & 28.00000 & 0 & 0 &   7.7958 & 0\\\\\n\t 1 & 16.00000 & 0 & 0 &   7.7750 & 0\\\\\n\t 1 & 32.00000 & 0 & 0 &   8.3625 & 0\\\\\n\t 1 & 57.00000 & 0 & 0 &  10.5000 & 0\\\\\n\t 1 & 18.00000 & 0 & 0 &   7.7500 & 0\\\\\n\t 1 &  5.00000 & 0 & 0 &  12.4750 & 1\\\\\n\t 1 & 25.00000 & 0 & 0 &   7.0500 & 0\\\\\n\t 1 & 25.00000 & 0 & 0 &   7.2500 & 0\\\\\n\t 1 & 46.00000 & 0 & 0 &  79.2000 & 0\\\\\n\t 1 & 39.00000 & 0 & 0 &  13.0000 & 0\\\\\n\t 1 &  0.42000 & 0 & 1 &   8.5167 & 1\\\\\n\t 1 & 26.00000 & 0 & 0 &   7.8875 & 0\\\\\n\t 1 & 23.00000 & 0 & 0 &   7.9250 & 0\\\\\n\t 0 &  2.00000 & 4 & 1 &  39.6875 & 0\\\\\n\t 1 & 62.00000 & 0 & 0 &  80.0000 & 1\\\\\n\t 1 & 21.00000 & 0 & 0 &   8.6625 & 0\\\\\n\t 1 & 17.00000 & 0 & 0 &   8.6625 & 0\\\\\n\t 1 & 24.00000 & 0 & 3 &  19.2583 & 1\\\\\n\t 1 & 48.00000 & 0 & 0 &  25.9292 & 1\\\\\n\t 0 & 29.91726 & 8 & 2 &  69.5500 & 0\\\\\n\t 1 & 29.91726 & 0 & 0 &   7.8958 & 0\\\\\n\t 1 & 25.00000 & 0 & 1 &  26.0000 & 1\\\\\n\t 1 & 25.00000 & 0 & 0 &   7.0500 & 0\\\\\n\t 1 & 29.91726 & 1 & 2 &  23.4500 & 0\\\\\n\\end{tabular}\n",
            "text/plain": [
              "    .pred_class age      sib_sp parch fare     survived\n",
              "1   1           22.00000 1      0       7.2500 0       \n",
              "2   1           26.00000 0      0       7.9250 1       \n",
              "3   1           54.00000 0      0      51.8625 0       \n",
              "4   1           58.00000 0      0      26.5500 1       \n",
              "5   1           14.00000 0      0       7.8542 0       \n",
              "6   1           29.91726 0      0      13.0000 1       \n",
              "7   1           34.00000 0      0      13.0000 1       \n",
              "8   1           29.91726 0      0       7.2250 0       \n",
              "9   0           19.00000 3      2     263.0000 0       \n",
              "10  1           29.91726 1      0     146.5208 1       \n",
              "11  1           29.91726 0      0       7.8958 0       \n",
              "12  1            3.00000 1      2      41.5792 1       \n",
              "13  1           38.00000 0      0      80.0000 1       \n",
              "14  1           45.00000 1      0      83.4750 0       \n",
              "15  1           21.00000 0      0      73.5000 0       \n",
              "16  1           29.00000 0      0       9.5000 1       \n",
              "17  0           33.00000 3      0      15.8500 1       \n",
              "18  1           20.00000 0      0       7.8542 0       \n",
              "19  1           71.00000 0      0      34.6542 0       \n",
              "20  1           28.00000 0      0       7.8958 0       \n",
              "21  1           29.91726 0      0       7.8958 0       \n",
              "22  1           21.00000 0      0       7.6500 1       \n",
              "23  1           12.00000 1      0      11.2417 1       \n",
              "24  1           47.00000 1      0      14.5000 0       \n",
              "25  1           24.00000 0      0      79.2000 0       \n",
              "26  1           22.00000 0      0       7.7500 1       \n",
              "27  1           19.00000 0      0       6.7500 0       \n",
              "28  1           18.00000 0      0      11.5000 0       \n",
              "29  1           19.00000 1      1      36.7500 0       \n",
              "30  1           27.00000 0      0       7.7958 1       \n",
              "⋮   ⋮           ⋮        ⋮      ⋮     ⋮        ⋮       \n",
              "150 1           23.00000 0      0      13.0000 0       \n",
              "151 1           29.91726 0      0      30.0000 1       \n",
              "152 0           21.00000 2      2     262.3750 1       \n",
              "153 1           31.00000 0      0       7.9250 1       \n",
              "154 1           30.00000 0      0      13.0000 1       \n",
              "155 1           31.00000 0      0       7.7500 0       \n",
              "156 1           28.00000 0      0       7.7958 0       \n",
              "157 1           16.00000 0      0       7.7750 0       \n",
              "158 1           32.00000 0      0       8.3625 0       \n",
              "159 1           57.00000 0      0      10.5000 0       \n",
              "160 1           18.00000 0      0       7.7500 0       \n",
              "161 1            5.00000 0      0      12.4750 1       \n",
              "162 1           25.00000 0      0       7.0500 0       \n",
              "163 1           25.00000 0      0       7.2500 0       \n",
              "164 1           46.00000 0      0      79.2000 0       \n",
              "165 1           39.00000 0      0      13.0000 0       \n",
              "166 1            0.42000 0      1       8.5167 1       \n",
              "167 1           26.00000 0      0       7.8875 0       \n",
              "168 1           23.00000 0      0       7.9250 0       \n",
              "169 0            2.00000 4      1      39.6875 0       \n",
              "170 1           62.00000 0      0      80.0000 1       \n",
              "171 1           21.00000 0      0       8.6625 0       \n",
              "172 1           17.00000 0      0       8.6625 0       \n",
              "173 1           24.00000 0      3      19.2583 1       \n",
              "174 1           48.00000 0      0      25.9292 1       \n",
              "175 0           29.91726 8      2      69.5500 0       \n",
              "176 1           29.91726 0      0       7.8958 0       \n",
              "177 1           25.00000 0      1      26.0000 1       \n",
              "178 1           25.00000 0      0       7.0500 0       \n",
              "179 1           29.91726 1      2      23.4500 0       "
            ]
          },
          "metadata": {}
        }
      ]
    },
    {
      "cell_type": "code",
      "source": [
        "# Predict accuracy\n",
        "titanic_C50 %>%\n",
        "  predict(train_testing) %>%\n",
        "  bind_cols(train_testing) %>%\n",
        "  metrics(truth = survived, estimate = .pred_class)"
      ],
      "metadata": {
        "colab": {
          "base_uri": "https://localhost:8080/",
          "height": 161
        },
        "id": "jDmPTReLo4ox",
        "outputId": "25c5eb98-9454-448d-bacd-ebec6444a44d"
      },
      "execution_count": 92,
      "outputs": [
        {
          "output_type": "display_data",
          "data": {
            "text/html": [
              "<table class=\"dataframe\">\n",
              "<caption>A tibble: 2 × 3</caption>\n",
              "<thead>\n",
              "\t<tr><th scope=col>.metric</th><th scope=col>.estimator</th><th scope=col>.estimate</th></tr>\n",
              "\t<tr><th scope=col>&lt;chr&gt;</th><th scope=col>&lt;chr&gt;</th><th scope=col>&lt;dbl&gt;</th></tr>\n",
              "</thead>\n",
              "<tbody>\n",
              "\t<tr><td>accuracy</td><td>binary</td><td>0.42458101</td></tr>\n",
              "\t<tr><td>kap     </td><td>binary</td><td>0.02927394</td></tr>\n",
              "</tbody>\n",
              "</table>\n"
            ],
            "text/markdown": "\nA tibble: 2 × 3\n\n| .metric &lt;chr&gt; | .estimator &lt;chr&gt; | .estimate &lt;dbl&gt; |\n|---|---|---|\n| accuracy | binary | 0.42458101 |\n| kap      | binary | 0.02927394 |\n\n",
            "text/latex": "A tibble: 2 × 3\n\\begin{tabular}{lll}\n .metric & .estimator & .estimate\\\\\n <chr> & <chr> & <dbl>\\\\\n\\hline\n\t accuracy & binary & 0.42458101\\\\\n\t kap      & binary & 0.02927394\\\\\n\\end{tabular}\n",
            "text/plain": [
              "  .metric  .estimator .estimate \n",
              "1 accuracy binary     0.42458101\n",
              "2 kap      binary     0.02927394"
            ]
          },
          "metadata": {}
        }
      ]
    },
    {
      "cell_type": "code",
      "source": [
        "# Confusion matrix\n",
        "titanic_C50 %>%\n",
        "  predict(train_testing) %>%\n",
        "  bind_cols(train_testing) %>%\n",
        "  conf_mat(truth = survived, estimate = .pred_class)"
      ],
      "metadata": {
        "colab": {
          "base_uri": "https://localhost:8080/",
          "height": 88
        },
        "id": "83Dh1lx4o77v",
        "outputId": "89ebfe9c-4131-409f-86f5-6de5b4955de8"
      },
      "execution_count": 93,
      "outputs": [
        {
          "output_type": "display_data",
          "data": {
            "text/plain": [
              "          Truth\n",
              "Prediction  0  1\n",
              "         0 12  5\n",
              "         1 98 64"
            ]
          },
          "metadata": {}
        }
      ]
    },
    {
      "cell_type": "markdown",
      "source": [
        "### Model 3: Random Forest\n",
        "\n",
        " The random forest model results in an accuracy of 0.6201, which is a slight improvement over our null model, but lower performing than the KNN model."
      ],
      "metadata": {
        "id": "XynjIsnmo-YU"
      }
    },
    {
      "cell_type": "code",
      "source": [
        "# Set up model\n",
        "titanic_rf <- rand_forest(mode = \"classification\") %>%\n",
        "  set_engine(\"randomForest\") %>%\n",
        "  fit(survived ~ ., data = train_training)\n",
        "\n",
        "predict(titanic_rf, train_training)"
      ],
      "metadata": {
        "colab": {
          "base_uri": "https://localhost:8080/",
          "height": 1000
        },
        "id": "ttzejtJrpcDb",
        "outputId": "88a4f7f7-48af-4103-ca85-767c85328fd5"
      },
      "execution_count": 94,
      "outputs": [
        {
          "output_type": "display_data",
          "data": {
            "text/html": [
              "<table class=\"dataframe\">\n",
              "<caption>A tibble: 712 × 1</caption>\n",
              "<thead>\n",
              "\t<tr><th scope=col>.pred_class</th></tr>\n",
              "\t<tr><th scope=col>&lt;fct&gt;</th></tr>\n",
              "</thead>\n",
              "<tbody>\n",
              "\t<tr><td>0</td></tr>\n",
              "\t<tr><td>0</td></tr>\n",
              "\t<tr><td>0</td></tr>\n",
              "\t<tr><td>0</td></tr>\n",
              "\t<tr><td>1</td></tr>\n",
              "\t<tr><td>0</td></tr>\n",
              "\t<tr><td>0</td></tr>\n",
              "\t<tr><td>1</td></tr>\n",
              "\t<tr><td>0</td></tr>\n",
              "\t<tr><td>0</td></tr>\n",
              "\t<tr><td>0</td></tr>\n",
              "\t<tr><td>0</td></tr>\n",
              "\t<tr><td>1</td></tr>\n",
              "\t<tr><td>0</td></tr>\n",
              "\t<tr><td>0</td></tr>\n",
              "\t<tr><td>0</td></tr>\n",
              "\t<tr><td>1</td></tr>\n",
              "\t<tr><td>0</td></tr>\n",
              "\t<tr><td>0</td></tr>\n",
              "\t<tr><td>0</td></tr>\n",
              "\t<tr><td>0</td></tr>\n",
              "\t<tr><td>1</td></tr>\n",
              "\t<tr><td>1</td></tr>\n",
              "\t<tr><td>1</td></tr>\n",
              "\t<tr><td>0</td></tr>\n",
              "\t<tr><td>1</td></tr>\n",
              "\t<tr><td>1</td></tr>\n",
              "\t<tr><td>0</td></tr>\n",
              "\t<tr><td>0</td></tr>\n",
              "\t<tr><td>0</td></tr>\n",
              "\t<tr><td>⋮</td></tr>\n",
              "\t<tr><td>0</td></tr>\n",
              "\t<tr><td>1</td></tr>\n",
              "\t<tr><td>0</td></tr>\n",
              "\t<tr><td>1</td></tr>\n",
              "\t<tr><td>1</td></tr>\n",
              "\t<tr><td>0</td></tr>\n",
              "\t<tr><td>0</td></tr>\n",
              "\t<tr><td>0</td></tr>\n",
              "\t<tr><td>0</td></tr>\n",
              "\t<tr><td>0</td></tr>\n",
              "\t<tr><td>1</td></tr>\n",
              "\t<tr><td>0</td></tr>\n",
              "\t<tr><td>0</td></tr>\n",
              "\t<tr><td>0</td></tr>\n",
              "\t<tr><td>1</td></tr>\n",
              "\t<tr><td>0</td></tr>\n",
              "\t<tr><td>1</td></tr>\n",
              "\t<tr><td>0</td></tr>\n",
              "\t<tr><td>0</td></tr>\n",
              "\t<tr><td>1</td></tr>\n",
              "\t<tr><td>0</td></tr>\n",
              "\t<tr><td>0</td></tr>\n",
              "\t<tr><td>0</td></tr>\n",
              "\t<tr><td>0</td></tr>\n",
              "\t<tr><td>1</td></tr>\n",
              "\t<tr><td>0</td></tr>\n",
              "\t<tr><td>0</td></tr>\n",
              "\t<tr><td>1</td></tr>\n",
              "\t<tr><td>0</td></tr>\n",
              "\t<tr><td>1</td></tr>\n",
              "</tbody>\n",
              "</table>\n"
            ],
            "text/markdown": "\nA tibble: 712 × 1\n\n| .pred_class &lt;fct&gt; |\n|---|\n| 0 |\n| 0 |\n| 0 |\n| 0 |\n| 1 |\n| 0 |\n| 0 |\n| 1 |\n| 0 |\n| 0 |\n| 0 |\n| 0 |\n| 1 |\n| 0 |\n| 0 |\n| 0 |\n| 1 |\n| 0 |\n| 0 |\n| 0 |\n| 0 |\n| 1 |\n| 1 |\n| 1 |\n| 0 |\n| 1 |\n| 1 |\n| 0 |\n| 0 |\n| 0 |\n| ⋮ |\n| 0 |\n| 1 |\n| 0 |\n| 1 |\n| 1 |\n| 0 |\n| 0 |\n| 0 |\n| 0 |\n| 0 |\n| 1 |\n| 0 |\n| 0 |\n| 0 |\n| 1 |\n| 0 |\n| 1 |\n| 0 |\n| 0 |\n| 1 |\n| 0 |\n| 0 |\n| 0 |\n| 0 |\n| 1 |\n| 0 |\n| 0 |\n| 1 |\n| 0 |\n| 1 |\n\n",
            "text/latex": "A tibble: 712 × 1\n\\begin{tabular}{l}\n .pred\\_class\\\\\n <fct>\\\\\n\\hline\n\t 0\\\\\n\t 0\\\\\n\t 0\\\\\n\t 0\\\\\n\t 1\\\\\n\t 0\\\\\n\t 0\\\\\n\t 1\\\\\n\t 0\\\\\n\t 0\\\\\n\t 0\\\\\n\t 0\\\\\n\t 1\\\\\n\t 0\\\\\n\t 0\\\\\n\t 0\\\\\n\t 1\\\\\n\t 0\\\\\n\t 0\\\\\n\t 0\\\\\n\t 0\\\\\n\t 1\\\\\n\t 1\\\\\n\t 1\\\\\n\t 0\\\\\n\t 1\\\\\n\t 1\\\\\n\t 0\\\\\n\t 0\\\\\n\t 0\\\\\n\t ⋮\\\\\n\t 0\\\\\n\t 1\\\\\n\t 0\\\\\n\t 1\\\\\n\t 1\\\\\n\t 0\\\\\n\t 0\\\\\n\t 0\\\\\n\t 0\\\\\n\t 0\\\\\n\t 1\\\\\n\t 0\\\\\n\t 0\\\\\n\t 0\\\\\n\t 1\\\\\n\t 0\\\\\n\t 1\\\\\n\t 0\\\\\n\t 0\\\\\n\t 1\\\\\n\t 0\\\\\n\t 0\\\\\n\t 0\\\\\n\t 0\\\\\n\t 1\\\\\n\t 0\\\\\n\t 0\\\\\n\t 1\\\\\n\t 0\\\\\n\t 1\\\\\n\\end{tabular}\n",
            "text/plain": [
              "    .pred_class\n",
              "1   0          \n",
              "2   0          \n",
              "3   0          \n",
              "4   0          \n",
              "5   1          \n",
              "6   0          \n",
              "7   0          \n",
              "8   1          \n",
              "9   0          \n",
              "10  0          \n",
              "11  0          \n",
              "12  0          \n",
              "13  1          \n",
              "14  0          \n",
              "15  0          \n",
              "16  0          \n",
              "17  1          \n",
              "18  0          \n",
              "19  0          \n",
              "20  0          \n",
              "21  0          \n",
              "22  1          \n",
              "23  1          \n",
              "24  1          \n",
              "25  0          \n",
              "26  1          \n",
              "27  1          \n",
              "28  0          \n",
              "29  0          \n",
              "30  0          \n",
              "⋮   ⋮          \n",
              "683 0          \n",
              "684 1          \n",
              "685 0          \n",
              "686 1          \n",
              "687 1          \n",
              "688 0          \n",
              "689 0          \n",
              "690 0          \n",
              "691 0          \n",
              "692 0          \n",
              "693 1          \n",
              "694 0          \n",
              "695 0          \n",
              "696 0          \n",
              "697 1          \n",
              "698 0          \n",
              "699 1          \n",
              "700 0          \n",
              "701 0          \n",
              "702 1          \n",
              "703 0          \n",
              "704 0          \n",
              "705 0          \n",
              "706 0          \n",
              "707 1          \n",
              "708 0          \n",
              "709 0          \n",
              "710 1          \n",
              "711 0          \n",
              "712 1          "
            ]
          },
          "metadata": {}
        }
      ]
    },
    {
      "cell_type": "code",
      "source": [
        "titanic_rf %>%\n",
        "  predict(train_testing) %>%\n",
        "  bind_cols(train_testing)"
      ],
      "metadata": {
        "colab": {
          "base_uri": "https://localhost:8080/",
          "height": 1000
        },
        "id": "kdndIU0dqVHG",
        "outputId": "4fdeabca-6ec4-4192-e43e-fe619f20aeaf"
      },
      "execution_count": 95,
      "outputs": [
        {
          "output_type": "display_data",
          "data": {
            "text/html": [
              "<table class=\"dataframe\">\n",
              "<caption>A tibble: 179 × 6</caption>\n",
              "<thead>\n",
              "\t<tr><th scope=col>.pred_class</th><th scope=col>age</th><th scope=col>sib_sp</th><th scope=col>parch</th><th scope=col>fare</th><th scope=col>survived</th></tr>\n",
              "\t<tr><th scope=col>&lt;fct&gt;</th><th scope=col>&lt;dbl&gt;</th><th scope=col>&lt;int&gt;</th><th scope=col>&lt;int&gt;</th><th scope=col>&lt;dbl&gt;</th><th scope=col>&lt;fct&gt;</th></tr>\n",
              "</thead>\n",
              "<tbody>\n",
              "\t<tr><td>0</td><td>22.00000</td><td>1</td><td>0</td><td>  7.2500</td><td>0</td></tr>\n",
              "\t<tr><td>0</td><td>26.00000</td><td>0</td><td>0</td><td>  7.9250</td><td>1</td></tr>\n",
              "\t<tr><td>0</td><td>54.00000</td><td>0</td><td>0</td><td> 51.8625</td><td>0</td></tr>\n",
              "\t<tr><td>0</td><td>58.00000</td><td>0</td><td>0</td><td> 26.5500</td><td>1</td></tr>\n",
              "\t<tr><td>0</td><td>14.00000</td><td>0</td><td>0</td><td>  7.8542</td><td>0</td></tr>\n",
              "\t<tr><td>0</td><td>29.91726</td><td>0</td><td>0</td><td> 13.0000</td><td>1</td></tr>\n",
              "\t<tr><td>0</td><td>34.00000</td><td>0</td><td>0</td><td> 13.0000</td><td>1</td></tr>\n",
              "\t<tr><td>0</td><td>29.91726</td><td>0</td><td>0</td><td>  7.2250</td><td>0</td></tr>\n",
              "\t<tr><td>0</td><td>19.00000</td><td>3</td><td>2</td><td>263.0000</td><td>0</td></tr>\n",
              "\t<tr><td>0</td><td>29.91726</td><td>1</td><td>0</td><td>146.5208</td><td>1</td></tr>\n",
              "\t<tr><td>0</td><td>29.91726</td><td>0</td><td>0</td><td>  7.8958</td><td>0</td></tr>\n",
              "\t<tr><td>0</td><td> 3.00000</td><td>1</td><td>2</td><td> 41.5792</td><td>1</td></tr>\n",
              "\t<tr><td>0</td><td>38.00000</td><td>0</td><td>0</td><td> 80.0000</td><td>1</td></tr>\n",
              "\t<tr><td>0</td><td>45.00000</td><td>1</td><td>0</td><td> 83.4750</td><td>0</td></tr>\n",
              "\t<tr><td>0</td><td>21.00000</td><td>0</td><td>0</td><td> 73.5000</td><td>0</td></tr>\n",
              "\t<tr><td>0</td><td>29.00000</td><td>0</td><td>0</td><td>  9.5000</td><td>1</td></tr>\n",
              "\t<tr><td>0</td><td>33.00000</td><td>3</td><td>0</td><td> 15.8500</td><td>1</td></tr>\n",
              "\t<tr><td>0</td><td>20.00000</td><td>0</td><td>0</td><td>  7.8542</td><td>0</td></tr>\n",
              "\t<tr><td>0</td><td>71.00000</td><td>0</td><td>0</td><td> 34.6542</td><td>0</td></tr>\n",
              "\t<tr><td>0</td><td>28.00000</td><td>0</td><td>0</td><td>  7.8958</td><td>0</td></tr>\n",
              "\t<tr><td>0</td><td>29.91726</td><td>0</td><td>0</td><td>  7.8958</td><td>0</td></tr>\n",
              "\t<tr><td>0</td><td>21.00000</td><td>0</td><td>0</td><td>  7.6500</td><td>1</td></tr>\n",
              "\t<tr><td>0</td><td>12.00000</td><td>1</td><td>0</td><td> 11.2417</td><td>1</td></tr>\n",
              "\t<tr><td>0</td><td>47.00000</td><td>1</td><td>0</td><td> 14.5000</td><td>0</td></tr>\n",
              "\t<tr><td>0</td><td>24.00000</td><td>0</td><td>0</td><td> 79.2000</td><td>0</td></tr>\n",
              "\t<tr><td>0</td><td>22.00000</td><td>0</td><td>0</td><td>  7.7500</td><td>1</td></tr>\n",
              "\t<tr><td>0</td><td>19.00000</td><td>0</td><td>0</td><td>  6.7500</td><td>0</td></tr>\n",
              "\t<tr><td>0</td><td>18.00000</td><td>0</td><td>0</td><td> 11.5000</td><td>0</td></tr>\n",
              "\t<tr><td>0</td><td>19.00000</td><td>1</td><td>1</td><td> 36.7500</td><td>0</td></tr>\n",
              "\t<tr><td>0</td><td>27.00000</td><td>0</td><td>0</td><td>  7.7958</td><td>1</td></tr>\n",
              "\t<tr><td>⋮</td><td>⋮</td><td>⋮</td><td>⋮</td><td>⋮</td><td>⋮</td></tr>\n",
              "\t<tr><td>0</td><td>23.00000</td><td>0</td><td>0</td><td> 13.0000</td><td>0</td></tr>\n",
              "\t<tr><td>0</td><td>29.91726</td><td>0</td><td>0</td><td> 30.0000</td><td>1</td></tr>\n",
              "\t<tr><td>0</td><td>21.00000</td><td>2</td><td>2</td><td>262.3750</td><td>1</td></tr>\n",
              "\t<tr><td>0</td><td>31.00000</td><td>0</td><td>0</td><td>  7.9250</td><td>1</td></tr>\n",
              "\t<tr><td>0</td><td>30.00000</td><td>0</td><td>0</td><td> 13.0000</td><td>1</td></tr>\n",
              "\t<tr><td>0</td><td>31.00000</td><td>0</td><td>0</td><td>  7.7500</td><td>0</td></tr>\n",
              "\t<tr><td>0</td><td>28.00000</td><td>0</td><td>0</td><td>  7.7958</td><td>0</td></tr>\n",
              "\t<tr><td>0</td><td>16.00000</td><td>0</td><td>0</td><td>  7.7750</td><td>0</td></tr>\n",
              "\t<tr><td>0</td><td>32.00000</td><td>0</td><td>0</td><td>  8.3625</td><td>0</td></tr>\n",
              "\t<tr><td>0</td><td>57.00000</td><td>0</td><td>0</td><td> 10.5000</td><td>0</td></tr>\n",
              "\t<tr><td>0</td><td>18.00000</td><td>0</td><td>0</td><td>  7.7500</td><td>0</td></tr>\n",
              "\t<tr><td>0</td><td> 5.00000</td><td>0</td><td>0</td><td> 12.4750</td><td>1</td></tr>\n",
              "\t<tr><td>0</td><td>25.00000</td><td>0</td><td>0</td><td>  7.0500</td><td>0</td></tr>\n",
              "\t<tr><td>0</td><td>25.00000</td><td>0</td><td>0</td><td>  7.2500</td><td>0</td></tr>\n",
              "\t<tr><td>0</td><td>46.00000</td><td>0</td><td>0</td><td> 79.2000</td><td>0</td></tr>\n",
              "\t<tr><td>0</td><td>39.00000</td><td>0</td><td>0</td><td> 13.0000</td><td>0</td></tr>\n",
              "\t<tr><td>1</td><td> 0.42000</td><td>0</td><td>1</td><td>  8.5167</td><td>1</td></tr>\n",
              "\t<tr><td>0</td><td>26.00000</td><td>0</td><td>0</td><td>  7.8875</td><td>0</td></tr>\n",
              "\t<tr><td>0</td><td>23.00000</td><td>0</td><td>0</td><td>  7.9250</td><td>0</td></tr>\n",
              "\t<tr><td>1</td><td> 2.00000</td><td>4</td><td>1</td><td> 39.6875</td><td>0</td></tr>\n",
              "\t<tr><td>0</td><td>62.00000</td><td>0</td><td>0</td><td> 80.0000</td><td>1</td></tr>\n",
              "\t<tr><td>0</td><td>21.00000</td><td>0</td><td>0</td><td>  8.6625</td><td>0</td></tr>\n",
              "\t<tr><td>0</td><td>17.00000</td><td>0</td><td>0</td><td>  8.6625</td><td>0</td></tr>\n",
              "\t<tr><td>0</td><td>24.00000</td><td>0</td><td>3</td><td> 19.2583</td><td>1</td></tr>\n",
              "\t<tr><td>0</td><td>48.00000</td><td>0</td><td>0</td><td> 25.9292</td><td>1</td></tr>\n",
              "\t<tr><td>0</td><td>29.91726</td><td>8</td><td>2</td><td> 69.5500</td><td>0</td></tr>\n",
              "\t<tr><td>0</td><td>29.91726</td><td>0</td><td>0</td><td>  7.8958</td><td>0</td></tr>\n",
              "\t<tr><td>0</td><td>25.00000</td><td>0</td><td>1</td><td> 26.0000</td><td>1</td></tr>\n",
              "\t<tr><td>0</td><td>25.00000</td><td>0</td><td>0</td><td>  7.0500</td><td>0</td></tr>\n",
              "\t<tr><td>0</td><td>29.91726</td><td>1</td><td>2</td><td> 23.4500</td><td>0</td></tr>\n",
              "</tbody>\n",
              "</table>\n"
            ],
            "text/markdown": "\nA tibble: 179 × 6\n\n| .pred_class &lt;fct&gt; | age &lt;dbl&gt; | sib_sp &lt;int&gt; | parch &lt;int&gt; | fare &lt;dbl&gt; | survived &lt;fct&gt; |\n|---|---|---|---|---|---|\n| 0 | 22.00000 | 1 | 0 |   7.2500 | 0 |\n| 0 | 26.00000 | 0 | 0 |   7.9250 | 1 |\n| 0 | 54.00000 | 0 | 0 |  51.8625 | 0 |\n| 0 | 58.00000 | 0 | 0 |  26.5500 | 1 |\n| 0 | 14.00000 | 0 | 0 |   7.8542 | 0 |\n| 0 | 29.91726 | 0 | 0 |  13.0000 | 1 |\n| 0 | 34.00000 | 0 | 0 |  13.0000 | 1 |\n| 0 | 29.91726 | 0 | 0 |   7.2250 | 0 |\n| 0 | 19.00000 | 3 | 2 | 263.0000 | 0 |\n| 0 | 29.91726 | 1 | 0 | 146.5208 | 1 |\n| 0 | 29.91726 | 0 | 0 |   7.8958 | 0 |\n| 0 |  3.00000 | 1 | 2 |  41.5792 | 1 |\n| 0 | 38.00000 | 0 | 0 |  80.0000 | 1 |\n| 0 | 45.00000 | 1 | 0 |  83.4750 | 0 |\n| 0 | 21.00000 | 0 | 0 |  73.5000 | 0 |\n| 0 | 29.00000 | 0 | 0 |   9.5000 | 1 |\n| 0 | 33.00000 | 3 | 0 |  15.8500 | 1 |\n| 0 | 20.00000 | 0 | 0 |   7.8542 | 0 |\n| 0 | 71.00000 | 0 | 0 |  34.6542 | 0 |\n| 0 | 28.00000 | 0 | 0 |   7.8958 | 0 |\n| 0 | 29.91726 | 0 | 0 |   7.8958 | 0 |\n| 0 | 21.00000 | 0 | 0 |   7.6500 | 1 |\n| 0 | 12.00000 | 1 | 0 |  11.2417 | 1 |\n| 0 | 47.00000 | 1 | 0 |  14.5000 | 0 |\n| 0 | 24.00000 | 0 | 0 |  79.2000 | 0 |\n| 0 | 22.00000 | 0 | 0 |   7.7500 | 1 |\n| 0 | 19.00000 | 0 | 0 |   6.7500 | 0 |\n| 0 | 18.00000 | 0 | 0 |  11.5000 | 0 |\n| 0 | 19.00000 | 1 | 1 |  36.7500 | 0 |\n| 0 | 27.00000 | 0 | 0 |   7.7958 | 1 |\n| ⋮ | ⋮ | ⋮ | ⋮ | ⋮ | ⋮ |\n| 0 | 23.00000 | 0 | 0 |  13.0000 | 0 |\n| 0 | 29.91726 | 0 | 0 |  30.0000 | 1 |\n| 0 | 21.00000 | 2 | 2 | 262.3750 | 1 |\n| 0 | 31.00000 | 0 | 0 |   7.9250 | 1 |\n| 0 | 30.00000 | 0 | 0 |  13.0000 | 1 |\n| 0 | 31.00000 | 0 | 0 |   7.7500 | 0 |\n| 0 | 28.00000 | 0 | 0 |   7.7958 | 0 |\n| 0 | 16.00000 | 0 | 0 |   7.7750 | 0 |\n| 0 | 32.00000 | 0 | 0 |   8.3625 | 0 |\n| 0 | 57.00000 | 0 | 0 |  10.5000 | 0 |\n| 0 | 18.00000 | 0 | 0 |   7.7500 | 0 |\n| 0 |  5.00000 | 0 | 0 |  12.4750 | 1 |\n| 0 | 25.00000 | 0 | 0 |   7.0500 | 0 |\n| 0 | 25.00000 | 0 | 0 |   7.2500 | 0 |\n| 0 | 46.00000 | 0 | 0 |  79.2000 | 0 |\n| 0 | 39.00000 | 0 | 0 |  13.0000 | 0 |\n| 1 |  0.42000 | 0 | 1 |   8.5167 | 1 |\n| 0 | 26.00000 | 0 | 0 |   7.8875 | 0 |\n| 0 | 23.00000 | 0 | 0 |   7.9250 | 0 |\n| 1 |  2.00000 | 4 | 1 |  39.6875 | 0 |\n| 0 | 62.00000 | 0 | 0 |  80.0000 | 1 |\n| 0 | 21.00000 | 0 | 0 |   8.6625 | 0 |\n| 0 | 17.00000 | 0 | 0 |   8.6625 | 0 |\n| 0 | 24.00000 | 0 | 3 |  19.2583 | 1 |\n| 0 | 48.00000 | 0 | 0 |  25.9292 | 1 |\n| 0 | 29.91726 | 8 | 2 |  69.5500 | 0 |\n| 0 | 29.91726 | 0 | 0 |   7.8958 | 0 |\n| 0 | 25.00000 | 0 | 1 |  26.0000 | 1 |\n| 0 | 25.00000 | 0 | 0 |   7.0500 | 0 |\n| 0 | 29.91726 | 1 | 2 |  23.4500 | 0 |\n\n",
            "text/latex": "A tibble: 179 × 6\n\\begin{tabular}{llllll}\n .pred\\_class & age & sib\\_sp & parch & fare & survived\\\\\n <fct> & <dbl> & <int> & <int> & <dbl> & <fct>\\\\\n\\hline\n\t 0 & 22.00000 & 1 & 0 &   7.2500 & 0\\\\\n\t 0 & 26.00000 & 0 & 0 &   7.9250 & 1\\\\\n\t 0 & 54.00000 & 0 & 0 &  51.8625 & 0\\\\\n\t 0 & 58.00000 & 0 & 0 &  26.5500 & 1\\\\\n\t 0 & 14.00000 & 0 & 0 &   7.8542 & 0\\\\\n\t 0 & 29.91726 & 0 & 0 &  13.0000 & 1\\\\\n\t 0 & 34.00000 & 0 & 0 &  13.0000 & 1\\\\\n\t 0 & 29.91726 & 0 & 0 &   7.2250 & 0\\\\\n\t 0 & 19.00000 & 3 & 2 & 263.0000 & 0\\\\\n\t 0 & 29.91726 & 1 & 0 & 146.5208 & 1\\\\\n\t 0 & 29.91726 & 0 & 0 &   7.8958 & 0\\\\\n\t 0 &  3.00000 & 1 & 2 &  41.5792 & 1\\\\\n\t 0 & 38.00000 & 0 & 0 &  80.0000 & 1\\\\\n\t 0 & 45.00000 & 1 & 0 &  83.4750 & 0\\\\\n\t 0 & 21.00000 & 0 & 0 &  73.5000 & 0\\\\\n\t 0 & 29.00000 & 0 & 0 &   9.5000 & 1\\\\\n\t 0 & 33.00000 & 3 & 0 &  15.8500 & 1\\\\\n\t 0 & 20.00000 & 0 & 0 &   7.8542 & 0\\\\\n\t 0 & 71.00000 & 0 & 0 &  34.6542 & 0\\\\\n\t 0 & 28.00000 & 0 & 0 &   7.8958 & 0\\\\\n\t 0 & 29.91726 & 0 & 0 &   7.8958 & 0\\\\\n\t 0 & 21.00000 & 0 & 0 &   7.6500 & 1\\\\\n\t 0 & 12.00000 & 1 & 0 &  11.2417 & 1\\\\\n\t 0 & 47.00000 & 1 & 0 &  14.5000 & 0\\\\\n\t 0 & 24.00000 & 0 & 0 &  79.2000 & 0\\\\\n\t 0 & 22.00000 & 0 & 0 &   7.7500 & 1\\\\\n\t 0 & 19.00000 & 0 & 0 &   6.7500 & 0\\\\\n\t 0 & 18.00000 & 0 & 0 &  11.5000 & 0\\\\\n\t 0 & 19.00000 & 1 & 1 &  36.7500 & 0\\\\\n\t 0 & 27.00000 & 0 & 0 &   7.7958 & 1\\\\\n\t ⋮ & ⋮ & ⋮ & ⋮ & ⋮ & ⋮\\\\\n\t 0 & 23.00000 & 0 & 0 &  13.0000 & 0\\\\\n\t 0 & 29.91726 & 0 & 0 &  30.0000 & 1\\\\\n\t 0 & 21.00000 & 2 & 2 & 262.3750 & 1\\\\\n\t 0 & 31.00000 & 0 & 0 &   7.9250 & 1\\\\\n\t 0 & 30.00000 & 0 & 0 &  13.0000 & 1\\\\\n\t 0 & 31.00000 & 0 & 0 &   7.7500 & 0\\\\\n\t 0 & 28.00000 & 0 & 0 &   7.7958 & 0\\\\\n\t 0 & 16.00000 & 0 & 0 &   7.7750 & 0\\\\\n\t 0 & 32.00000 & 0 & 0 &   8.3625 & 0\\\\\n\t 0 & 57.00000 & 0 & 0 &  10.5000 & 0\\\\\n\t 0 & 18.00000 & 0 & 0 &   7.7500 & 0\\\\\n\t 0 &  5.00000 & 0 & 0 &  12.4750 & 1\\\\\n\t 0 & 25.00000 & 0 & 0 &   7.0500 & 0\\\\\n\t 0 & 25.00000 & 0 & 0 &   7.2500 & 0\\\\\n\t 0 & 46.00000 & 0 & 0 &  79.2000 & 0\\\\\n\t 0 & 39.00000 & 0 & 0 &  13.0000 & 0\\\\\n\t 1 &  0.42000 & 0 & 1 &   8.5167 & 1\\\\\n\t 0 & 26.00000 & 0 & 0 &   7.8875 & 0\\\\\n\t 0 & 23.00000 & 0 & 0 &   7.9250 & 0\\\\\n\t 1 &  2.00000 & 4 & 1 &  39.6875 & 0\\\\\n\t 0 & 62.00000 & 0 & 0 &  80.0000 & 1\\\\\n\t 0 & 21.00000 & 0 & 0 &   8.6625 & 0\\\\\n\t 0 & 17.00000 & 0 & 0 &   8.6625 & 0\\\\\n\t 0 & 24.00000 & 0 & 3 &  19.2583 & 1\\\\\n\t 0 & 48.00000 & 0 & 0 &  25.9292 & 1\\\\\n\t 0 & 29.91726 & 8 & 2 &  69.5500 & 0\\\\\n\t 0 & 29.91726 & 0 & 0 &   7.8958 & 0\\\\\n\t 0 & 25.00000 & 0 & 1 &  26.0000 & 1\\\\\n\t 0 & 25.00000 & 0 & 0 &   7.0500 & 0\\\\\n\t 0 & 29.91726 & 1 & 2 &  23.4500 & 0\\\\\n\\end{tabular}\n",
            "text/plain": [
              "    .pred_class age      sib_sp parch fare     survived\n",
              "1   0           22.00000 1      0       7.2500 0       \n",
              "2   0           26.00000 0      0       7.9250 1       \n",
              "3   0           54.00000 0      0      51.8625 0       \n",
              "4   0           58.00000 0      0      26.5500 1       \n",
              "5   0           14.00000 0      0       7.8542 0       \n",
              "6   0           29.91726 0      0      13.0000 1       \n",
              "7   0           34.00000 0      0      13.0000 1       \n",
              "8   0           29.91726 0      0       7.2250 0       \n",
              "9   0           19.00000 3      2     263.0000 0       \n",
              "10  0           29.91726 1      0     146.5208 1       \n",
              "11  0           29.91726 0      0       7.8958 0       \n",
              "12  0            3.00000 1      2      41.5792 1       \n",
              "13  0           38.00000 0      0      80.0000 1       \n",
              "14  0           45.00000 1      0      83.4750 0       \n",
              "15  0           21.00000 0      0      73.5000 0       \n",
              "16  0           29.00000 0      0       9.5000 1       \n",
              "17  0           33.00000 3      0      15.8500 1       \n",
              "18  0           20.00000 0      0       7.8542 0       \n",
              "19  0           71.00000 0      0      34.6542 0       \n",
              "20  0           28.00000 0      0       7.8958 0       \n",
              "21  0           29.91726 0      0       7.8958 0       \n",
              "22  0           21.00000 0      0       7.6500 1       \n",
              "23  0           12.00000 1      0      11.2417 1       \n",
              "24  0           47.00000 1      0      14.5000 0       \n",
              "25  0           24.00000 0      0      79.2000 0       \n",
              "26  0           22.00000 0      0       7.7500 1       \n",
              "27  0           19.00000 0      0       6.7500 0       \n",
              "28  0           18.00000 0      0      11.5000 0       \n",
              "29  0           19.00000 1      1      36.7500 0       \n",
              "30  0           27.00000 0      0       7.7958 1       \n",
              "⋮   ⋮           ⋮        ⋮      ⋮     ⋮        ⋮       \n",
              "150 0           23.00000 0      0      13.0000 0       \n",
              "151 0           29.91726 0      0      30.0000 1       \n",
              "152 0           21.00000 2      2     262.3750 1       \n",
              "153 0           31.00000 0      0       7.9250 1       \n",
              "154 0           30.00000 0      0      13.0000 1       \n",
              "155 0           31.00000 0      0       7.7500 0       \n",
              "156 0           28.00000 0      0       7.7958 0       \n",
              "157 0           16.00000 0      0       7.7750 0       \n",
              "158 0           32.00000 0      0       8.3625 0       \n",
              "159 0           57.00000 0      0      10.5000 0       \n",
              "160 0           18.00000 0      0       7.7500 0       \n",
              "161 0            5.00000 0      0      12.4750 1       \n",
              "162 0           25.00000 0      0       7.0500 0       \n",
              "163 0           25.00000 0      0       7.2500 0       \n",
              "164 0           46.00000 0      0      79.2000 0       \n",
              "165 0           39.00000 0      0      13.0000 0       \n",
              "166 1            0.42000 0      1       8.5167 1       \n",
              "167 0           26.00000 0      0       7.8875 0       \n",
              "168 0           23.00000 0      0       7.9250 0       \n",
              "169 1            2.00000 4      1      39.6875 0       \n",
              "170 0           62.00000 0      0      80.0000 1       \n",
              "171 0           21.00000 0      0       8.6625 0       \n",
              "172 0           17.00000 0      0       8.6625 0       \n",
              "173 0           24.00000 0      3      19.2583 1       \n",
              "174 0           48.00000 0      0      25.9292 1       \n",
              "175 0           29.91726 8      2      69.5500 0       \n",
              "176 0           29.91726 0      0       7.8958 0       \n",
              "177 0           25.00000 0      1      26.0000 1       \n",
              "178 0           25.00000 0      0       7.0500 0       \n",
              "179 0           29.91726 1      2      23.4500 0       "
            ]
          },
          "metadata": {}
        }
      ]
    },
    {
      "cell_type": "code",
      "source": [
        "# Predict accuracy\n",
        "titanic_rf %>%\n",
        "  predict(train_testing) %>%\n",
        "  bind_cols(train_testing) %>%\n",
        "  metrics(truth = survived, estimate = .pred_class)"
      ],
      "metadata": {
        "colab": {
          "base_uri": "https://localhost:8080/",
          "height": 161
        },
        "id": "fUq7KFq4qXAI",
        "outputId": "79e22b8c-b9b8-4e1b-dd76-cdf893a12d22"
      },
      "execution_count": 96,
      "outputs": [
        {
          "output_type": "display_data",
          "data": {
            "text/html": [
              "<table class=\"dataframe\">\n",
              "<caption>A tibble: 2 × 3</caption>\n",
              "<thead>\n",
              "\t<tr><th scope=col>.metric</th><th scope=col>.estimator</th><th scope=col>.estimate</th></tr>\n",
              "\t<tr><th scope=col>&lt;chr&gt;</th><th scope=col>&lt;chr&gt;</th><th scope=col>&lt;dbl&gt;</th></tr>\n",
              "</thead>\n",
              "<tbody>\n",
              "\t<tr><td>accuracy</td><td>binary</td><td>0.62011173</td></tr>\n",
              "\t<tr><td>kap     </td><td>binary</td><td>0.03058299</td></tr>\n",
              "</tbody>\n",
              "</table>\n"
            ],
            "text/markdown": "\nA tibble: 2 × 3\n\n| .metric &lt;chr&gt; | .estimator &lt;chr&gt; | .estimate &lt;dbl&gt; |\n|---|---|---|\n| accuracy | binary | 0.62011173 |\n| kap      | binary | 0.03058299 |\n\n",
            "text/latex": "A tibble: 2 × 3\n\\begin{tabular}{lll}\n .metric & .estimator & .estimate\\\\\n <chr> & <chr> & <dbl>\\\\\n\\hline\n\t accuracy & binary & 0.62011173\\\\\n\t kap      & binary & 0.03058299\\\\\n\\end{tabular}\n",
            "text/plain": [
              "  .metric  .estimator .estimate \n",
              "1 accuracy binary     0.62011173\n",
              "2 kap      binary     0.03058299"
            ]
          },
          "metadata": {}
        }
      ]
    },
    {
      "cell_type": "code",
      "source": [
        "# Confusion matrix\n",
        "titanic_rf %>%\n",
        "  predict(train_testing) %>%\n",
        "  bind_cols(train_testing) %>%\n",
        "  conf_mat(truth = survived, estimate = .pred_class)"
      ],
      "metadata": {
        "colab": {
          "base_uri": "https://localhost:8080/",
          "height": 88
        },
        "id": "-kl2c1-4qZRa",
        "outputId": "5b606713-93be-4a49-be8a-53a3ec1a6dca"
      },
      "execution_count": 97,
      "outputs": [
        {
          "output_type": "display_data",
          "data": {
            "text/plain": [
              "          Truth\n",
              "Prediction   0   1\n",
              "         0 108  66\n",
              "         1   2   3"
            ]
          },
          "metadata": {}
        }
      ]
    },
    {
      "cell_type": "markdown",
      "source": [
        "### Model 4: Logistic Regression using regularization\n",
        "\n",
        "The logistic regression model results in an accuracy of 0.6536, which is our second best performing model so far, after KNN.\n",
        "\n"
      ],
      "metadata": {
        "id": "dmeWsqZTsRFp"
      }
    },
    {
      "cell_type": "code",
      "source": [
        "# Set up model\n",
        "titanic_lg <- logistic_reg(mode = \"classification\") %>%\n",
        "  set_engine(\"glm\") %>%\n",
        "  fit(survived ~ ., data = train_training)\n",
        "\n",
        "predict(titanic_lg, train_training)"
      ],
      "metadata": {
        "colab": {
          "base_uri": "https://localhost:8080/",
          "height": 1000
        },
        "id": "pjFdHve5sVz5",
        "outputId": "0fd5af2f-bfa4-483e-e0e3-c869f1e51c55"
      },
      "execution_count": 98,
      "outputs": [
        {
          "output_type": "display_data",
          "data": {
            "text/html": [
              "<table class=\"dataframe\">\n",
              "<caption>A tibble: 712 × 1</caption>\n",
              "<thead>\n",
              "\t<tr><th scope=col>.pred_class</th></tr>\n",
              "\t<tr><th scope=col>&lt;fct&gt;</th></tr>\n",
              "</thead>\n",
              "<tbody>\n",
              "\t<tr><td>0</td></tr>\n",
              "\t<tr><td>0</td></tr>\n",
              "\t<tr><td>0</td></tr>\n",
              "\t<tr><td>0</td></tr>\n",
              "\t<tr><td>0</td></tr>\n",
              "\t<tr><td>0</td></tr>\n",
              "\t<tr><td>0</td></tr>\n",
              "\t<tr><td>0</td></tr>\n",
              "\t<tr><td>0</td></tr>\n",
              "\t<tr><td>0</td></tr>\n",
              "\t<tr><td>0</td></tr>\n",
              "\t<tr><td>1</td></tr>\n",
              "\t<tr><td>0</td></tr>\n",
              "\t<tr><td>0</td></tr>\n",
              "\t<tr><td>0</td></tr>\n",
              "\t<tr><td>0</td></tr>\n",
              "\t<tr><td>1</td></tr>\n",
              "\t<tr><td>0</td></tr>\n",
              "\t<tr><td>0</td></tr>\n",
              "\t<tr><td>0</td></tr>\n",
              "\t<tr><td>0</td></tr>\n",
              "\t<tr><td>0</td></tr>\n",
              "\t<tr><td>0</td></tr>\n",
              "\t<tr><td>0</td></tr>\n",
              "\t<tr><td>0</td></tr>\n",
              "\t<tr><td>0</td></tr>\n",
              "\t<tr><td>0</td></tr>\n",
              "\t<tr><td>0</td></tr>\n",
              "\t<tr><td>0</td></tr>\n",
              "\t<tr><td>0</td></tr>\n",
              "\t<tr><td>⋮</td></tr>\n",
              "\t<tr><td>0</td></tr>\n",
              "\t<tr><td>1</td></tr>\n",
              "\t<tr><td>0</td></tr>\n",
              "\t<tr><td>0</td></tr>\n",
              "\t<tr><td>0</td></tr>\n",
              "\t<tr><td>0</td></tr>\n",
              "\t<tr><td>1</td></tr>\n",
              "\t<tr><td>0</td></tr>\n",
              "\t<tr><td>1</td></tr>\n",
              "\t<tr><td>0</td></tr>\n",
              "\t<tr><td>1</td></tr>\n",
              "\t<tr><td>0</td></tr>\n",
              "\t<tr><td>0</td></tr>\n",
              "\t<tr><td>0</td></tr>\n",
              "\t<tr><td>1</td></tr>\n",
              "\t<tr><td>0</td></tr>\n",
              "\t<tr><td>0</td></tr>\n",
              "\t<tr><td>1</td></tr>\n",
              "\t<tr><td>0</td></tr>\n",
              "\t<tr><td>1</td></tr>\n",
              "\t<tr><td>0</td></tr>\n",
              "\t<tr><td>0</td></tr>\n",
              "\t<tr><td>0</td></tr>\n",
              "\t<tr><td>0</td></tr>\n",
              "\t<tr><td>1</td></tr>\n",
              "\t<tr><td>0</td></tr>\n",
              "\t<tr><td>0</td></tr>\n",
              "\t<tr><td>1</td></tr>\n",
              "\t<tr><td>0</td></tr>\n",
              "\t<tr><td>0</td></tr>\n",
              "</tbody>\n",
              "</table>\n"
            ],
            "text/markdown": "\nA tibble: 712 × 1\n\n| .pred_class &lt;fct&gt; |\n|---|\n| 0 |\n| 0 |\n| 0 |\n| 0 |\n| 0 |\n| 0 |\n| 0 |\n| 0 |\n| 0 |\n| 0 |\n| 0 |\n| 1 |\n| 0 |\n| 0 |\n| 0 |\n| 0 |\n| 1 |\n| 0 |\n| 0 |\n| 0 |\n| 0 |\n| 0 |\n| 0 |\n| 0 |\n| 0 |\n| 0 |\n| 0 |\n| 0 |\n| 0 |\n| 0 |\n| ⋮ |\n| 0 |\n| 1 |\n| 0 |\n| 0 |\n| 0 |\n| 0 |\n| 1 |\n| 0 |\n| 1 |\n| 0 |\n| 1 |\n| 0 |\n| 0 |\n| 0 |\n| 1 |\n| 0 |\n| 0 |\n| 1 |\n| 0 |\n| 1 |\n| 0 |\n| 0 |\n| 0 |\n| 0 |\n| 1 |\n| 0 |\n| 0 |\n| 1 |\n| 0 |\n| 0 |\n\n",
            "text/latex": "A tibble: 712 × 1\n\\begin{tabular}{l}\n .pred\\_class\\\\\n <fct>\\\\\n\\hline\n\t 0\\\\\n\t 0\\\\\n\t 0\\\\\n\t 0\\\\\n\t 0\\\\\n\t 0\\\\\n\t 0\\\\\n\t 0\\\\\n\t 0\\\\\n\t 0\\\\\n\t 0\\\\\n\t 1\\\\\n\t 0\\\\\n\t 0\\\\\n\t 0\\\\\n\t 0\\\\\n\t 1\\\\\n\t 0\\\\\n\t 0\\\\\n\t 0\\\\\n\t 0\\\\\n\t 0\\\\\n\t 0\\\\\n\t 0\\\\\n\t 0\\\\\n\t 0\\\\\n\t 0\\\\\n\t 0\\\\\n\t 0\\\\\n\t 0\\\\\n\t ⋮\\\\\n\t 0\\\\\n\t 1\\\\\n\t 0\\\\\n\t 0\\\\\n\t 0\\\\\n\t 0\\\\\n\t 1\\\\\n\t 0\\\\\n\t 1\\\\\n\t 0\\\\\n\t 1\\\\\n\t 0\\\\\n\t 0\\\\\n\t 0\\\\\n\t 1\\\\\n\t 0\\\\\n\t 0\\\\\n\t 1\\\\\n\t 0\\\\\n\t 1\\\\\n\t 0\\\\\n\t 0\\\\\n\t 0\\\\\n\t 0\\\\\n\t 1\\\\\n\t 0\\\\\n\t 0\\\\\n\t 1\\\\\n\t 0\\\\\n\t 0\\\\\n\\end{tabular}\n",
            "text/plain": [
              "    .pred_class\n",
              "1   0          \n",
              "2   0          \n",
              "3   0          \n",
              "4   0          \n",
              "5   0          \n",
              "6   0          \n",
              "7   0          \n",
              "8   0          \n",
              "9   0          \n",
              "10  0          \n",
              "11  0          \n",
              "12  1          \n",
              "13  0          \n",
              "14  0          \n",
              "15  0          \n",
              "16  0          \n",
              "17  1          \n",
              "18  0          \n",
              "19  0          \n",
              "20  0          \n",
              "21  0          \n",
              "22  0          \n",
              "23  0          \n",
              "24  0          \n",
              "25  0          \n",
              "26  0          \n",
              "27  0          \n",
              "28  0          \n",
              "29  0          \n",
              "30  0          \n",
              "⋮   ⋮          \n",
              "683 0          \n",
              "684 1          \n",
              "685 0          \n",
              "686 0          \n",
              "687 0          \n",
              "688 0          \n",
              "689 1          \n",
              "690 0          \n",
              "691 1          \n",
              "692 0          \n",
              "693 1          \n",
              "694 0          \n",
              "695 0          \n",
              "696 0          \n",
              "697 1          \n",
              "698 0          \n",
              "699 0          \n",
              "700 1          \n",
              "701 0          \n",
              "702 1          \n",
              "703 0          \n",
              "704 0          \n",
              "705 0          \n",
              "706 0          \n",
              "707 1          \n",
              "708 0          \n",
              "709 0          \n",
              "710 1          \n",
              "711 0          \n",
              "712 0          "
            ]
          },
          "metadata": {}
        }
      ]
    },
    {
      "cell_type": "code",
      "source": [
        "titanic_lg %>%\n",
        "  predict(train_testing) %>%\n",
        "  bind_cols(train_testing)"
      ],
      "metadata": {
        "colab": {
          "base_uri": "https://localhost:8080/",
          "height": 1000
        },
        "id": "ZQEk4Fq9sdZ6",
        "outputId": "dcc0e17f-cd18-46b3-c7b4-49afa96f4e4d"
      },
      "execution_count": 99,
      "outputs": [
        {
          "output_type": "display_data",
          "data": {
            "text/html": [
              "<table class=\"dataframe\">\n",
              "<caption>A tibble: 179 × 6</caption>\n",
              "<thead>\n",
              "\t<tr><th scope=col>.pred_class</th><th scope=col>age</th><th scope=col>sib_sp</th><th scope=col>parch</th><th scope=col>fare</th><th scope=col>survived</th></tr>\n",
              "\t<tr><th scope=col>&lt;fct&gt;</th><th scope=col>&lt;dbl&gt;</th><th scope=col>&lt;int&gt;</th><th scope=col>&lt;int&gt;</th><th scope=col>&lt;dbl&gt;</th><th scope=col>&lt;fct&gt;</th></tr>\n",
              "</thead>\n",
              "<tbody>\n",
              "\t<tr><td>0</td><td>22.00000</td><td>1</td><td>0</td><td>  7.2500</td><td>0</td></tr>\n",
              "\t<tr><td>0</td><td>26.00000</td><td>0</td><td>0</td><td>  7.9250</td><td>1</td></tr>\n",
              "\t<tr><td>1</td><td>54.00000</td><td>0</td><td>0</td><td> 51.8625</td><td>0</td></tr>\n",
              "\t<tr><td>1</td><td>58.00000</td><td>0</td><td>0</td><td> 26.5500</td><td>1</td></tr>\n",
              "\t<tr><td>1</td><td>14.00000</td><td>0</td><td>0</td><td>  7.8542</td><td>0</td></tr>\n",
              "\t<tr><td>1</td><td>29.91726</td><td>0</td><td>0</td><td> 13.0000</td><td>1</td></tr>\n",
              "\t<tr><td>1</td><td>34.00000</td><td>0</td><td>0</td><td> 13.0000</td><td>1</td></tr>\n",
              "\t<tr><td>0</td><td>29.91726</td><td>0</td><td>0</td><td>  7.2250</td><td>0</td></tr>\n",
              "\t<tr><td>1</td><td>19.00000</td><td>3</td><td>2</td><td>263.0000</td><td>0</td></tr>\n",
              "\t<tr><td>1</td><td>29.91726</td><td>1</td><td>0</td><td>146.5208</td><td>1</td></tr>\n",
              "\t<tr><td>0</td><td>29.91726</td><td>0</td><td>0</td><td>  7.8958</td><td>0</td></tr>\n",
              "\t<tr><td>1</td><td> 3.00000</td><td>1</td><td>2</td><td> 41.5792</td><td>1</td></tr>\n",
              "\t<tr><td>1</td><td>38.00000</td><td>0</td><td>0</td><td> 80.0000</td><td>1</td></tr>\n",
              "\t<tr><td>1</td><td>45.00000</td><td>1</td><td>0</td><td> 83.4750</td><td>0</td></tr>\n",
              "\t<tr><td>1</td><td>21.00000</td><td>0</td><td>0</td><td> 73.5000</td><td>0</td></tr>\n",
              "\t<tr><td>0</td><td>29.00000</td><td>0</td><td>0</td><td>  9.5000</td><td>1</td></tr>\n",
              "\t<tr><td>1</td><td>33.00000</td><td>3</td><td>0</td><td> 15.8500</td><td>1</td></tr>\n",
              "\t<tr><td>1</td><td>20.00000</td><td>0</td><td>0</td><td>  7.8542</td><td>0</td></tr>\n",
              "\t<tr><td>1</td><td>71.00000</td><td>0</td><td>0</td><td> 34.6542</td><td>0</td></tr>\n",
              "\t<tr><td>0</td><td>28.00000</td><td>0</td><td>0</td><td>  7.8958</td><td>0</td></tr>\n",
              "\t<tr><td>0</td><td>29.91726</td><td>0</td><td>0</td><td>  7.8958</td><td>0</td></tr>\n",
              "\t<tr><td>1</td><td>21.00000</td><td>0</td><td>0</td><td>  7.6500</td><td>1</td></tr>\n",
              "\t<tr><td>1</td><td>12.00000</td><td>1</td><td>0</td><td> 11.2417</td><td>1</td></tr>\n",
              "\t<tr><td>0</td><td>47.00000</td><td>1</td><td>0</td><td> 14.5000</td><td>0</td></tr>\n",
              "\t<tr><td>1</td><td>24.00000</td><td>0</td><td>0</td><td> 79.2000</td><td>0</td></tr>\n",
              "\t<tr><td>0</td><td>22.00000</td><td>0</td><td>0</td><td>  7.7500</td><td>1</td></tr>\n",
              "\t<tr><td>0</td><td>19.00000</td><td>0</td><td>0</td><td>  6.7500</td><td>0</td></tr>\n",
              "\t<tr><td>1</td><td>18.00000</td><td>0</td><td>0</td><td> 11.5000</td><td>0</td></tr>\n",
              "\t<tr><td>1</td><td>19.00000</td><td>1</td><td>1</td><td> 36.7500</td><td>0</td></tr>\n",
              "\t<tr><td>0</td><td>27.00000</td><td>0</td><td>0</td><td>  7.7958</td><td>1</td></tr>\n",
              "\t<tr><td>⋮</td><td>⋮</td><td>⋮</td><td>⋮</td><td>⋮</td><td>⋮</td></tr>\n",
              "\t<tr><td>1</td><td>23.00000</td><td>0</td><td>0</td><td> 13.0000</td><td>0</td></tr>\n",
              "\t<tr><td>1</td><td>29.91726</td><td>0</td><td>0</td><td> 30.0000</td><td>1</td></tr>\n",
              "\t<tr><td>1</td><td>21.00000</td><td>2</td><td>2</td><td>262.3750</td><td>1</td></tr>\n",
              "\t<tr><td>0</td><td>31.00000</td><td>0</td><td>0</td><td>  7.9250</td><td>1</td></tr>\n",
              "\t<tr><td>1</td><td>30.00000</td><td>0</td><td>0</td><td> 13.0000</td><td>1</td></tr>\n",
              "\t<tr><td>0</td><td>31.00000</td><td>0</td><td>0</td><td>  7.7500</td><td>0</td></tr>\n",
              "\t<tr><td>0</td><td>28.00000</td><td>0</td><td>0</td><td>  7.7958</td><td>0</td></tr>\n",
              "\t<tr><td>1</td><td>16.00000</td><td>0</td><td>0</td><td>  7.7750</td><td>0</td></tr>\n",
              "\t<tr><td>0</td><td>32.00000</td><td>0</td><td>0</td><td>  8.3625</td><td>0</td></tr>\n",
              "\t<tr><td>0</td><td>57.00000</td><td>0</td><td>0</td><td> 10.5000</td><td>0</td></tr>\n",
              "\t<tr><td>1</td><td>18.00000</td><td>0</td><td>0</td><td>  7.7500</td><td>0</td></tr>\n",
              "\t<tr><td>1</td><td> 5.00000</td><td>0</td><td>0</td><td> 12.4750</td><td>1</td></tr>\n",
              "\t<tr><td>0</td><td>25.00000</td><td>0</td><td>0</td><td>  7.0500</td><td>0</td></tr>\n",
              "\t<tr><td>0</td><td>25.00000</td><td>0</td><td>0</td><td>  7.2500</td><td>0</td></tr>\n",
              "\t<tr><td>1</td><td>46.00000</td><td>0</td><td>0</td><td> 79.2000</td><td>0</td></tr>\n",
              "\t<tr><td>0</td><td>39.00000</td><td>0</td><td>0</td><td> 13.0000</td><td>0</td></tr>\n",
              "\t<tr><td>1</td><td> 0.42000</td><td>0</td><td>1</td><td>  8.5167</td><td>1</td></tr>\n",
              "\t<tr><td>0</td><td>26.00000</td><td>0</td><td>0</td><td>  7.8875</td><td>0</td></tr>\n",
              "\t<tr><td>0</td><td>23.00000</td><td>0</td><td>0</td><td>  7.9250</td><td>0</td></tr>\n",
              "\t<tr><td>1</td><td> 2.00000</td><td>4</td><td>1</td><td> 39.6875</td><td>0</td></tr>\n",
              "\t<tr><td>1</td><td>62.00000</td><td>0</td><td>0</td><td> 80.0000</td><td>1</td></tr>\n",
              "\t<tr><td>1</td><td>21.00000</td><td>0</td><td>0</td><td>  8.6625</td><td>0</td></tr>\n",
              "\t<tr><td>1</td><td>17.00000</td><td>0</td><td>0</td><td>  8.6625</td><td>0</td></tr>\n",
              "\t<tr><td>1</td><td>24.00000</td><td>0</td><td>3</td><td> 19.2583</td><td>1</td></tr>\n",
              "\t<tr><td>1</td><td>48.00000</td><td>0</td><td>0</td><td> 25.9292</td><td>1</td></tr>\n",
              "\t<tr><td>1</td><td>29.91726</td><td>8</td><td>2</td><td> 69.5500</td><td>0</td></tr>\n",
              "\t<tr><td>0</td><td>29.91726</td><td>0</td><td>0</td><td>  7.8958</td><td>0</td></tr>\n",
              "\t<tr><td>1</td><td>25.00000</td><td>0</td><td>1</td><td> 26.0000</td><td>1</td></tr>\n",
              "\t<tr><td>0</td><td>25.00000</td><td>0</td><td>0</td><td>  7.0500</td><td>0</td></tr>\n",
              "\t<tr><td>1</td><td>29.91726</td><td>1</td><td>2</td><td> 23.4500</td><td>0</td></tr>\n",
              "</tbody>\n",
              "</table>\n"
            ],
            "text/markdown": "\nA tibble: 179 × 6\n\n| .pred_class &lt;fct&gt; | age &lt;dbl&gt; | sib_sp &lt;int&gt; | parch &lt;int&gt; | fare &lt;dbl&gt; | survived &lt;fct&gt; |\n|---|---|---|---|---|---|\n| 0 | 22.00000 | 1 | 0 |   7.2500 | 0 |\n| 0 | 26.00000 | 0 | 0 |   7.9250 | 1 |\n| 1 | 54.00000 | 0 | 0 |  51.8625 | 0 |\n| 1 | 58.00000 | 0 | 0 |  26.5500 | 1 |\n| 1 | 14.00000 | 0 | 0 |   7.8542 | 0 |\n| 1 | 29.91726 | 0 | 0 |  13.0000 | 1 |\n| 1 | 34.00000 | 0 | 0 |  13.0000 | 1 |\n| 0 | 29.91726 | 0 | 0 |   7.2250 | 0 |\n| 1 | 19.00000 | 3 | 2 | 263.0000 | 0 |\n| 1 | 29.91726 | 1 | 0 | 146.5208 | 1 |\n| 0 | 29.91726 | 0 | 0 |   7.8958 | 0 |\n| 1 |  3.00000 | 1 | 2 |  41.5792 | 1 |\n| 1 | 38.00000 | 0 | 0 |  80.0000 | 1 |\n| 1 | 45.00000 | 1 | 0 |  83.4750 | 0 |\n| 1 | 21.00000 | 0 | 0 |  73.5000 | 0 |\n| 0 | 29.00000 | 0 | 0 |   9.5000 | 1 |\n| 1 | 33.00000 | 3 | 0 |  15.8500 | 1 |\n| 1 | 20.00000 | 0 | 0 |   7.8542 | 0 |\n| 1 | 71.00000 | 0 | 0 |  34.6542 | 0 |\n| 0 | 28.00000 | 0 | 0 |   7.8958 | 0 |\n| 0 | 29.91726 | 0 | 0 |   7.8958 | 0 |\n| 1 | 21.00000 | 0 | 0 |   7.6500 | 1 |\n| 1 | 12.00000 | 1 | 0 |  11.2417 | 1 |\n| 0 | 47.00000 | 1 | 0 |  14.5000 | 0 |\n| 1 | 24.00000 | 0 | 0 |  79.2000 | 0 |\n| 0 | 22.00000 | 0 | 0 |   7.7500 | 1 |\n| 0 | 19.00000 | 0 | 0 |   6.7500 | 0 |\n| 1 | 18.00000 | 0 | 0 |  11.5000 | 0 |\n| 1 | 19.00000 | 1 | 1 |  36.7500 | 0 |\n| 0 | 27.00000 | 0 | 0 |   7.7958 | 1 |\n| ⋮ | ⋮ | ⋮ | ⋮ | ⋮ | ⋮ |\n| 1 | 23.00000 | 0 | 0 |  13.0000 | 0 |\n| 1 | 29.91726 | 0 | 0 |  30.0000 | 1 |\n| 1 | 21.00000 | 2 | 2 | 262.3750 | 1 |\n| 0 | 31.00000 | 0 | 0 |   7.9250 | 1 |\n| 1 | 30.00000 | 0 | 0 |  13.0000 | 1 |\n| 0 | 31.00000 | 0 | 0 |   7.7500 | 0 |\n| 0 | 28.00000 | 0 | 0 |   7.7958 | 0 |\n| 1 | 16.00000 | 0 | 0 |   7.7750 | 0 |\n| 0 | 32.00000 | 0 | 0 |   8.3625 | 0 |\n| 0 | 57.00000 | 0 | 0 |  10.5000 | 0 |\n| 1 | 18.00000 | 0 | 0 |   7.7500 | 0 |\n| 1 |  5.00000 | 0 | 0 |  12.4750 | 1 |\n| 0 | 25.00000 | 0 | 0 |   7.0500 | 0 |\n| 0 | 25.00000 | 0 | 0 |   7.2500 | 0 |\n| 1 | 46.00000 | 0 | 0 |  79.2000 | 0 |\n| 0 | 39.00000 | 0 | 0 |  13.0000 | 0 |\n| 1 |  0.42000 | 0 | 1 |   8.5167 | 1 |\n| 0 | 26.00000 | 0 | 0 |   7.8875 | 0 |\n| 0 | 23.00000 | 0 | 0 |   7.9250 | 0 |\n| 1 |  2.00000 | 4 | 1 |  39.6875 | 0 |\n| 1 | 62.00000 | 0 | 0 |  80.0000 | 1 |\n| 1 | 21.00000 | 0 | 0 |   8.6625 | 0 |\n| 1 | 17.00000 | 0 | 0 |   8.6625 | 0 |\n| 1 | 24.00000 | 0 | 3 |  19.2583 | 1 |\n| 1 | 48.00000 | 0 | 0 |  25.9292 | 1 |\n| 1 | 29.91726 | 8 | 2 |  69.5500 | 0 |\n| 0 | 29.91726 | 0 | 0 |   7.8958 | 0 |\n| 1 | 25.00000 | 0 | 1 |  26.0000 | 1 |\n| 0 | 25.00000 | 0 | 0 |   7.0500 | 0 |\n| 1 | 29.91726 | 1 | 2 |  23.4500 | 0 |\n\n",
            "text/latex": "A tibble: 179 × 6\n\\begin{tabular}{llllll}\n .pred\\_class & age & sib\\_sp & parch & fare & survived\\\\\n <fct> & <dbl> & <int> & <int> & <dbl> & <fct>\\\\\n\\hline\n\t 0 & 22.00000 & 1 & 0 &   7.2500 & 0\\\\\n\t 0 & 26.00000 & 0 & 0 &   7.9250 & 1\\\\\n\t 1 & 54.00000 & 0 & 0 &  51.8625 & 0\\\\\n\t 1 & 58.00000 & 0 & 0 &  26.5500 & 1\\\\\n\t 1 & 14.00000 & 0 & 0 &   7.8542 & 0\\\\\n\t 1 & 29.91726 & 0 & 0 &  13.0000 & 1\\\\\n\t 1 & 34.00000 & 0 & 0 &  13.0000 & 1\\\\\n\t 0 & 29.91726 & 0 & 0 &   7.2250 & 0\\\\\n\t 1 & 19.00000 & 3 & 2 & 263.0000 & 0\\\\\n\t 1 & 29.91726 & 1 & 0 & 146.5208 & 1\\\\\n\t 0 & 29.91726 & 0 & 0 &   7.8958 & 0\\\\\n\t 1 &  3.00000 & 1 & 2 &  41.5792 & 1\\\\\n\t 1 & 38.00000 & 0 & 0 &  80.0000 & 1\\\\\n\t 1 & 45.00000 & 1 & 0 &  83.4750 & 0\\\\\n\t 1 & 21.00000 & 0 & 0 &  73.5000 & 0\\\\\n\t 0 & 29.00000 & 0 & 0 &   9.5000 & 1\\\\\n\t 1 & 33.00000 & 3 & 0 &  15.8500 & 1\\\\\n\t 1 & 20.00000 & 0 & 0 &   7.8542 & 0\\\\\n\t 1 & 71.00000 & 0 & 0 &  34.6542 & 0\\\\\n\t 0 & 28.00000 & 0 & 0 &   7.8958 & 0\\\\\n\t 0 & 29.91726 & 0 & 0 &   7.8958 & 0\\\\\n\t 1 & 21.00000 & 0 & 0 &   7.6500 & 1\\\\\n\t 1 & 12.00000 & 1 & 0 &  11.2417 & 1\\\\\n\t 0 & 47.00000 & 1 & 0 &  14.5000 & 0\\\\\n\t 1 & 24.00000 & 0 & 0 &  79.2000 & 0\\\\\n\t 0 & 22.00000 & 0 & 0 &   7.7500 & 1\\\\\n\t 0 & 19.00000 & 0 & 0 &   6.7500 & 0\\\\\n\t 1 & 18.00000 & 0 & 0 &  11.5000 & 0\\\\\n\t 1 & 19.00000 & 1 & 1 &  36.7500 & 0\\\\\n\t 0 & 27.00000 & 0 & 0 &   7.7958 & 1\\\\\n\t ⋮ & ⋮ & ⋮ & ⋮ & ⋮ & ⋮\\\\\n\t 1 & 23.00000 & 0 & 0 &  13.0000 & 0\\\\\n\t 1 & 29.91726 & 0 & 0 &  30.0000 & 1\\\\\n\t 1 & 21.00000 & 2 & 2 & 262.3750 & 1\\\\\n\t 0 & 31.00000 & 0 & 0 &   7.9250 & 1\\\\\n\t 1 & 30.00000 & 0 & 0 &  13.0000 & 1\\\\\n\t 0 & 31.00000 & 0 & 0 &   7.7500 & 0\\\\\n\t 0 & 28.00000 & 0 & 0 &   7.7958 & 0\\\\\n\t 1 & 16.00000 & 0 & 0 &   7.7750 & 0\\\\\n\t 0 & 32.00000 & 0 & 0 &   8.3625 & 0\\\\\n\t 0 & 57.00000 & 0 & 0 &  10.5000 & 0\\\\\n\t 1 & 18.00000 & 0 & 0 &   7.7500 & 0\\\\\n\t 1 &  5.00000 & 0 & 0 &  12.4750 & 1\\\\\n\t 0 & 25.00000 & 0 & 0 &   7.0500 & 0\\\\\n\t 0 & 25.00000 & 0 & 0 &   7.2500 & 0\\\\\n\t 1 & 46.00000 & 0 & 0 &  79.2000 & 0\\\\\n\t 0 & 39.00000 & 0 & 0 &  13.0000 & 0\\\\\n\t 1 &  0.42000 & 0 & 1 &   8.5167 & 1\\\\\n\t 0 & 26.00000 & 0 & 0 &   7.8875 & 0\\\\\n\t 0 & 23.00000 & 0 & 0 &   7.9250 & 0\\\\\n\t 1 &  2.00000 & 4 & 1 &  39.6875 & 0\\\\\n\t 1 & 62.00000 & 0 & 0 &  80.0000 & 1\\\\\n\t 1 & 21.00000 & 0 & 0 &   8.6625 & 0\\\\\n\t 1 & 17.00000 & 0 & 0 &   8.6625 & 0\\\\\n\t 1 & 24.00000 & 0 & 3 &  19.2583 & 1\\\\\n\t 1 & 48.00000 & 0 & 0 &  25.9292 & 1\\\\\n\t 1 & 29.91726 & 8 & 2 &  69.5500 & 0\\\\\n\t 0 & 29.91726 & 0 & 0 &   7.8958 & 0\\\\\n\t 1 & 25.00000 & 0 & 1 &  26.0000 & 1\\\\\n\t 0 & 25.00000 & 0 & 0 &   7.0500 & 0\\\\\n\t 1 & 29.91726 & 1 & 2 &  23.4500 & 0\\\\\n\\end{tabular}\n",
            "text/plain": [
              "    .pred_class age      sib_sp parch fare     survived\n",
              "1   0           22.00000 1      0       7.2500 0       \n",
              "2   0           26.00000 0      0       7.9250 1       \n",
              "3   1           54.00000 0      0      51.8625 0       \n",
              "4   1           58.00000 0      0      26.5500 1       \n",
              "5   1           14.00000 0      0       7.8542 0       \n",
              "6   1           29.91726 0      0      13.0000 1       \n",
              "7   1           34.00000 0      0      13.0000 1       \n",
              "8   0           29.91726 0      0       7.2250 0       \n",
              "9   1           19.00000 3      2     263.0000 0       \n",
              "10  1           29.91726 1      0     146.5208 1       \n",
              "11  0           29.91726 0      0       7.8958 0       \n",
              "12  1            3.00000 1      2      41.5792 1       \n",
              "13  1           38.00000 0      0      80.0000 1       \n",
              "14  1           45.00000 1      0      83.4750 0       \n",
              "15  1           21.00000 0      0      73.5000 0       \n",
              "16  0           29.00000 0      0       9.5000 1       \n",
              "17  1           33.00000 3      0      15.8500 1       \n",
              "18  1           20.00000 0      0       7.8542 0       \n",
              "19  1           71.00000 0      0      34.6542 0       \n",
              "20  0           28.00000 0      0       7.8958 0       \n",
              "21  0           29.91726 0      0       7.8958 0       \n",
              "22  1           21.00000 0      0       7.6500 1       \n",
              "23  1           12.00000 1      0      11.2417 1       \n",
              "24  0           47.00000 1      0      14.5000 0       \n",
              "25  1           24.00000 0      0      79.2000 0       \n",
              "26  0           22.00000 0      0       7.7500 1       \n",
              "27  0           19.00000 0      0       6.7500 0       \n",
              "28  1           18.00000 0      0      11.5000 0       \n",
              "29  1           19.00000 1      1      36.7500 0       \n",
              "30  0           27.00000 0      0       7.7958 1       \n",
              "⋮   ⋮           ⋮        ⋮      ⋮     ⋮        ⋮       \n",
              "150 1           23.00000 0      0      13.0000 0       \n",
              "151 1           29.91726 0      0      30.0000 1       \n",
              "152 1           21.00000 2      2     262.3750 1       \n",
              "153 0           31.00000 0      0       7.9250 1       \n",
              "154 1           30.00000 0      0      13.0000 1       \n",
              "155 0           31.00000 0      0       7.7500 0       \n",
              "156 0           28.00000 0      0       7.7958 0       \n",
              "157 1           16.00000 0      0       7.7750 0       \n",
              "158 0           32.00000 0      0       8.3625 0       \n",
              "159 0           57.00000 0      0      10.5000 0       \n",
              "160 1           18.00000 0      0       7.7500 0       \n",
              "161 1            5.00000 0      0      12.4750 1       \n",
              "162 0           25.00000 0      0       7.0500 0       \n",
              "163 0           25.00000 0      0       7.2500 0       \n",
              "164 1           46.00000 0      0      79.2000 0       \n",
              "165 0           39.00000 0      0      13.0000 0       \n",
              "166 1            0.42000 0      1       8.5167 1       \n",
              "167 0           26.00000 0      0       7.8875 0       \n",
              "168 0           23.00000 0      0       7.9250 0       \n",
              "169 1            2.00000 4      1      39.6875 0       \n",
              "170 1           62.00000 0      0      80.0000 1       \n",
              "171 1           21.00000 0      0       8.6625 0       \n",
              "172 1           17.00000 0      0       8.6625 0       \n",
              "173 1           24.00000 0      3      19.2583 1       \n",
              "174 1           48.00000 0      0      25.9292 1       \n",
              "175 1           29.91726 8      2      69.5500 0       \n",
              "176 0           29.91726 0      0       7.8958 0       \n",
              "177 1           25.00000 0      1      26.0000 1       \n",
              "178 0           25.00000 0      0       7.0500 0       \n",
              "179 1           29.91726 1      2      23.4500 0       "
            ]
          },
          "metadata": {}
        }
      ]
    },
    {
      "cell_type": "code",
      "source": [
        "# Predict accuracy\n",
        "titanic_lg %>%\n",
        "  predict(train_testing) %>%\n",
        "  bind_cols(train_testing) %>%\n",
        "  metrics(truth = survived, estimate = .pred_class)"
      ],
      "metadata": {
        "colab": {
          "base_uri": "https://localhost:8080/",
          "height": 161
        },
        "id": "EJjkGxBfsfN4",
        "outputId": "0ad62f4d-ec83-4b36-99d7-b8f5b4dfa63c"
      },
      "execution_count": 100,
      "outputs": [
        {
          "output_type": "display_data",
          "data": {
            "text/html": [
              "<table class=\"dataframe\">\n",
              "<caption>A tibble: 2 × 3</caption>\n",
              "<thead>\n",
              "\t<tr><th scope=col>.metric</th><th scope=col>.estimator</th><th scope=col>.estimate</th></tr>\n",
              "\t<tr><th scope=col>&lt;chr&gt;</th><th scope=col>&lt;chr&gt;</th><th scope=col>&lt;dbl&gt;</th></tr>\n",
              "</thead>\n",
              "<tbody>\n",
              "\t<tr><td>accuracy</td><td>binary</td><td>0.6536313</td></tr>\n",
              "\t<tr><td>kap     </td><td>binary</td><td>0.3465615</td></tr>\n",
              "</tbody>\n",
              "</table>\n"
            ],
            "text/markdown": "\nA tibble: 2 × 3\n\n| .metric &lt;chr&gt; | .estimator &lt;chr&gt; | .estimate &lt;dbl&gt; |\n|---|---|---|\n| accuracy | binary | 0.6536313 |\n| kap      | binary | 0.3465615 |\n\n",
            "text/latex": "A tibble: 2 × 3\n\\begin{tabular}{lll}\n .metric & .estimator & .estimate\\\\\n <chr> & <chr> & <dbl>\\\\\n\\hline\n\t accuracy & binary & 0.6536313\\\\\n\t kap      & binary & 0.3465615\\\\\n\\end{tabular}\n",
            "text/plain": [
              "  .metric  .estimator .estimate\n",
              "1 accuracy binary     0.6536313\n",
              "2 kap      binary     0.3465615"
            ]
          },
          "metadata": {}
        }
      ]
    },
    {
      "cell_type": "code",
      "source": [
        "# Confusion matrix\n",
        "titanic_lg %>%\n",
        "  predict(train_testing) %>%\n",
        "  bind_cols(train_testing) %>%\n",
        "  conf_mat(truth = survived, estimate = .pred_class)"
      ],
      "metadata": {
        "colab": {
          "base_uri": "https://localhost:8080/",
          "height": 88
        },
        "id": "8WOJUVjcshZk",
        "outputId": "1c006940-abfd-485e-967c-a1593ad54728"
      },
      "execution_count": 101,
      "outputs": [
        {
          "output_type": "display_data",
          "data": {
            "text/plain": [
              "          Truth\n",
              "Prediction  0  1\n",
              "         0 57  9\n",
              "         1 53 60"
            ]
          },
          "metadata": {}
        }
      ]
    },
    {
      "cell_type": "markdown",
      "source": [
        "### Model 5: Naive Bayes\n",
        "\n",
        "The Naive Bayes model results in an accuracy of 0.5418, an improvement over the null model but not a good model compared to the other previous models."
      ],
      "metadata": {
        "id": "Ud_FDWt-st15"
      }
    },
    {
      "cell_type": "code",
      "source": [
        "# Set up model\n",
        "titanic_nb <- naive_Bayes(Laplace = 1) %>%\n",
        "  set_engine(\"klaR\") %>%\n",
        "  set_mode(\"classification\") %>%\n",
        "  fit(survived ~ ., data = train_training)\n",
        "\n",
        "predict(titanic_nb, train_training)"
      ],
      "metadata": {
        "colab": {
          "base_uri": "https://localhost:8080/",
          "height": 1000
        },
        "id": "Qp8i39Jzswfp",
        "outputId": "f9fb6c5c-bb14-4b5f-f87c-2fee65d864f8"
      },
      "execution_count": 102,
      "outputs": [
        {
          "output_type": "display_data",
          "data": {
            "text/html": [
              "<table class=\"dataframe\">\n",
              "<caption>A tibble: 712 × 1</caption>\n",
              "<thead>\n",
              "\t<tr><th scope=col>.pred_class</th></tr>\n",
              "\t<tr><th scope=col>&lt;fct&gt;</th></tr>\n",
              "</thead>\n",
              "<tbody>\n",
              "\t<tr><td>0</td></tr>\n",
              "\t<tr><td>0</td></tr>\n",
              "\t<tr><td>0</td></tr>\n",
              "\t<tr><td>0</td></tr>\n",
              "\t<tr><td>0</td></tr>\n",
              "\t<tr><td>1</td></tr>\n",
              "\t<tr><td>0</td></tr>\n",
              "\t<tr><td>0</td></tr>\n",
              "\t<tr><td>0</td></tr>\n",
              "\t<tr><td>0</td></tr>\n",
              "\t<tr><td>0</td></tr>\n",
              "\t<tr><td>1</td></tr>\n",
              "\t<tr><td>0</td></tr>\n",
              "\t<tr><td>0</td></tr>\n",
              "\t<tr><td>0</td></tr>\n",
              "\t<tr><td>0</td></tr>\n",
              "\t<tr><td>0</td></tr>\n",
              "\t<tr><td>0</td></tr>\n",
              "\t<tr><td>0</td></tr>\n",
              "\t<tr><td>0</td></tr>\n",
              "\t<tr><td>0</td></tr>\n",
              "\t<tr><td>0</td></tr>\n",
              "\t<tr><td>0</td></tr>\n",
              "\t<tr><td>1</td></tr>\n",
              "\t<tr><td>0</td></tr>\n",
              "\t<tr><td>1</td></tr>\n",
              "\t<tr><td>1</td></tr>\n",
              "\t<tr><td>0</td></tr>\n",
              "\t<tr><td>0</td></tr>\n",
              "\t<tr><td>0</td></tr>\n",
              "\t<tr><td>⋮</td></tr>\n",
              "\t<tr><td>0</td></tr>\n",
              "\t<tr><td>0</td></tr>\n",
              "\t<tr><td>0</td></tr>\n",
              "\t<tr><td>1</td></tr>\n",
              "\t<tr><td>1</td></tr>\n",
              "\t<tr><td>1</td></tr>\n",
              "\t<tr><td>0</td></tr>\n",
              "\t<tr><td>0</td></tr>\n",
              "\t<tr><td>1</td></tr>\n",
              "\t<tr><td>0</td></tr>\n",
              "\t<tr><td>0</td></tr>\n",
              "\t<tr><td>0</td></tr>\n",
              "\t<tr><td>0</td></tr>\n",
              "\t<tr><td>0</td></tr>\n",
              "\t<tr><td>1</td></tr>\n",
              "\t<tr><td>0</td></tr>\n",
              "\t<tr><td>1</td></tr>\n",
              "\t<tr><td>1</td></tr>\n",
              "\t<tr><td>0</td></tr>\n",
              "\t<tr><td>1</td></tr>\n",
              "\t<tr><td>0</td></tr>\n",
              "\t<tr><td>0</td></tr>\n",
              "\t<tr><td>0</td></tr>\n",
              "\t<tr><td>0</td></tr>\n",
              "\t<tr><td>1</td></tr>\n",
              "\t<tr><td>0</td></tr>\n",
              "\t<tr><td>0</td></tr>\n",
              "\t<tr><td>0</td></tr>\n",
              "\t<tr><td>0</td></tr>\n",
              "\t<tr><td>0</td></tr>\n",
              "</tbody>\n",
              "</table>\n"
            ],
            "text/markdown": "\nA tibble: 712 × 1\n\n| .pred_class &lt;fct&gt; |\n|---|\n| 0 |\n| 0 |\n| 0 |\n| 0 |\n| 0 |\n| 1 |\n| 0 |\n| 0 |\n| 0 |\n| 0 |\n| 0 |\n| 1 |\n| 0 |\n| 0 |\n| 0 |\n| 0 |\n| 0 |\n| 0 |\n| 0 |\n| 0 |\n| 0 |\n| 0 |\n| 0 |\n| 1 |\n| 0 |\n| 1 |\n| 1 |\n| 0 |\n| 0 |\n| 0 |\n| ⋮ |\n| 0 |\n| 0 |\n| 0 |\n| 1 |\n| 1 |\n| 1 |\n| 0 |\n| 0 |\n| 1 |\n| 0 |\n| 0 |\n| 0 |\n| 0 |\n| 0 |\n| 1 |\n| 0 |\n| 1 |\n| 1 |\n| 0 |\n| 1 |\n| 0 |\n| 0 |\n| 0 |\n| 0 |\n| 1 |\n| 0 |\n| 0 |\n| 0 |\n| 0 |\n| 0 |\n\n",
            "text/latex": "A tibble: 712 × 1\n\\begin{tabular}{l}\n .pred\\_class\\\\\n <fct>\\\\\n\\hline\n\t 0\\\\\n\t 0\\\\\n\t 0\\\\\n\t 0\\\\\n\t 0\\\\\n\t 1\\\\\n\t 0\\\\\n\t 0\\\\\n\t 0\\\\\n\t 0\\\\\n\t 0\\\\\n\t 1\\\\\n\t 0\\\\\n\t 0\\\\\n\t 0\\\\\n\t 0\\\\\n\t 0\\\\\n\t 0\\\\\n\t 0\\\\\n\t 0\\\\\n\t 0\\\\\n\t 0\\\\\n\t 0\\\\\n\t 1\\\\\n\t 0\\\\\n\t 1\\\\\n\t 1\\\\\n\t 0\\\\\n\t 0\\\\\n\t 0\\\\\n\t ⋮\\\\\n\t 0\\\\\n\t 0\\\\\n\t 0\\\\\n\t 1\\\\\n\t 1\\\\\n\t 1\\\\\n\t 0\\\\\n\t 0\\\\\n\t 1\\\\\n\t 0\\\\\n\t 0\\\\\n\t 0\\\\\n\t 0\\\\\n\t 0\\\\\n\t 1\\\\\n\t 0\\\\\n\t 1\\\\\n\t 1\\\\\n\t 0\\\\\n\t 1\\\\\n\t 0\\\\\n\t 0\\\\\n\t 0\\\\\n\t 0\\\\\n\t 1\\\\\n\t 0\\\\\n\t 0\\\\\n\t 0\\\\\n\t 0\\\\\n\t 0\\\\\n\\end{tabular}\n",
            "text/plain": [
              "    .pred_class\n",
              "1   0          \n",
              "2   0          \n",
              "3   0          \n",
              "4   0          \n",
              "5   0          \n",
              "6   1          \n",
              "7   0          \n",
              "8   0          \n",
              "9   0          \n",
              "10  0          \n",
              "11  0          \n",
              "12  1          \n",
              "13  0          \n",
              "14  0          \n",
              "15  0          \n",
              "16  0          \n",
              "17  0          \n",
              "18  0          \n",
              "19  0          \n",
              "20  0          \n",
              "21  0          \n",
              "22  0          \n",
              "23  0          \n",
              "24  1          \n",
              "25  0          \n",
              "26  1          \n",
              "27  1          \n",
              "28  0          \n",
              "29  0          \n",
              "30  0          \n",
              "⋮   ⋮          \n",
              "683 0          \n",
              "684 0          \n",
              "685 0          \n",
              "686 1          \n",
              "687 1          \n",
              "688 1          \n",
              "689 0          \n",
              "690 0          \n",
              "691 1          \n",
              "692 0          \n",
              "693 0          \n",
              "694 0          \n",
              "695 0          \n",
              "696 0          \n",
              "697 1          \n",
              "698 0          \n",
              "699 1          \n",
              "700 1          \n",
              "701 0          \n",
              "702 1          \n",
              "703 0          \n",
              "704 0          \n",
              "705 0          \n",
              "706 0          \n",
              "707 1          \n",
              "708 0          \n",
              "709 0          \n",
              "710 0          \n",
              "711 0          \n",
              "712 0          "
            ]
          },
          "metadata": {}
        }
      ]
    },
    {
      "cell_type": "code",
      "source": [
        "suppressWarnings( # suppress warnings\n",
        "  titanic_nb %>%\n",
        "    predict(train_testing) %>%\n",
        "    bind_cols(train_testing)\n",
        ")"
      ],
      "metadata": {
        "colab": {
          "base_uri": "https://localhost:8080/",
          "height": 1000
        },
        "id": "AbvhCG9Ts3Ws",
        "outputId": "a774d3c1-bafd-40d9-9c20-3213d31ced8f"
      },
      "execution_count": 107,
      "outputs": [
        {
          "output_type": "display_data",
          "data": {
            "text/html": [
              "<table class=\"dataframe\">\n",
              "<caption>A tibble: 179 × 6</caption>\n",
              "<thead>\n",
              "\t<tr><th scope=col>.pred_class</th><th scope=col>age</th><th scope=col>sib_sp</th><th scope=col>parch</th><th scope=col>fare</th><th scope=col>survived</th></tr>\n",
              "\t<tr><th scope=col>&lt;fct&gt;</th><th scope=col>&lt;dbl&gt;</th><th scope=col>&lt;int&gt;</th><th scope=col>&lt;int&gt;</th><th scope=col>&lt;dbl&gt;</th><th scope=col>&lt;fct&gt;</th></tr>\n",
              "</thead>\n",
              "<tbody>\n",
              "\t<tr><td>1</td><td>22.00000</td><td>1</td><td>0</td><td>  7.2500</td><td>0</td></tr>\n",
              "\t<tr><td>0</td><td>26.00000</td><td>0</td><td>0</td><td>  7.9250</td><td>1</td></tr>\n",
              "\t<tr><td>1</td><td>54.00000</td><td>0</td><td>0</td><td> 51.8625</td><td>0</td></tr>\n",
              "\t<tr><td>1</td><td>58.00000</td><td>0</td><td>0</td><td> 26.5500</td><td>1</td></tr>\n",
              "\t<tr><td>0</td><td>14.00000</td><td>0</td><td>0</td><td>  7.8542</td><td>0</td></tr>\n",
              "\t<tr><td>1</td><td>29.91726</td><td>0</td><td>0</td><td> 13.0000</td><td>1</td></tr>\n",
              "\t<tr><td>1</td><td>34.00000</td><td>0</td><td>0</td><td> 13.0000</td><td>1</td></tr>\n",
              "\t<tr><td>1</td><td>29.91726</td><td>0</td><td>0</td><td>  7.2250</td><td>0</td></tr>\n",
              "\t<tr><td>1</td><td>19.00000</td><td>3</td><td>2</td><td>263.0000</td><td>0</td></tr>\n",
              "\t<tr><td>1</td><td>29.91726</td><td>1</td><td>0</td><td>146.5208</td><td>1</td></tr>\n",
              "\t<tr><td>0</td><td>29.91726</td><td>0</td><td>0</td><td>  7.8958</td><td>0</td></tr>\n",
              "\t<tr><td>0</td><td> 3.00000</td><td>1</td><td>2</td><td> 41.5792</td><td>1</td></tr>\n",
              "\t<tr><td>1</td><td>38.00000</td><td>0</td><td>0</td><td> 80.0000</td><td>1</td></tr>\n",
              "\t<tr><td>1</td><td>45.00000</td><td>1</td><td>0</td><td> 83.4750</td><td>0</td></tr>\n",
              "\t<tr><td>1</td><td>21.00000</td><td>0</td><td>0</td><td> 73.5000</td><td>0</td></tr>\n",
              "\t<tr><td>1</td><td>29.00000</td><td>0</td><td>0</td><td>  9.5000</td><td>1</td></tr>\n",
              "\t<tr><td>0</td><td>33.00000</td><td>3</td><td>0</td><td> 15.8500</td><td>1</td></tr>\n",
              "\t<tr><td>0</td><td>20.00000</td><td>0</td><td>0</td><td>  7.8542</td><td>0</td></tr>\n",
              "\t<tr><td>1</td><td>71.00000</td><td>0</td><td>0</td><td> 34.6542</td><td>0</td></tr>\n",
              "\t<tr><td>0</td><td>28.00000</td><td>0</td><td>0</td><td>  7.8958</td><td>0</td></tr>\n",
              "\t<tr><td>0</td><td>29.91726</td><td>0</td><td>0</td><td>  7.8958</td><td>0</td></tr>\n",
              "\t<tr><td>1</td><td>21.00000</td><td>0</td><td>0</td><td>  7.6500</td><td>1</td></tr>\n",
              "\t<tr><td>1</td><td>12.00000</td><td>1</td><td>0</td><td> 11.2417</td><td>1</td></tr>\n",
              "\t<tr><td>1</td><td>47.00000</td><td>1</td><td>0</td><td> 14.5000</td><td>0</td></tr>\n",
              "\t<tr><td>1</td><td>24.00000</td><td>0</td><td>0</td><td> 79.2000</td><td>0</td></tr>\n",
              "\t<tr><td>1</td><td>22.00000</td><td>0</td><td>0</td><td>  7.7500</td><td>1</td></tr>\n",
              "\t<tr><td>1</td><td>19.00000</td><td>0</td><td>0</td><td>  6.7500</td><td>0</td></tr>\n",
              "\t<tr><td>1</td><td>18.00000</td><td>0</td><td>0</td><td> 11.5000</td><td>0</td></tr>\n",
              "\t<tr><td>1</td><td>19.00000</td><td>1</td><td>1</td><td> 36.7500</td><td>0</td></tr>\n",
              "\t<tr><td>0</td><td>27.00000</td><td>0</td><td>0</td><td>  7.7958</td><td>1</td></tr>\n",
              "\t<tr><td>⋮</td><td>⋮</td><td>⋮</td><td>⋮</td><td>⋮</td><td>⋮</td></tr>\n",
              "\t<tr><td>1</td><td>23.00000</td><td>0</td><td>0</td><td> 13.0000</td><td>0</td></tr>\n",
              "\t<tr><td>1</td><td>29.91726</td><td>0</td><td>0</td><td> 30.0000</td><td>1</td></tr>\n",
              "\t<tr><td>1</td><td>21.00000</td><td>2</td><td>2</td><td>262.3750</td><td>1</td></tr>\n",
              "\t<tr><td>0</td><td>31.00000</td><td>0</td><td>0</td><td>  7.9250</td><td>1</td></tr>\n",
              "\t<tr><td>1</td><td>30.00000</td><td>0</td><td>0</td><td> 13.0000</td><td>1</td></tr>\n",
              "\t<tr><td>1</td><td>31.00000</td><td>0</td><td>0</td><td>  7.7500</td><td>0</td></tr>\n",
              "\t<tr><td>0</td><td>28.00000</td><td>0</td><td>0</td><td>  7.7958</td><td>0</td></tr>\n",
              "\t<tr><td>0</td><td>16.00000</td><td>0</td><td>0</td><td>  7.7750</td><td>0</td></tr>\n",
              "\t<tr><td>0</td><td>32.00000</td><td>0</td><td>0</td><td>  8.3625</td><td>0</td></tr>\n",
              "\t<tr><td>1</td><td>57.00000</td><td>0</td><td>0</td><td> 10.5000</td><td>0</td></tr>\n",
              "\t<tr><td>1</td><td>18.00000</td><td>0</td><td>0</td><td>  7.7500</td><td>0</td></tr>\n",
              "\t<tr><td>1</td><td> 5.00000</td><td>0</td><td>0</td><td> 12.4750</td><td>1</td></tr>\n",
              "\t<tr><td>1</td><td>25.00000</td><td>0</td><td>0</td><td>  7.0500</td><td>0</td></tr>\n",
              "\t<tr><td>1</td><td>25.00000</td><td>0</td><td>0</td><td>  7.2500</td><td>0</td></tr>\n",
              "\t<tr><td>1</td><td>46.00000</td><td>0</td><td>0</td><td> 79.2000</td><td>0</td></tr>\n",
              "\t<tr><td>1</td><td>39.00000</td><td>0</td><td>0</td><td> 13.0000</td><td>0</td></tr>\n",
              "\t<tr><td>0</td><td> 0.42000</td><td>0</td><td>1</td><td>  8.5167</td><td>1</td></tr>\n",
              "\t<tr><td>0</td><td>26.00000</td><td>0</td><td>0</td><td>  7.8875</td><td>0</td></tr>\n",
              "\t<tr><td>0</td><td>23.00000</td><td>0</td><td>0</td><td>  7.9250</td><td>0</td></tr>\n",
              "\t<tr><td>0</td><td> 2.00000</td><td>4</td><td>1</td><td> 39.6875</td><td>0</td></tr>\n",
              "\t<tr><td>1</td><td>62.00000</td><td>0</td><td>0</td><td> 80.0000</td><td>1</td></tr>\n",
              "\t<tr><td>0</td><td>21.00000</td><td>0</td><td>0</td><td>  8.6625</td><td>0</td></tr>\n",
              "\t<tr><td>0</td><td>17.00000</td><td>0</td><td>0</td><td>  8.6625</td><td>0</td></tr>\n",
              "\t<tr><td>1</td><td>24.00000</td><td>0</td><td>3</td><td> 19.2583</td><td>1</td></tr>\n",
              "\t<tr><td>1</td><td>48.00000</td><td>0</td><td>0</td><td> 25.9292</td><td>1</td></tr>\n",
              "\t<tr><td>1</td><td>29.91726</td><td>8</td><td>2</td><td> 69.5500</td><td>0</td></tr>\n",
              "\t<tr><td>0</td><td>29.91726</td><td>0</td><td>0</td><td>  7.8958</td><td>0</td></tr>\n",
              "\t<tr><td>1</td><td>25.00000</td><td>0</td><td>1</td><td> 26.0000</td><td>1</td></tr>\n",
              "\t<tr><td>1</td><td>25.00000</td><td>0</td><td>0</td><td>  7.0500</td><td>0</td></tr>\n",
              "\t<tr><td>1</td><td>29.91726</td><td>1</td><td>2</td><td> 23.4500</td><td>0</td></tr>\n",
              "</tbody>\n",
              "</table>\n"
            ],
            "text/markdown": "\nA tibble: 179 × 6\n\n| .pred_class &lt;fct&gt; | age &lt;dbl&gt; | sib_sp &lt;int&gt; | parch &lt;int&gt; | fare &lt;dbl&gt; | survived &lt;fct&gt; |\n|---|---|---|---|---|---|\n| 1 | 22.00000 | 1 | 0 |   7.2500 | 0 |\n| 0 | 26.00000 | 0 | 0 |   7.9250 | 1 |\n| 1 | 54.00000 | 0 | 0 |  51.8625 | 0 |\n| 1 | 58.00000 | 0 | 0 |  26.5500 | 1 |\n| 0 | 14.00000 | 0 | 0 |   7.8542 | 0 |\n| 1 | 29.91726 | 0 | 0 |  13.0000 | 1 |\n| 1 | 34.00000 | 0 | 0 |  13.0000 | 1 |\n| 1 | 29.91726 | 0 | 0 |   7.2250 | 0 |\n| 1 | 19.00000 | 3 | 2 | 263.0000 | 0 |\n| 1 | 29.91726 | 1 | 0 | 146.5208 | 1 |\n| 0 | 29.91726 | 0 | 0 |   7.8958 | 0 |\n| 0 |  3.00000 | 1 | 2 |  41.5792 | 1 |\n| 1 | 38.00000 | 0 | 0 |  80.0000 | 1 |\n| 1 | 45.00000 | 1 | 0 |  83.4750 | 0 |\n| 1 | 21.00000 | 0 | 0 |  73.5000 | 0 |\n| 1 | 29.00000 | 0 | 0 |   9.5000 | 1 |\n| 0 | 33.00000 | 3 | 0 |  15.8500 | 1 |\n| 0 | 20.00000 | 0 | 0 |   7.8542 | 0 |\n| 1 | 71.00000 | 0 | 0 |  34.6542 | 0 |\n| 0 | 28.00000 | 0 | 0 |   7.8958 | 0 |\n| 0 | 29.91726 | 0 | 0 |   7.8958 | 0 |\n| 1 | 21.00000 | 0 | 0 |   7.6500 | 1 |\n| 1 | 12.00000 | 1 | 0 |  11.2417 | 1 |\n| 1 | 47.00000 | 1 | 0 |  14.5000 | 0 |\n| 1 | 24.00000 | 0 | 0 |  79.2000 | 0 |\n| 1 | 22.00000 | 0 | 0 |   7.7500 | 1 |\n| 1 | 19.00000 | 0 | 0 |   6.7500 | 0 |\n| 1 | 18.00000 | 0 | 0 |  11.5000 | 0 |\n| 1 | 19.00000 | 1 | 1 |  36.7500 | 0 |\n| 0 | 27.00000 | 0 | 0 |   7.7958 | 1 |\n| ⋮ | ⋮ | ⋮ | ⋮ | ⋮ | ⋮ |\n| 1 | 23.00000 | 0 | 0 |  13.0000 | 0 |\n| 1 | 29.91726 | 0 | 0 |  30.0000 | 1 |\n| 1 | 21.00000 | 2 | 2 | 262.3750 | 1 |\n| 0 | 31.00000 | 0 | 0 |   7.9250 | 1 |\n| 1 | 30.00000 | 0 | 0 |  13.0000 | 1 |\n| 1 | 31.00000 | 0 | 0 |   7.7500 | 0 |\n| 0 | 28.00000 | 0 | 0 |   7.7958 | 0 |\n| 0 | 16.00000 | 0 | 0 |   7.7750 | 0 |\n| 0 | 32.00000 | 0 | 0 |   8.3625 | 0 |\n| 1 | 57.00000 | 0 | 0 |  10.5000 | 0 |\n| 1 | 18.00000 | 0 | 0 |   7.7500 | 0 |\n| 1 |  5.00000 | 0 | 0 |  12.4750 | 1 |\n| 1 | 25.00000 | 0 | 0 |   7.0500 | 0 |\n| 1 | 25.00000 | 0 | 0 |   7.2500 | 0 |\n| 1 | 46.00000 | 0 | 0 |  79.2000 | 0 |\n| 1 | 39.00000 | 0 | 0 |  13.0000 | 0 |\n| 0 |  0.42000 | 0 | 1 |   8.5167 | 1 |\n| 0 | 26.00000 | 0 | 0 |   7.8875 | 0 |\n| 0 | 23.00000 | 0 | 0 |   7.9250 | 0 |\n| 0 |  2.00000 | 4 | 1 |  39.6875 | 0 |\n| 1 | 62.00000 | 0 | 0 |  80.0000 | 1 |\n| 0 | 21.00000 | 0 | 0 |   8.6625 | 0 |\n| 0 | 17.00000 | 0 | 0 |   8.6625 | 0 |\n| 1 | 24.00000 | 0 | 3 |  19.2583 | 1 |\n| 1 | 48.00000 | 0 | 0 |  25.9292 | 1 |\n| 1 | 29.91726 | 8 | 2 |  69.5500 | 0 |\n| 0 | 29.91726 | 0 | 0 |   7.8958 | 0 |\n| 1 | 25.00000 | 0 | 1 |  26.0000 | 1 |\n| 1 | 25.00000 | 0 | 0 |   7.0500 | 0 |\n| 1 | 29.91726 | 1 | 2 |  23.4500 | 0 |\n\n",
            "text/latex": "A tibble: 179 × 6\n\\begin{tabular}{llllll}\n .pred\\_class & age & sib\\_sp & parch & fare & survived\\\\\n <fct> & <dbl> & <int> & <int> & <dbl> & <fct>\\\\\n\\hline\n\t 1 & 22.00000 & 1 & 0 &   7.2500 & 0\\\\\n\t 0 & 26.00000 & 0 & 0 &   7.9250 & 1\\\\\n\t 1 & 54.00000 & 0 & 0 &  51.8625 & 0\\\\\n\t 1 & 58.00000 & 0 & 0 &  26.5500 & 1\\\\\n\t 0 & 14.00000 & 0 & 0 &   7.8542 & 0\\\\\n\t 1 & 29.91726 & 0 & 0 &  13.0000 & 1\\\\\n\t 1 & 34.00000 & 0 & 0 &  13.0000 & 1\\\\\n\t 1 & 29.91726 & 0 & 0 &   7.2250 & 0\\\\\n\t 1 & 19.00000 & 3 & 2 & 263.0000 & 0\\\\\n\t 1 & 29.91726 & 1 & 0 & 146.5208 & 1\\\\\n\t 0 & 29.91726 & 0 & 0 &   7.8958 & 0\\\\\n\t 0 &  3.00000 & 1 & 2 &  41.5792 & 1\\\\\n\t 1 & 38.00000 & 0 & 0 &  80.0000 & 1\\\\\n\t 1 & 45.00000 & 1 & 0 &  83.4750 & 0\\\\\n\t 1 & 21.00000 & 0 & 0 &  73.5000 & 0\\\\\n\t 1 & 29.00000 & 0 & 0 &   9.5000 & 1\\\\\n\t 0 & 33.00000 & 3 & 0 &  15.8500 & 1\\\\\n\t 0 & 20.00000 & 0 & 0 &   7.8542 & 0\\\\\n\t 1 & 71.00000 & 0 & 0 &  34.6542 & 0\\\\\n\t 0 & 28.00000 & 0 & 0 &   7.8958 & 0\\\\\n\t 0 & 29.91726 & 0 & 0 &   7.8958 & 0\\\\\n\t 1 & 21.00000 & 0 & 0 &   7.6500 & 1\\\\\n\t 1 & 12.00000 & 1 & 0 &  11.2417 & 1\\\\\n\t 1 & 47.00000 & 1 & 0 &  14.5000 & 0\\\\\n\t 1 & 24.00000 & 0 & 0 &  79.2000 & 0\\\\\n\t 1 & 22.00000 & 0 & 0 &   7.7500 & 1\\\\\n\t 1 & 19.00000 & 0 & 0 &   6.7500 & 0\\\\\n\t 1 & 18.00000 & 0 & 0 &  11.5000 & 0\\\\\n\t 1 & 19.00000 & 1 & 1 &  36.7500 & 0\\\\\n\t 0 & 27.00000 & 0 & 0 &   7.7958 & 1\\\\\n\t ⋮ & ⋮ & ⋮ & ⋮ & ⋮ & ⋮\\\\\n\t 1 & 23.00000 & 0 & 0 &  13.0000 & 0\\\\\n\t 1 & 29.91726 & 0 & 0 &  30.0000 & 1\\\\\n\t 1 & 21.00000 & 2 & 2 & 262.3750 & 1\\\\\n\t 0 & 31.00000 & 0 & 0 &   7.9250 & 1\\\\\n\t 1 & 30.00000 & 0 & 0 &  13.0000 & 1\\\\\n\t 1 & 31.00000 & 0 & 0 &   7.7500 & 0\\\\\n\t 0 & 28.00000 & 0 & 0 &   7.7958 & 0\\\\\n\t 0 & 16.00000 & 0 & 0 &   7.7750 & 0\\\\\n\t 0 & 32.00000 & 0 & 0 &   8.3625 & 0\\\\\n\t 1 & 57.00000 & 0 & 0 &  10.5000 & 0\\\\\n\t 1 & 18.00000 & 0 & 0 &   7.7500 & 0\\\\\n\t 1 &  5.00000 & 0 & 0 &  12.4750 & 1\\\\\n\t 1 & 25.00000 & 0 & 0 &   7.0500 & 0\\\\\n\t 1 & 25.00000 & 0 & 0 &   7.2500 & 0\\\\\n\t 1 & 46.00000 & 0 & 0 &  79.2000 & 0\\\\\n\t 1 & 39.00000 & 0 & 0 &  13.0000 & 0\\\\\n\t 0 &  0.42000 & 0 & 1 &   8.5167 & 1\\\\\n\t 0 & 26.00000 & 0 & 0 &   7.8875 & 0\\\\\n\t 0 & 23.00000 & 0 & 0 &   7.9250 & 0\\\\\n\t 0 &  2.00000 & 4 & 1 &  39.6875 & 0\\\\\n\t 1 & 62.00000 & 0 & 0 &  80.0000 & 1\\\\\n\t 0 & 21.00000 & 0 & 0 &   8.6625 & 0\\\\\n\t 0 & 17.00000 & 0 & 0 &   8.6625 & 0\\\\\n\t 1 & 24.00000 & 0 & 3 &  19.2583 & 1\\\\\n\t 1 & 48.00000 & 0 & 0 &  25.9292 & 1\\\\\n\t 1 & 29.91726 & 8 & 2 &  69.5500 & 0\\\\\n\t 0 & 29.91726 & 0 & 0 &   7.8958 & 0\\\\\n\t 1 & 25.00000 & 0 & 1 &  26.0000 & 1\\\\\n\t 1 & 25.00000 & 0 & 0 &   7.0500 & 0\\\\\n\t 1 & 29.91726 & 1 & 2 &  23.4500 & 0\\\\\n\\end{tabular}\n",
            "text/plain": [
              "    .pred_class age      sib_sp parch fare     survived\n",
              "1   1           22.00000 1      0       7.2500 0       \n",
              "2   0           26.00000 0      0       7.9250 1       \n",
              "3   1           54.00000 0      0      51.8625 0       \n",
              "4   1           58.00000 0      0      26.5500 1       \n",
              "5   0           14.00000 0      0       7.8542 0       \n",
              "6   1           29.91726 0      0      13.0000 1       \n",
              "7   1           34.00000 0      0      13.0000 1       \n",
              "8   1           29.91726 0      0       7.2250 0       \n",
              "9   1           19.00000 3      2     263.0000 0       \n",
              "10  1           29.91726 1      0     146.5208 1       \n",
              "11  0           29.91726 0      0       7.8958 0       \n",
              "12  0            3.00000 1      2      41.5792 1       \n",
              "13  1           38.00000 0      0      80.0000 1       \n",
              "14  1           45.00000 1      0      83.4750 0       \n",
              "15  1           21.00000 0      0      73.5000 0       \n",
              "16  1           29.00000 0      0       9.5000 1       \n",
              "17  0           33.00000 3      0      15.8500 1       \n",
              "18  0           20.00000 0      0       7.8542 0       \n",
              "19  1           71.00000 0      0      34.6542 0       \n",
              "20  0           28.00000 0      0       7.8958 0       \n",
              "21  0           29.91726 0      0       7.8958 0       \n",
              "22  1           21.00000 0      0       7.6500 1       \n",
              "23  1           12.00000 1      0      11.2417 1       \n",
              "24  1           47.00000 1      0      14.5000 0       \n",
              "25  1           24.00000 0      0      79.2000 0       \n",
              "26  1           22.00000 0      0       7.7500 1       \n",
              "27  1           19.00000 0      0       6.7500 0       \n",
              "28  1           18.00000 0      0      11.5000 0       \n",
              "29  1           19.00000 1      1      36.7500 0       \n",
              "30  0           27.00000 0      0       7.7958 1       \n",
              "⋮   ⋮           ⋮        ⋮      ⋮     ⋮        ⋮       \n",
              "150 1           23.00000 0      0      13.0000 0       \n",
              "151 1           29.91726 0      0      30.0000 1       \n",
              "152 1           21.00000 2      2     262.3750 1       \n",
              "153 0           31.00000 0      0       7.9250 1       \n",
              "154 1           30.00000 0      0      13.0000 1       \n",
              "155 1           31.00000 0      0       7.7500 0       \n",
              "156 0           28.00000 0      0       7.7958 0       \n",
              "157 0           16.00000 0      0       7.7750 0       \n",
              "158 0           32.00000 0      0       8.3625 0       \n",
              "159 1           57.00000 0      0      10.5000 0       \n",
              "160 1           18.00000 0      0       7.7500 0       \n",
              "161 1            5.00000 0      0      12.4750 1       \n",
              "162 1           25.00000 0      0       7.0500 0       \n",
              "163 1           25.00000 0      0       7.2500 0       \n",
              "164 1           46.00000 0      0      79.2000 0       \n",
              "165 1           39.00000 0      0      13.0000 0       \n",
              "166 0            0.42000 0      1       8.5167 1       \n",
              "167 0           26.00000 0      0       7.8875 0       \n",
              "168 0           23.00000 0      0       7.9250 0       \n",
              "169 0            2.00000 4      1      39.6875 0       \n",
              "170 1           62.00000 0      0      80.0000 1       \n",
              "171 0           21.00000 0      0       8.6625 0       \n",
              "172 0           17.00000 0      0       8.6625 0       \n",
              "173 1           24.00000 0      3      19.2583 1       \n",
              "174 1           48.00000 0      0      25.9292 1       \n",
              "175 1           29.91726 8      2      69.5500 0       \n",
              "176 0           29.91726 0      0       7.8958 0       \n",
              "177 1           25.00000 0      1      26.0000 1       \n",
              "178 1           25.00000 0      0       7.0500 0       \n",
              "179 1           29.91726 1      2      23.4500 0       "
            ]
          },
          "metadata": {}
        }
      ]
    },
    {
      "cell_type": "code",
      "source": [
        "# Predict accuracy\n",
        "suppressWarnings( # suppress warnings\n",
        "  titanic_nb %>%\n",
        "    predict(train_testing) %>%\n",
        "    bind_cols(train_testing) %>%\n",
        "    metrics(truth = survived, estimate = .pred_class)\n",
        ")"
      ],
      "metadata": {
        "colab": {
          "base_uri": "https://localhost:8080/",
          "height": 161
        },
        "id": "-dMZDLENs5Es",
        "outputId": "2230e976-1605-466f-e7bf-42b8f0d424a4"
      },
      "execution_count": 108,
      "outputs": [
        {
          "output_type": "display_data",
          "data": {
            "text/html": [
              "<table class=\"dataframe\">\n",
              "<caption>A tibble: 2 × 3</caption>\n",
              "<thead>\n",
              "\t<tr><th scope=col>.metric</th><th scope=col>.estimator</th><th scope=col>.estimate</th></tr>\n",
              "\t<tr><th scope=col>&lt;chr&gt;</th><th scope=col>&lt;chr&gt;</th><th scope=col>&lt;dbl&gt;</th></tr>\n",
              "</thead>\n",
              "<tbody>\n",
              "\t<tr><td>accuracy</td><td>binary</td><td>0.5418994</td></tr>\n",
              "\t<tr><td>kap     </td><td>binary</td><td>0.1755785</td></tr>\n",
              "</tbody>\n",
              "</table>\n"
            ],
            "text/markdown": "\nA tibble: 2 × 3\n\n| .metric &lt;chr&gt; | .estimator &lt;chr&gt; | .estimate &lt;dbl&gt; |\n|---|---|---|\n| accuracy | binary | 0.5418994 |\n| kap      | binary | 0.1755785 |\n\n",
            "text/latex": "A tibble: 2 × 3\n\\begin{tabular}{lll}\n .metric & .estimator & .estimate\\\\\n <chr> & <chr> & <dbl>\\\\\n\\hline\n\t accuracy & binary & 0.5418994\\\\\n\t kap      & binary & 0.1755785\\\\\n\\end{tabular}\n",
            "text/plain": [
              "  .metric  .estimator .estimate\n",
              "1 accuracy binary     0.5418994\n",
              "2 kap      binary     0.1755785"
            ]
          },
          "metadata": {}
        }
      ]
    },
    {
      "cell_type": "code",
      "source": [
        "# Confusion matrix\n",
        "suppressWarnings( # suppress warnings\n",
        "  titanic_nb %>%\n",
        "    predict(train_testing) %>%\n",
        "    bind_cols(train_testing) %>%\n",
        "    conf_mat(truth = survived, estimate = .pred_class)\n",
        ")\n"
      ],
      "metadata": {
        "colab": {
          "base_uri": "https://localhost:8080/",
          "height": 88
        },
        "id": "_-N21eSRs74I",
        "outputId": "48eca38f-25ae-4b74-f358-cecb01a0b4b0"
      },
      "execution_count": 109,
      "outputs": [
        {
          "output_type": "display_data",
          "data": {
            "text/plain": [
              "          Truth\n",
              "Prediction  0  1\n",
              "         0 37  9\n",
              "         1 73 60"
            ]
          },
          "metadata": {}
        }
      ]
    },
    {
      "cell_type": "markdown",
      "source": [
        "## Final Results\n",
        "\n",
        "The model with the highest accuracy was the KNN model. The below are the results of the KNN model fitted on the full titanic_train dataset."
      ],
      "metadata": {
        "id": "cZvna1BSul5M"
      }
    },
    {
      "cell_type": "code",
      "source": [
        "# Remove missing values from full titanic train dataset\n",
        "df <- na.omit(titanic_train2)"
      ],
      "metadata": {
        "id": "UNLfm-tTvBmF"
      },
      "execution_count": 111,
      "outputs": []
    },
    {
      "cell_type": "code",
      "source": [
        "# Recipe for preprocessing with normalization\n",
        "train_recipe <- recipe(survived ~ ., data = df) %>%\n",
        "  step_rm(pclass, sex, embarked) %>%\n",
        "  step_nzv(all_predictors()) %>%\n",
        "  step_impute_mean(age) %>%\n",
        "  step_normalize(all_numeric_predictors()) %>%\n",
        "  prep()"
      ],
      "metadata": {
        "id": "2E21d5TSv11n"
      },
      "execution_count": 112,
      "outputs": []
    },
    {
      "cell_type": "code",
      "source": [
        "# Prepare the training dataset using the recipe\n",
        "train_training <- juice(train_recipe)"
      ],
      "metadata": {
        "id": "S-F5ATHFv5iw"
      },
      "execution_count": 113,
      "outputs": []
    },
    {
      "cell_type": "code",
      "source": [
        "# Set up model\n",
        "final_model <- nearest_neighbor(neighbors = 11) %>%\n",
        "  set_engine(\"kknn\") %>%\n",
        "  set_mode(\"classification\") %>%\n",
        "  fit(survived ~ ., data = train_training)"
      ],
      "metadata": {
        "id": "rV71diMiv7XO"
      },
      "execution_count": 114,
      "outputs": []
    },
    {
      "cell_type": "code",
      "source": [
        "# Make predictions\n",
        "predict(final_model, df)"
      ],
      "metadata": {
        "colab": {
          "base_uri": "https://localhost:8080/",
          "height": 1000
        },
        "id": "Jmb8Yb1Gv9QI",
        "outputId": "6403378a-f410-47a5-c72b-6ad629eedaf6"
      },
      "execution_count": 115,
      "outputs": [
        {
          "output_type": "display_data",
          "data": {
            "text/html": [
              "<table class=\"dataframe\">\n",
              "<caption>A tibble: 714 × 1</caption>\n",
              "<thead>\n",
              "\t<tr><th scope=col>.pred_class</th></tr>\n",
              "\t<tr><th scope=col>&lt;fct&gt;</th></tr>\n",
              "</thead>\n",
              "<tbody>\n",
              "\t<tr><td>0</td></tr>\n",
              "\t<tr><td>1</td></tr>\n",
              "\t<tr><td>0</td></tr>\n",
              "\t<tr><td>1</td></tr>\n",
              "\t<tr><td>0</td></tr>\n",
              "\t<tr><td>1</td></tr>\n",
              "\t<tr><td>1</td></tr>\n",
              "\t<tr><td>0</td></tr>\n",
              "\t<tr><td>1</td></tr>\n",
              "\t<tr><td>1</td></tr>\n",
              "\t<tr><td>1</td></tr>\n",
              "\t<tr><td>0</td></tr>\n",
              "\t<tr><td>1</td></tr>\n",
              "\t<tr><td>1</td></tr>\n",
              "\t<tr><td>0</td></tr>\n",
              "\t<tr><td>1</td></tr>\n",
              "\t<tr><td>1</td></tr>\n",
              "\t<tr><td>1</td></tr>\n",
              "\t<tr><td>0</td></tr>\n",
              "\t<tr><td>1</td></tr>\n",
              "\t<tr><td>1</td></tr>\n",
              "\t<tr><td>1</td></tr>\n",
              "\t<tr><td>1</td></tr>\n",
              "\t<tr><td>1</td></tr>\n",
              "\t<tr><td>1</td></tr>\n",
              "\t<tr><td>0</td></tr>\n",
              "\t<tr><td>1</td></tr>\n",
              "\t<tr><td>1</td></tr>\n",
              "\t<tr><td>0</td></tr>\n",
              "\t<tr><td>1</td></tr>\n",
              "\t<tr><td>⋮</td></tr>\n",
              "\t<tr><td>1</td></tr>\n",
              "\t<tr><td>1</td></tr>\n",
              "\t<tr><td>1</td></tr>\n",
              "\t<tr><td>0</td></tr>\n",
              "\t<tr><td>1</td></tr>\n",
              "\t<tr><td>1</td></tr>\n",
              "\t<tr><td>1</td></tr>\n",
              "\t<tr><td>0</td></tr>\n",
              "\t<tr><td>1</td></tr>\n",
              "\t<tr><td>1</td></tr>\n",
              "\t<tr><td>1</td></tr>\n",
              "\t<tr><td>0</td></tr>\n",
              "\t<tr><td>1</td></tr>\n",
              "\t<tr><td>0</td></tr>\n",
              "\t<tr><td>0</td></tr>\n",
              "\t<tr><td>1</td></tr>\n",
              "\t<tr><td>0</td></tr>\n",
              "\t<tr><td>1</td></tr>\n",
              "\t<tr><td>0</td></tr>\n",
              "\t<tr><td>1</td></tr>\n",
              "\t<tr><td>1</td></tr>\n",
              "\t<tr><td>0</td></tr>\n",
              "\t<tr><td>1</td></tr>\n",
              "\t<tr><td>0</td></tr>\n",
              "\t<tr><td>0</td></tr>\n",
              "\t<tr><td>1</td></tr>\n",
              "\t<tr><td>1</td></tr>\n",
              "\t<tr><td>1</td></tr>\n",
              "\t<tr><td>1</td></tr>\n",
              "\t<tr><td>0</td></tr>\n",
              "</tbody>\n",
              "</table>\n"
            ],
            "text/markdown": "\nA tibble: 714 × 1\n\n| .pred_class &lt;fct&gt; |\n|---|\n| 0 |\n| 1 |\n| 0 |\n| 1 |\n| 0 |\n| 1 |\n| 1 |\n| 0 |\n| 1 |\n| 1 |\n| 1 |\n| 0 |\n| 1 |\n| 1 |\n| 0 |\n| 1 |\n| 1 |\n| 1 |\n| 0 |\n| 1 |\n| 1 |\n| 1 |\n| 1 |\n| 1 |\n| 1 |\n| 0 |\n| 1 |\n| 1 |\n| 0 |\n| 1 |\n| ⋮ |\n| 1 |\n| 1 |\n| 1 |\n| 0 |\n| 1 |\n| 1 |\n| 1 |\n| 0 |\n| 1 |\n| 1 |\n| 1 |\n| 0 |\n| 1 |\n| 0 |\n| 0 |\n| 1 |\n| 0 |\n| 1 |\n| 0 |\n| 1 |\n| 1 |\n| 0 |\n| 1 |\n| 0 |\n| 0 |\n| 1 |\n| 1 |\n| 1 |\n| 1 |\n| 0 |\n\n",
            "text/latex": "A tibble: 714 × 1\n\\begin{tabular}{l}\n .pred\\_class\\\\\n <fct>\\\\\n\\hline\n\t 0\\\\\n\t 1\\\\\n\t 0\\\\\n\t 1\\\\\n\t 0\\\\\n\t 1\\\\\n\t 1\\\\\n\t 0\\\\\n\t 1\\\\\n\t 1\\\\\n\t 1\\\\\n\t 0\\\\\n\t 1\\\\\n\t 1\\\\\n\t 0\\\\\n\t 1\\\\\n\t 1\\\\\n\t 1\\\\\n\t 0\\\\\n\t 1\\\\\n\t 1\\\\\n\t 1\\\\\n\t 1\\\\\n\t 1\\\\\n\t 1\\\\\n\t 0\\\\\n\t 1\\\\\n\t 1\\\\\n\t 0\\\\\n\t 1\\\\\n\t ⋮\\\\\n\t 1\\\\\n\t 1\\\\\n\t 1\\\\\n\t 0\\\\\n\t 1\\\\\n\t 1\\\\\n\t 1\\\\\n\t 0\\\\\n\t 1\\\\\n\t 1\\\\\n\t 1\\\\\n\t 0\\\\\n\t 1\\\\\n\t 0\\\\\n\t 0\\\\\n\t 1\\\\\n\t 0\\\\\n\t 1\\\\\n\t 0\\\\\n\t 1\\\\\n\t 1\\\\\n\t 0\\\\\n\t 1\\\\\n\t 0\\\\\n\t 0\\\\\n\t 1\\\\\n\t 1\\\\\n\t 1\\\\\n\t 1\\\\\n\t 0\\\\\n\\end{tabular}\n",
            "text/plain": [
              "    .pred_class\n",
              "1   0          \n",
              "2   1          \n",
              "3   0          \n",
              "4   1          \n",
              "5   0          \n",
              "6   1          \n",
              "7   1          \n",
              "8   0          \n",
              "9   1          \n",
              "10  1          \n",
              "11  1          \n",
              "12  0          \n",
              "13  1          \n",
              "14  1          \n",
              "15  0          \n",
              "16  1          \n",
              "17  1          \n",
              "18  1          \n",
              "19  0          \n",
              "20  1          \n",
              "21  1          \n",
              "22  1          \n",
              "23  1          \n",
              "24  1          \n",
              "25  1          \n",
              "26  0          \n",
              "27  1          \n",
              "28  1          \n",
              "29  0          \n",
              "30  1          \n",
              "⋮   ⋮          \n",
              "685 1          \n",
              "686 1          \n",
              "687 1          \n",
              "688 0          \n",
              "689 1          \n",
              "690 1          \n",
              "691 1          \n",
              "692 0          \n",
              "693 1          \n",
              "694 1          \n",
              "695 1          \n",
              "696 0          \n",
              "697 1          \n",
              "698 0          \n",
              "699 0          \n",
              "700 1          \n",
              "701 0          \n",
              "702 1          \n",
              "703 0          \n",
              "704 1          \n",
              "705 1          \n",
              "706 0          \n",
              "707 1          \n",
              "708 0          \n",
              "709 0          \n",
              "710 1          \n",
              "711 1          \n",
              "712 1          \n",
              "713 1          \n",
              "714 0          "
            ]
          },
          "metadata": {}
        }
      ]
    }
  ]
}